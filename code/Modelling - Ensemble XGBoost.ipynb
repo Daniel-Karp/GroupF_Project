{
 "cells": [
  {
   "cell_type": "markdown",
   "metadata": {},
   "source": [
    "## Contents\n",
    "* read data\n",
    "* data normalisation\n",
    "* identify response variable and predictors\n",
    "* split into training and testing datasets\n",
    "* define the model\n",
    "* choose hyperparameters to tune\n",
    "* identify the best hyperparameters using gridsearch\n",
    "* make predictions based on these hyperparameters\n",
    "* assess model performance"
   ]
  },
  {
   "cell_type": "code",
   "execution_count": 3,
   "metadata": {},
   "outputs": [],
   "source": [
    "import os\n",
    "import pandas as pd\n",
    "import numpy as np\n",
    "import xgboost as xgb\n",
    "from sklearn.metrics import mean_absolute_error, mean_squared_error, r2_score, accuracy_score, precision_score, recall_score, f1_score\n",
    "from sklearn.model_selection import train_test_split, GridSearchCV\n",
    "from sklearn.preprocessing import MinMaxScaler "
   ]
  },
  {
   "cell_type": "code",
   "execution_count": 4,
   "metadata": {},
   "outputs": [],
   "source": [
    "base_dir = os.path.dirname(os.path.abspath(\"..\\data\"))\n",
    "path = os.path.join(base_dir, r\"data\")\n",
    "os.chdir(path) "
   ]
  },
  {
   "cell_type": "code",
   "execution_count": 5,
   "metadata": {},
   "outputs": [],
   "source": [
    "df = pd.read_csv(\"Cleaned data\\data.csv\")"
   ]
  },
  {
   "cell_type": "code",
   "execution_count": 6,
   "metadata": {},
   "outputs": [
    {
     "data": {
      "text/html": [
       "<div>\n",
       "<style scoped>\n",
       "    .dataframe tbody tr th:only-of-type {\n",
       "        vertical-align: middle;\n",
       "    }\n",
       "\n",
       "    .dataframe tbody tr th {\n",
       "        vertical-align: top;\n",
       "    }\n",
       "\n",
       "    .dataframe thead th {\n",
       "        text-align: right;\n",
       "    }\n",
       "</style>\n",
       "<table border=\"1\" class=\"dataframe\">\n",
       "  <thead>\n",
       "    <tr style=\"text-align: right;\">\n",
       "      <th></th>\n",
       "      <th>YEAR</th>\n",
       "      <th>MONTH</th>\n",
       "      <th>DAY</th>\n",
       "      <th>TOTALDEMAND</th>\n",
       "      <th>SOLAR</th>\n",
       "      <th>RRP</th>\n",
       "      <th>OUTPUT</th>\n",
       "      <th>HUMIDITYAVE</th>\n",
       "      <th>TEMPAVE</th>\n",
       "    </tr>\n",
       "  </thead>\n",
       "  <tbody>\n",
       "    <tr>\n",
       "      <th>0</th>\n",
       "      <td>2010</td>\n",
       "      <td>1</td>\n",
       "      <td>1</td>\n",
       "      <td>7793.463681</td>\n",
       "      <td>14.6</td>\n",
       "      <td>20.364894</td>\n",
       "      <td>1.53</td>\n",
       "      <td>0.675870</td>\n",
       "      <td>24.95</td>\n",
       "    </tr>\n",
       "    <tr>\n",
       "      <th>1</th>\n",
       "      <td>2010</td>\n",
       "      <td>1</td>\n",
       "      <td>1</td>\n",
       "      <td>7793.463681</td>\n",
       "      <td>14.6</td>\n",
       "      <td>20.364894</td>\n",
       "      <td>1.53</td>\n",
       "      <td>0.675870</td>\n",
       "      <td>24.95</td>\n",
       "    </tr>\n",
       "    <tr>\n",
       "      <th>2</th>\n",
       "      <td>2010</td>\n",
       "      <td>1</td>\n",
       "      <td>1</td>\n",
       "      <td>7793.463681</td>\n",
       "      <td>14.6</td>\n",
       "      <td>20.364894</td>\n",
       "      <td>1.53</td>\n",
       "      <td>0.735918</td>\n",
       "      <td>24.95</td>\n",
       "    </tr>\n",
       "    <tr>\n",
       "      <th>3</th>\n",
       "      <td>2010</td>\n",
       "      <td>1</td>\n",
       "      <td>1</td>\n",
       "      <td>7793.463681</td>\n",
       "      <td>14.6</td>\n",
       "      <td>20.364894</td>\n",
       "      <td>1.53</td>\n",
       "      <td>0.832766</td>\n",
       "      <td>24.95</td>\n",
       "    </tr>\n",
       "    <tr>\n",
       "      <th>4</th>\n",
       "      <td>2010</td>\n",
       "      <td>1</td>\n",
       "      <td>1</td>\n",
       "      <td>7793.463681</td>\n",
       "      <td>14.6</td>\n",
       "      <td>20.364894</td>\n",
       "      <td>1.53</td>\n",
       "      <td>0.706042</td>\n",
       "      <td>24.95</td>\n",
       "    </tr>\n",
       "  </tbody>\n",
       "</table>\n",
       "</div>"
      ],
      "text/plain": [
       "   YEAR  MONTH  DAY  TOTALDEMAND  SOLAR        RRP  OUTPUT  HUMIDITYAVE  \\\n",
       "0  2010      1    1  7793.463681   14.6  20.364894    1.53     0.675870   \n",
       "1  2010      1    1  7793.463681   14.6  20.364894    1.53     0.675870   \n",
       "2  2010      1    1  7793.463681   14.6  20.364894    1.53     0.735918   \n",
       "3  2010      1    1  7793.463681   14.6  20.364894    1.53     0.832766   \n",
       "4  2010      1    1  7793.463681   14.6  20.364894    1.53     0.706042   \n",
       "\n",
       "   TEMPAVE  \n",
       "0    24.95  \n",
       "1    24.95  \n",
       "2    24.95  \n",
       "3    24.95  \n",
       "4    24.95  "
      ]
     },
     "execution_count": 6,
     "metadata": {},
     "output_type": "execute_result"
    }
   ],
   "source": [
    "# drop columns\n",
    "df = df.drop(columns=[\n",
    "    \"DATE\",\"MONTHDATE\",\"FORECASTDEMAND\",\"MIN\",\"ACCMIN\",\"MAX\",\"ACCMAX\",\"RAINPERIOD\",\"QUANTITY\",\"QUANTITYMONTHCUM\",\"QUANTITYTOTALCUM\",\"HUMIDITYMIN\",\"HUMIDITYMAX\", \"RAIN\"\n",
    "], errors=\"ignore\")\n",
    "df.head()"
   ]
  },
  {
   "cell_type": "code",
   "execution_count": 7,
   "metadata": {
    "scrolled": true
   },
   "outputs": [
    {
     "data": {
      "text/html": [
       "<div>\n",
       "<style scoped>\n",
       "    .dataframe tbody tr th:only-of-type {\n",
       "        vertical-align: middle;\n",
       "    }\n",
       "\n",
       "    .dataframe tbody tr th {\n",
       "        vertical-align: top;\n",
       "    }\n",
       "\n",
       "    .dataframe thead th {\n",
       "        text-align: right;\n",
       "    }\n",
       "</style>\n",
       "<table border=\"1\" class=\"dataframe\">\n",
       "  <thead>\n",
       "    <tr style=\"text-align: right;\">\n",
       "      <th></th>\n",
       "      <th>YEAR</th>\n",
       "      <th>MONTH</th>\n",
       "      <th>DAY</th>\n",
       "      <th>TOTALDEMAND</th>\n",
       "      <th>SOLAR</th>\n",
       "      <th>RRP</th>\n",
       "      <th>OUTPUT</th>\n",
       "      <th>HUMIDITYAVE</th>\n",
       "      <th>TEMPAVE</th>\n",
       "    </tr>\n",
       "  </thead>\n",
       "  <tbody>\n",
       "    <tr>\n",
       "      <th>0</th>\n",
       "      <td>0.0</td>\n",
       "      <td>0.0</td>\n",
       "      <td>0.0</td>\n",
       "      <td>0.319521</td>\n",
       "      <td>0.409639</td>\n",
       "      <td>0.001964</td>\n",
       "      <td>0.003338</td>\n",
       "      <td>0.613030</td>\n",
       "      <td>0.657609</td>\n",
       "    </tr>\n",
       "    <tr>\n",
       "      <th>1</th>\n",
       "      <td>0.0</td>\n",
       "      <td>0.0</td>\n",
       "      <td>0.0</td>\n",
       "      <td>0.319521</td>\n",
       "      <td>0.409639</td>\n",
       "      <td>0.001964</td>\n",
       "      <td>0.003338</td>\n",
       "      <td>0.613030</td>\n",
       "      <td>0.657609</td>\n",
       "    </tr>\n",
       "    <tr>\n",
       "      <th>2</th>\n",
       "      <td>0.0</td>\n",
       "      <td>0.0</td>\n",
       "      <td>0.0</td>\n",
       "      <td>0.319521</td>\n",
       "      <td>0.409639</td>\n",
       "      <td>0.001964</td>\n",
       "      <td>0.003338</td>\n",
       "      <td>0.688724</td>\n",
       "      <td>0.657609</td>\n",
       "    </tr>\n",
       "    <tr>\n",
       "      <th>3</th>\n",
       "      <td>0.0</td>\n",
       "      <td>0.0</td>\n",
       "      <td>0.0</td>\n",
       "      <td>0.319521</td>\n",
       "      <td>0.409639</td>\n",
       "      <td>0.001964</td>\n",
       "      <td>0.003338</td>\n",
       "      <td>0.810804</td>\n",
       "      <td>0.657609</td>\n",
       "    </tr>\n",
       "    <tr>\n",
       "      <th>4</th>\n",
       "      <td>0.0</td>\n",
       "      <td>0.0</td>\n",
       "      <td>0.0</td>\n",
       "      <td>0.319521</td>\n",
       "      <td>0.409639</td>\n",
       "      <td>0.001964</td>\n",
       "      <td>0.003338</td>\n",
       "      <td>0.651063</td>\n",
       "      <td>0.657609</td>\n",
       "    </tr>\n",
       "  </tbody>\n",
       "</table>\n",
       "</div>"
      ],
      "text/plain": [
       "   YEAR  MONTH  DAY  TOTALDEMAND     SOLAR       RRP    OUTPUT  HUMIDITYAVE  \\\n",
       "0   0.0    0.0  0.0     0.319521  0.409639  0.001964  0.003338     0.613030   \n",
       "1   0.0    0.0  0.0     0.319521  0.409639  0.001964  0.003338     0.613030   \n",
       "2   0.0    0.0  0.0     0.319521  0.409639  0.001964  0.003338     0.688724   \n",
       "3   0.0    0.0  0.0     0.319521  0.409639  0.001964  0.003338     0.810804   \n",
       "4   0.0    0.0  0.0     0.319521  0.409639  0.001964  0.003338     0.651063   \n",
       "\n",
       "    TEMPAVE  \n",
       "0  0.657609  \n",
       "1  0.657609  \n",
       "2  0.657609  \n",
       "3  0.657609  \n",
       "4  0.657609  "
      ]
     },
     "execution_count": 7,
     "metadata": {},
     "output_type": "execute_result"
    }
   ],
   "source": [
    "# define scaler and transform data\n",
    "scaler = MinMaxScaler()\n",
    "data = pd.DataFrame(scaler.fit_transform(df), columns=df.columns)\n",
    "data.head() "
   ]
  },
  {
   "cell_type": "code",
   "execution_count": 8,
   "metadata": {},
   "outputs": [],
   "source": [
    "# identify response variable and predictors\n",
    "X = data.drop(['TOTALDEMAND'], axis=1)\n",
    "y = data['TOTALDEMAND'] "
   ]
  },
  {
   "cell_type": "code",
   "execution_count": 9,
   "metadata": {},
   "outputs": [],
   "source": [
    "# train test split\n",
    "X_train, X_test, y_train, y_test = train_test_split(X, y, test_size=0.2, random_state=42)"
   ]
  },
  {
   "cell_type": "code",
   "execution_count": 14,
   "metadata": {},
   "outputs": [],
   "source": [
    "# define model\n",
    "model = xgb.XGBRegressor()"
   ]
  },
  {
   "cell_type": "code",
   "execution_count": 15,
   "metadata": {},
   "outputs": [],
   "source": [
    "# hyperparameters\n",
    "params = {\n",
    "    'max_depth': [3, 5, 7],\n",
    "    'learning_rate': [0.1, 0.01, 0.001],\n",
    "    'n_estimators': [100, 500, 1000]\n",
    "}"
   ]
  },
  {
   "cell_type": "code",
   "execution_count": 16,
   "metadata": {},
   "outputs": [],
   "source": [
    "# identify best hyperparameters using gridsearch\n",
    "grid = GridSearchCV(model, params, cv=5, n_jobs=-1)\n",
    "grid.fit(X_train, y_train)"
   ]
  },
  {
   "cell_type": "code",
   "execution_count": null,
   "metadata": {},
   "outputs": [
    {
     "name": "stdout",
     "output_type": "stream",
     "text": [
      "{'learning_rate': 0.1, 'max_depth': 7, 'n_estimators': 1000}\n"
     ]
    }
   ],
   "source": [
    "# best hyperparameters and score\n",
    "print(\"Best Hyperparameters: \", grid.best_params_)\n",
    "print(\"Best Score: \", grid.best_score_)"
   ]
  },
  {
   "cell_type": "code",
   "execution_count": null,
   "metadata": {},
   "outputs": [
    {
     "data": {
      "text/plain": [
       "GradientBoostingRegressor(alpha=0.9, criterion='friedman_mse', init=None,\n",
       "                          learning_rate=0.1, loss='ls', max_depth=7,\n",
       "                          max_features=None, max_leaf_nodes=None,\n",
       "                          min_impurity_decrease=0.0, min_impurity_split=None,\n",
       "                          min_samples_leaf=1, min_samples_split=2,\n",
       "                          min_weight_fraction_leaf=0.0, n_estimators=1000,\n",
       "                          n_iter_no_change=None, presort='auto',\n",
       "                          random_state=None, subsample=1.0, tol=0.0001,\n",
       "                          validation_fraction=0.1, verbose=0, warm_start=False)"
      ]
     },
     "execution_count": 12,
     "metadata": {},
     "output_type": "execute_result"
    }
   ],
   "source": [
    "# train model using best hyperparameters\n",
    "best_model = grid.best_estimator_\n",
    "best_model.fit(X_train, y_train)"
   ]
  },
  {
   "cell_type": "code",
   "execution_count": null,
   "metadata": {},
   "outputs": [],
   "source": [
    "# predictions on test data\n",
    "y_pred = best_model.predict(X_test)"
   ]
  },
  {
   "cell_type": "code",
   "execution_count": null,
   "metadata": {},
   "outputs": [
    {
     "ename": "NameError",
     "evalue": "name 'y_pred' is not defined",
     "output_type": "error",
     "traceback": [
      "\u001b[1;31m---------------------------------------------------------------------------\u001b[0m",
      "\u001b[1;31mNameError\u001b[0m                                 Traceback (most recent call last)",
      "\u001b[1;32m<ipython-input-13-adddb6d785e0>\u001b[0m in \u001b[0;36m<module>\u001b[1;34m\u001b[0m\n\u001b[0;32m      1\u001b[0m \u001b[1;31m# print model performance\u001b[0m\u001b[1;33m\u001b[0m\u001b[1;33m\u001b[0m\u001b[1;33m\u001b[0m\u001b[0m\n\u001b[1;32m----> 2\u001b[1;33m \u001b[0mmae\u001b[0m \u001b[1;33m=\u001b[0m \u001b[0mmean_absolute_error\u001b[0m\u001b[1;33m(\u001b[0m\u001b[0my_test\u001b[0m\u001b[1;33m,\u001b[0m \u001b[0my_pred\u001b[0m\u001b[1;33m)\u001b[0m\u001b[1;33m\u001b[0m\u001b[1;33m\u001b[0m\u001b[0m\n\u001b[0m\u001b[0;32m      3\u001b[0m \u001b[0mmse\u001b[0m \u001b[1;33m=\u001b[0m \u001b[0mmean_squared_error\u001b[0m\u001b[1;33m(\u001b[0m\u001b[0my_test\u001b[0m\u001b[1;33m,\u001b[0m \u001b[0my_pred\u001b[0m\u001b[1;33m)\u001b[0m\u001b[1;33m\u001b[0m\u001b[1;33m\u001b[0m\u001b[0m\n\u001b[0;32m      4\u001b[0m \u001b[0mrmse\u001b[0m \u001b[1;33m=\u001b[0m \u001b[0mnp\u001b[0m\u001b[1;33m.\u001b[0m\u001b[0msqrt\u001b[0m\u001b[1;33m(\u001b[0m\u001b[0mmse\u001b[0m\u001b[1;33m)\u001b[0m\u001b[1;33m\u001b[0m\u001b[1;33m\u001b[0m\u001b[0m\n\u001b[0;32m      5\u001b[0m \u001b[0mr2\u001b[0m \u001b[1;33m=\u001b[0m \u001b[0mr2_score\u001b[0m\u001b[1;33m(\u001b[0m\u001b[0my_test\u001b[0m\u001b[1;33m,\u001b[0m \u001b[0my_pred\u001b[0m\u001b[1;33m)\u001b[0m\u001b[1;33m\u001b[0m\u001b[1;33m\u001b[0m\u001b[0m\n",
      "\u001b[1;31mNameError\u001b[0m: name 'y_pred' is not defined"
     ]
    }
   ],
   "source": [
    "# print model performance\n",
    "mae = mean_absolute_error(y_test, y_pred)\n",
    "mse = mean_squared_error(y_test, y_pred)\n",
    "rmse = np.sqrt(mse)\n",
    "r2 = r2_score(y_test, y_pred)\n",
    "accuracy = accuracy_score(y_test, y_pred)\n",
    "precision = precision_score(y_test, y_pred)\n",
    "recall = recall_score(y_test, y_pred)\n",
    "f1 = f1_score(y_test, y_pred)\n",
    "\n",
    "print(\"Mean Absolute Error: {:.2f}\".format(mae))\n",
    "print(\"Mean Squared Error: {:.2f}\".format(mse))\n",
    "print(\"Root Mean Squared Error: {:.2f}\".format(rmse))\n",
    "print(\"R-squared: {:.2f}\".format(r2))\n",
    "print('Accuracy: {:.2f}', format(accuracy))\n",
    "print('Precision: {:.2f}', format(precision))\n",
    "print('Recall: {:.2f}', format(recall))\n",
    "print('F1-score: {:.2f}', format(f1))"
   ]
  },
  {
   "cell_type": "code",
   "execution_count": null,
   "metadata": {},
   "outputs": [],
   "source": []
  },
  {
   "cell_type": "code",
   "execution_count": null,
   "metadata": {},
   "outputs": [],
   "source": []
  },
  {
   "cell_type": "code",
   "execution_count": null,
   "metadata": {},
   "outputs": [],
   "source": []
  }
 ],
 "metadata": {
  "kernelspec": {
   "display_name": "Python 3",
   "language": "python",
   "name": "python3"
  },
  "language_info": {
   "codemirror_mode": {
    "name": "ipython",
    "version": 3
   },
   "file_extension": ".py",
   "mimetype": "text/x-python",
   "name": "python",
   "nbconvert_exporter": "python",
   "pygments_lexer": "ipython3",
   "version": "3.7.3"
  }
 },
 "nbformat": 4,
 "nbformat_minor": 2
}

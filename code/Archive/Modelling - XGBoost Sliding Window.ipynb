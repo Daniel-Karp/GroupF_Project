{
 "cells": [
  {
   "cell_type": "markdown",
   "metadata": {},
   "source": [
    "## Contents\n",
    "* read data\n",
    "* data normalisation\n",
    "* identify response variable and predictors\n",
    "* split into training and testing datasets\n",
    "* define the model\n",
    "* choose hyperparameters to tune\n",
    "* identify the best hyperparameters using gridsearch\n",
    "* make predictions based on these hyperparameters\n",
    "* assess model performance"
   ]
  },
  {
   "cell_type": "code",
   "execution_count": 9,
   "metadata": {},
   "outputs": [],
   "source": [
    "import os\n",
    "import pandas as pd\n",
    "import numpy as np\n",
    "import xgboost as xgb\n",
    "from sklearn.metrics import mean_absolute_error, mean_squared_error, r2_score, accuracy_score, precision_score, recall_score, f1_score\n",
    "from sklearn.model_selection import train_test_split, GridSearchCV\n",
    "from sklearn.preprocessing import MinMaxScaler, OneHotEncoder\n",
    "import warnings\n",
    "warnings.filterwarnings(\"ignore\")"
   ]
  },
  {
   "cell_type": "code",
   "execution_count": 49,
   "metadata": {},
   "outputs": [],
   "source": [
    "base_dir = os.path.dirname(os.path.abspath(\"..\\data\"))\n",
    "path = os.path.join(base_dir, r\"data\")\n",
    "os.chdir(path) "
   ]
  },
  {
   "cell_type": "code",
   "execution_count": 50,
   "metadata": {},
   "outputs": [],
   "source": [
    "df = pd.read_csv(\"Cleaned data\\data.csv\")"
   ]
  },
  {
   "cell_type": "code",
   "execution_count": 51,
   "metadata": {},
   "outputs": [
    {
     "data": {
      "text/html": [
       "<div>\n",
       "<style scoped>\n",
       "    .dataframe tbody tr th:only-of-type {\n",
       "        vertical-align: middle;\n",
       "    }\n",
       "\n",
       "    .dataframe tbody tr th {\n",
       "        vertical-align: top;\n",
       "    }\n",
       "\n",
       "    .dataframe thead th {\n",
       "        text-align: right;\n",
       "    }\n",
       "</style>\n",
       "<table border=\"1\" class=\"dataframe\">\n",
       "  <thead>\n",
       "    <tr style=\"text-align: right;\">\n",
       "      <th></th>\n",
       "      <th>YEAR</th>\n",
       "      <th>MONTH</th>\n",
       "      <th>DAY</th>\n",
       "      <th>HUMIDITY</th>\n",
       "      <th>WINDSPEED</th>\n",
       "      <th>TOTALDEMAND</th>\n",
       "      <th>HOLIDAY</th>\n",
       "      <th>SOLAR</th>\n",
       "      <th>RRP</th>\n",
       "      <th>OUTPUT</th>\n",
       "      <th>WEEKDAY</th>\n",
       "      <th>TEMPAVE</th>\n",
       "    </tr>\n",
       "  </thead>\n",
       "  <tbody>\n",
       "    <tr>\n",
       "      <th>0</th>\n",
       "      <td>2016</td>\n",
       "      <td>1</td>\n",
       "      <td>1</td>\n",
       "      <td>0.656341</td>\n",
       "      <td>15.902439</td>\n",
       "      <td>6853.633437</td>\n",
       "      <td>1.0</td>\n",
       "      <td>32.2</td>\n",
       "      <td>38.472917</td>\n",
       "      <td>46.93</td>\n",
       "      <td>4</td>\n",
       "      <td>21.95</td>\n",
       "    </tr>\n",
       "    <tr>\n",
       "      <th>1</th>\n",
       "      <td>2016</td>\n",
       "      <td>1</td>\n",
       "      <td>2</td>\n",
       "      <td>0.656341</td>\n",
       "      <td>15.902439</td>\n",
       "      <td>6727.613958</td>\n",
       "      <td>0.0</td>\n",
       "      <td>21.7</td>\n",
       "      <td>36.907292</td>\n",
       "      <td>46.93</td>\n",
       "      <td>5</td>\n",
       "      <td>21.00</td>\n",
       "    </tr>\n",
       "    <tr>\n",
       "      <th>2</th>\n",
       "      <td>2016</td>\n",
       "      <td>1</td>\n",
       "      <td>3</td>\n",
       "      <td>0.688837</td>\n",
       "      <td>14.488372</td>\n",
       "      <td>6616.406076</td>\n",
       "      <td>0.0</td>\n",
       "      <td>10.3</td>\n",
       "      <td>31.997083</td>\n",
       "      <td>46.93</td>\n",
       "      <td>6</td>\n",
       "      <td>21.55</td>\n",
       "    </tr>\n",
       "    <tr>\n",
       "      <th>3</th>\n",
       "      <td>2016</td>\n",
       "      <td>1</td>\n",
       "      <td>4</td>\n",
       "      <td>0.679545</td>\n",
       "      <td>22.477273</td>\n",
       "      <td>7367.750278</td>\n",
       "      <td>0.0</td>\n",
       "      <td>6.4</td>\n",
       "      <td>33.424583</td>\n",
       "      <td>46.93</td>\n",
       "      <td>0</td>\n",
       "      <td>20.90</td>\n",
       "    </tr>\n",
       "    <tr>\n",
       "      <th>4</th>\n",
       "      <td>2016</td>\n",
       "      <td>1</td>\n",
       "      <td>5</td>\n",
       "      <td>0.768837</td>\n",
       "      <td>22.581395</td>\n",
       "      <td>7462.242014</td>\n",
       "      <td>0.0</td>\n",
       "      <td>4.4</td>\n",
       "      <td>33.053958</td>\n",
       "      <td>46.93</td>\n",
       "      <td>1</td>\n",
       "      <td>19.05</td>\n",
       "    </tr>\n",
       "  </tbody>\n",
       "</table>\n",
       "</div>"
      ],
      "text/plain": [
       "   YEAR  MONTH  DAY  HUMIDITY  WINDSPEED  TOTALDEMAND  HOLIDAY  SOLAR  \\\n",
       "0  2016      1    1  0.656341  15.902439  6853.633437      1.0   32.2   \n",
       "1  2016      1    2  0.656341  15.902439  6727.613958      0.0   21.7   \n",
       "2  2016      1    3  0.688837  14.488372  6616.406076      0.0   10.3   \n",
       "3  2016      1    4  0.679545  22.477273  7367.750278      0.0    6.4   \n",
       "4  2016      1    5  0.768837  22.581395  7462.242014      0.0    4.4   \n",
       "\n",
       "         RRP  OUTPUT  WEEKDAY  TEMPAVE  \n",
       "0  38.472917   46.93        4    21.95  \n",
       "1  36.907292   46.93        5    21.00  \n",
       "2  31.997083   46.93        6    21.55  \n",
       "3  33.424583   46.93        0    20.90  \n",
       "4  33.053958   46.93        1    19.05  "
      ]
     },
     "execution_count": 51,
     "metadata": {},
     "output_type": "execute_result"
    }
   ],
   "source": [
    "# drop columns\n",
    "df = df.drop(columns=[\n",
    "    \"DATE\",\"MONTHDATE\",\"FORECASTDEMAND\",\"MIN\",\"ACCMIN\",\"MAX\",\"ACCMAX\",\"RAINPERIOD\",\"QUANTITY\",\"QUANTITYMONTHCUM\",\"QUANTITYTOTALCUM\",\"HUMIDITYMIN\",\"HUMIDITYMAX\", \"RAIN\", \"WEEKEND\"\n",
    "], errors=\"ignore\")\n",
    "df.head()"
   ]
  },
  {
   "cell_type": "code",
   "execution_count": 52,
   "metadata": {},
   "outputs": [
    {
     "data": {
      "text/html": [
       "<div>\n",
       "<style scoped>\n",
       "    .dataframe tbody tr th:only-of-type {\n",
       "        vertical-align: middle;\n",
       "    }\n",
       "\n",
       "    .dataframe tbody tr th {\n",
       "        vertical-align: top;\n",
       "    }\n",
       "\n",
       "    .dataframe thead th {\n",
       "        text-align: right;\n",
       "    }\n",
       "</style>\n",
       "<table border=\"1\" class=\"dataframe\">\n",
       "  <thead>\n",
       "    <tr style=\"text-align: right;\">\n",
       "      <th></th>\n",
       "      <th>YEAR</th>\n",
       "      <th>MONTH</th>\n",
       "      <th>DAY</th>\n",
       "      <th>HUMIDITY</th>\n",
       "      <th>WINDSPEED</th>\n",
       "      <th>TOTALDEMAND</th>\n",
       "      <th>HOLIDAY</th>\n",
       "      <th>SOLAR</th>\n",
       "      <th>RRP</th>\n",
       "      <th>OUTPUT</th>\n",
       "      <th>TEMPAVE</th>\n",
       "      <th>MON</th>\n",
       "      <th>TUE</th>\n",
       "      <th>WED</th>\n",
       "      <th>THU</th>\n",
       "      <th>FRI</th>\n",
       "      <th>SAT</th>\n",
       "      <th>SUN</th>\n",
       "    </tr>\n",
       "  </thead>\n",
       "  <tbody>\n",
       "    <tr>\n",
       "      <th>0</th>\n",
       "      <td>2016</td>\n",
       "      <td>1</td>\n",
       "      <td>1</td>\n",
       "      <td>0.656341</td>\n",
       "      <td>15.902439</td>\n",
       "      <td>6853.633437</td>\n",
       "      <td>1.0</td>\n",
       "      <td>32.2</td>\n",
       "      <td>38.472917</td>\n",
       "      <td>46.93</td>\n",
       "      <td>21.95</td>\n",
       "      <td>0.0</td>\n",
       "      <td>0.0</td>\n",
       "      <td>0.0</td>\n",
       "      <td>0.0</td>\n",
       "      <td>1.0</td>\n",
       "      <td>0.0</td>\n",
       "      <td>0.0</td>\n",
       "    </tr>\n",
       "    <tr>\n",
       "      <th>1</th>\n",
       "      <td>2016</td>\n",
       "      <td>1</td>\n",
       "      <td>2</td>\n",
       "      <td>0.656341</td>\n",
       "      <td>15.902439</td>\n",
       "      <td>6727.613958</td>\n",
       "      <td>0.0</td>\n",
       "      <td>21.7</td>\n",
       "      <td>36.907292</td>\n",
       "      <td>46.93</td>\n",
       "      <td>21.00</td>\n",
       "      <td>0.0</td>\n",
       "      <td>0.0</td>\n",
       "      <td>0.0</td>\n",
       "      <td>0.0</td>\n",
       "      <td>0.0</td>\n",
       "      <td>1.0</td>\n",
       "      <td>0.0</td>\n",
       "    </tr>\n",
       "    <tr>\n",
       "      <th>2</th>\n",
       "      <td>2016</td>\n",
       "      <td>1</td>\n",
       "      <td>3</td>\n",
       "      <td>0.688837</td>\n",
       "      <td>14.488372</td>\n",
       "      <td>6616.406076</td>\n",
       "      <td>0.0</td>\n",
       "      <td>10.3</td>\n",
       "      <td>31.997083</td>\n",
       "      <td>46.93</td>\n",
       "      <td>21.55</td>\n",
       "      <td>0.0</td>\n",
       "      <td>0.0</td>\n",
       "      <td>0.0</td>\n",
       "      <td>0.0</td>\n",
       "      <td>0.0</td>\n",
       "      <td>0.0</td>\n",
       "      <td>1.0</td>\n",
       "    </tr>\n",
       "    <tr>\n",
       "      <th>3</th>\n",
       "      <td>2016</td>\n",
       "      <td>1</td>\n",
       "      <td>4</td>\n",
       "      <td>0.679545</td>\n",
       "      <td>22.477273</td>\n",
       "      <td>7367.750278</td>\n",
       "      <td>0.0</td>\n",
       "      <td>6.4</td>\n",
       "      <td>33.424583</td>\n",
       "      <td>46.93</td>\n",
       "      <td>20.90</td>\n",
       "      <td>1.0</td>\n",
       "      <td>0.0</td>\n",
       "      <td>0.0</td>\n",
       "      <td>0.0</td>\n",
       "      <td>0.0</td>\n",
       "      <td>0.0</td>\n",
       "      <td>0.0</td>\n",
       "    </tr>\n",
       "    <tr>\n",
       "      <th>4</th>\n",
       "      <td>2016</td>\n",
       "      <td>1</td>\n",
       "      <td>5</td>\n",
       "      <td>0.768837</td>\n",
       "      <td>22.581395</td>\n",
       "      <td>7462.242014</td>\n",
       "      <td>0.0</td>\n",
       "      <td>4.4</td>\n",
       "      <td>33.053958</td>\n",
       "      <td>46.93</td>\n",
       "      <td>19.05</td>\n",
       "      <td>0.0</td>\n",
       "      <td>1.0</td>\n",
       "      <td>0.0</td>\n",
       "      <td>0.0</td>\n",
       "      <td>0.0</td>\n",
       "      <td>0.0</td>\n",
       "      <td>0.0</td>\n",
       "    </tr>\n",
       "  </tbody>\n",
       "</table>\n",
       "</div>"
      ],
      "text/plain": [
       "   YEAR  MONTH  DAY  HUMIDITY  WINDSPEED  TOTALDEMAND  HOLIDAY  SOLAR  \\\n",
       "0  2016      1    1  0.656341  15.902439  6853.633437      1.0   32.2   \n",
       "1  2016      1    2  0.656341  15.902439  6727.613958      0.0   21.7   \n",
       "2  2016      1    3  0.688837  14.488372  6616.406076      0.0   10.3   \n",
       "3  2016      1    4  0.679545  22.477273  7367.750278      0.0    6.4   \n",
       "4  2016      1    5  0.768837  22.581395  7462.242014      0.0    4.4   \n",
       "\n",
       "         RRP  OUTPUT  TEMPAVE  MON  TUE  WED  THU  FRI  SAT  SUN  \n",
       "0  38.472917   46.93    21.95  0.0  0.0  0.0  0.0  1.0  0.0  0.0  \n",
       "1  36.907292   46.93    21.00  0.0  0.0  0.0  0.0  0.0  1.0  0.0  \n",
       "2  31.997083   46.93    21.55  0.0  0.0  0.0  0.0  0.0  0.0  1.0  \n",
       "3  33.424583   46.93    20.90  1.0  0.0  0.0  0.0  0.0  0.0  0.0  \n",
       "4  33.053958   46.93    19.05  0.0  1.0  0.0  0.0  0.0  0.0  0.0  "
      ]
     },
     "execution_count": 52,
     "metadata": {},
     "output_type": "execute_result"
    }
   ],
   "source": [
    "#one hot encoding weekday\n",
    "def one_hot_encode(df, col, names):\n",
    "    array = np.array(df[col])\n",
    "    integer_encoded = array.reshape(len(array), 1)\n",
    "    onehotencoder = OneHotEncoder()\n",
    "    onehot_encoded = onehotencoder.fit_transform(integer_encoded).toarray()\n",
    "    df_encoded = pd.DataFrame(onehot_encoded, columns=names)\n",
    "    df = pd.concat([df, df_encoded], axis=1)\n",
    "    df = df.drop(columns=[col], errors=\"ignore\")\n",
    "    return df\n",
    "\n",
    "df = one_hot_encode(df, col=\"WEEKDAY\", names=['MON', 'TUE', 'WED', 'THU', 'FRI', 'SAT', 'SUN'])\n",
    "df.head()"
   ]
  },
  {
   "cell_type": "code",
   "execution_count": 53,
   "metadata": {},
   "outputs": [],
   "source": [
    "def sliding_window(data, window_size, target):\n",
    "    X = []\n",
    "    y = []\n",
    "    for i in range(len(data) - window_size):\n",
    "        X.append(data.iloc[i:i+window_size].values.flatten())\n",
    "        y.append(data.iloc[i+window_size][target])\n",
    "    return X, y "
   ]
  },
  {
   "cell_type": "code",
   "execution_count": 115,
   "metadata": {},
   "outputs": [],
   "source": [
    "# apply sliding window technique and identify response variable and predictors\n",
    "# look back X number of days, results in X*18 predictors (where there are 18 variables originally) \n",
    "# be careful of the curse of dimensionality here, e.g. 50 days results in 900 predictors\n",
    "days = 10\n",
    "X, y = sliding_window(data=df, window_size=days, target=\"TOTALDEMAND\") "
   ]
  },
  {
   "cell_type": "code",
   "execution_count": 116,
   "metadata": {},
   "outputs": [],
   "source": [
    "# train test split - use last year to train\n",
    "train_year = 2022\n",
    "train_len = len(df[df[\"YEAR\"]==2022])\n",
    "X_train, X_test = X[:train_len], X[train_len:]\n",
    "y_train, y_test = y[:train_len], y[train_len:]"
   ]
  },
  {
   "cell_type": "code",
   "execution_count": 117,
   "metadata": {},
   "outputs": [],
   "source": [
    "# define scaler and transform data\n",
    "scaler = MinMaxScaler()\n",
    "X_train = pd.DataFrame(scaler.fit_transform(X_train))\n",
    "X_test = pd.DataFrame(scaler.fit_transform(X_test))"
   ]
  },
  {
   "cell_type": "code",
   "execution_count": 118,
   "metadata": {},
   "outputs": [],
   "source": [
    "# Define the XGBoost model\n",
    "model = xgb.XGBRegressor()"
   ]
  },
  {
   "cell_type": "code",
   "execution_count": 119,
   "metadata": {},
   "outputs": [],
   "source": [
    "# hyperparameters\n",
    "params = {\n",
    "    'max_depth': [3, 4, 5],\n",
    "    'learning_rate': [0.5, 0.2, 0.1],\n",
    "    'n_estimators': [30, 50, 70, 90, 100]\n",
    "}"
   ]
  },
  {
   "cell_type": "code",
   "execution_count": 120,
   "metadata": {},
   "outputs": [
    {
     "data": {
      "text/plain": [
       "GridSearchCV(cv=5,\n",
       "             estimator=XGBRegressor(base_score=None, booster=None,\n",
       "                                    callbacks=None, colsample_bylevel=None,\n",
       "                                    colsample_bynode=None,\n",
       "                                    colsample_bytree=None,\n",
       "                                    early_stopping_rounds=None,\n",
       "                                    enable_categorical=False, eval_metric=None,\n",
       "                                    gamma=None, gpu_id=None, grow_policy=None,\n",
       "                                    importance_type=None,\n",
       "                                    interaction_constraints=None,\n",
       "                                    learning_rate=None, max_bin=None,\n",
       "                                    max_cat...onehot=None, max_delta_step=None,\n",
       "                                    max_depth=None, max_leaves=None,\n",
       "                                    min_child_weight=None, missing=nan,\n",
       "                                    monotone_constraints=None, n_estimators=100,\n",
       "                                    n_jobs=None, num_parallel_tree=None,\n",
       "                                    predictor=None, random_state=None,\n",
       "                                    reg_alpha=None, reg_lambda=None, ...),\n",
       "             n_jobs=-1,\n",
       "             param_grid={'learning_rate': [0.5, 0.2, 0.1],\n",
       "                         'max_depth': [3, 4, 5],\n",
       "                         'n_estimators': [30, 50, 70, 90, 100]})"
      ]
     },
     "execution_count": 120,
     "metadata": {},
     "output_type": "execute_result"
    }
   ],
   "source": [
    "# identify best hyperparameters using gridsearch\n",
    "grid = GridSearchCV(model, params, cv=5, n_jobs=-1)\n",
    "grid.fit(X_train, y_train) "
   ]
  },
  {
   "cell_type": "code",
   "execution_count": 121,
   "metadata": {},
   "outputs": [
    {
     "name": "stdout",
     "output_type": "stream",
     "text": [
      "------  All Results ------- \n",
      "      0.389 (+/-0.291) for {'learning_rate': 0.5, 'max_depth': 3, 'n_estimators': 30}\n",
      "      0.387 (+/-0.289) for {'learning_rate': 0.5, 'max_depth': 3, 'n_estimators': 50}\n",
      "      0.388 (+/-0.287) for {'learning_rate': 0.5, 'max_depth': 3, 'n_estimators': 70}\n",
      "      0.387 (+/-0.286) for {'learning_rate': 0.5, 'max_depth': 3, 'n_estimators': 90}\n",
      "      0.388 (+/-0.286) for {'learning_rate': 0.5, 'max_depth': 3, 'n_estimators': 100}\n",
      "      0.280 (+/-0.744) for {'learning_rate': 0.5, 'max_depth': 4, 'n_estimators': 30}\n",
      "      0.279 (+/-0.743) for {'learning_rate': 0.5, 'max_depth': 4, 'n_estimators': 50}\n",
      "      0.280 (+/-0.742) for {'learning_rate': 0.5, 'max_depth': 4, 'n_estimators': 70}\n",
      "      0.280 (+/-0.742) for {'learning_rate': 0.5, 'max_depth': 4, 'n_estimators': 90}\n",
      "      0.280 (+/-0.742) for {'learning_rate': 0.5, 'max_depth': 4, 'n_estimators': 100}\n",
      "      0.229 (+/-0.643) for {'learning_rate': 0.5, 'max_depth': 5, 'n_estimators': 30}\n",
      "      0.229 (+/-0.643) for {'learning_rate': 0.5, 'max_depth': 5, 'n_estimators': 50}\n",
      "      0.229 (+/-0.643) for {'learning_rate': 0.5, 'max_depth': 5, 'n_estimators': 70}\n",
      "      0.229 (+/-0.643) for {'learning_rate': 0.5, 'max_depth': 5, 'n_estimators': 90}\n",
      "      0.229 (+/-0.643) for {'learning_rate': 0.5, 'max_depth': 5, 'n_estimators': 100}\n",
      "      0.427 (+/-0.630) for {'learning_rate': 0.2, 'max_depth': 3, 'n_estimators': 30}\n",
      "      0.456 (+/-0.511) for {'learning_rate': 0.2, 'max_depth': 3, 'n_estimators': 50}\n",
      "      0.454 (+/-0.509) for {'learning_rate': 0.2, 'max_depth': 3, 'n_estimators': 70}\n",
      "      0.453 (+/-0.505) for {'learning_rate': 0.2, 'max_depth': 3, 'n_estimators': 90}\n",
      "      0.452 (+/-0.505) for {'learning_rate': 0.2, 'max_depth': 3, 'n_estimators': 100}\n",
      "      0.367 (+/-0.833) for {'learning_rate': 0.2, 'max_depth': 4, 'n_estimators': 30}\n",
      "      0.391 (+/-0.756) for {'learning_rate': 0.2, 'max_depth': 4, 'n_estimators': 50}\n",
      "      0.390 (+/-0.751) for {'learning_rate': 0.2, 'max_depth': 4, 'n_estimators': 70}\n",
      "      0.389 (+/-0.752) for {'learning_rate': 0.2, 'max_depth': 4, 'n_estimators': 90}\n",
      "      0.389 (+/-0.752) for {'learning_rate': 0.2, 'max_depth': 4, 'n_estimators': 100}\n",
      "      0.368 (+/-0.695) for {'learning_rate': 0.2, 'max_depth': 5, 'n_estimators': 30}\n",
      "      0.380 (+/-0.624) for {'learning_rate': 0.2, 'max_depth': 5, 'n_estimators': 50}\n",
      "      0.380 (+/-0.623) for {'learning_rate': 0.2, 'max_depth': 5, 'n_estimators': 70}\n",
      "      0.380 (+/-0.623) for {'learning_rate': 0.2, 'max_depth': 5, 'n_estimators': 90}\n",
      "      0.380 (+/-0.623) for {'learning_rate': 0.2, 'max_depth': 5, 'n_estimators': 100}\n",
      "      -0.294 (+/-1.677) for {'learning_rate': 0.1, 'max_depth': 3, 'n_estimators': 30}\n",
      "      0.404 (+/-0.619) for {'learning_rate': 0.1, 'max_depth': 3, 'n_estimators': 50}\n",
      "      0.464 (+/-0.436) for {'learning_rate': 0.1, 'max_depth': 3, 'n_estimators': 70}\n",
      "      0.474 (+/-0.407) for {'learning_rate': 0.1, 'max_depth': 3, 'n_estimators': 90}\n",
      "      0.478 (+/-0.393) for {'learning_rate': 0.1, 'max_depth': 3, 'n_estimators': 100}\n",
      "      -0.357 (+/-1.682) for {'learning_rate': 0.1, 'max_depth': 4, 'n_estimators': 30}\n",
      "      0.371 (+/-0.737) for {'learning_rate': 0.1, 'max_depth': 4, 'n_estimators': 50}\n",
      "      0.430 (+/-0.580) for {'learning_rate': 0.1, 'max_depth': 4, 'n_estimators': 70}\n",
      "      0.442 (+/-0.535) for {'learning_rate': 0.1, 'max_depth': 4, 'n_estimators': 90}\n",
      "      0.442 (+/-0.531) for {'learning_rate': 0.1, 'max_depth': 4, 'n_estimators': 100}\n",
      "      -0.359 (+/-1.752) for {'learning_rate': 0.1, 'max_depth': 5, 'n_estimators': 30}\n",
      "      0.339 (+/-0.819) for {'learning_rate': 0.1, 'max_depth': 5, 'n_estimators': 50}\n",
      "      0.387 (+/-0.687) for {'learning_rate': 0.1, 'max_depth': 5, 'n_estimators': 70}\n",
      "      0.397 (+/-0.654) for {'learning_rate': 0.1, 'max_depth': 5, 'n_estimators': 90}\n",
      "      0.398 (+/-0.651) for {'learning_rate': 0.1, 'max_depth': 5, 'n_estimators': 100}\n",
      "------  End All Results ------- \n"
     ]
    }
   ],
   "source": [
    "# print all results \n",
    "print(\"------  All Results ------- \")\n",
    "means = grid.cv_results_['mean_test_score']\n",
    "stds = grid.cv_results_['std_test_score']\n",
    "for mean, std, params in zip(means, stds, grid.cv_results_['params']):\n",
    "    print(\"      %0.3f (+/-%0.03f) for %r\" % (mean, std * 2, params))\n",
    "print(\"------  End All Results ------- \")"
   ]
  },
  {
   "cell_type": "code",
   "execution_count": null,
   "metadata": {},
   "outputs": [
    {
     "name": "stdout",
     "output_type": "stream",
     "text": [
      "Best Hyperparameters:  {'learning_rate': 0.1, 'max_depth': 4, 'n_estimators': 70}\n",
      "Best Score:  0.4418434239051356\n"
     ]
    }
   ],
   "source": [
    "# best hyperparameters and score\n",
    "print(\"Best Hyperparameters: \", grid.best_params_)\n",
    "print(\"Best Score: \", grid.best_score_) "
   ]
  },
  {
   "cell_type": "code",
   "execution_count": null,
   "metadata": {},
   "outputs": [
    {
     "data": {
      "text/plain": [
       "XGBRegressor(base_score=0.5, booster='gbtree', callbacks=None,\n",
       "             colsample_bylevel=1, colsample_bynode=1, colsample_bytree=1,\n",
       "             early_stopping_rounds=None, enable_categorical=False,\n",
       "             eval_metric=None, gamma=0, gpu_id=-1, grow_policy='depthwise',\n",
       "             importance_type=None, interaction_constraints='',\n",
       "             learning_rate=0.1, max_bin=256, max_cat_to_onehot=4,\n",
       "             max_delta_step=0, max_depth=4, max_leaves=0, min_child_weight=1,\n",
       "             missing=nan, monotone_constraints='()', n_estimators=70, n_jobs=0,\n",
       "             num_parallel_tree=1, predictor='auto', random_state=0, reg_alpha=0,\n",
       "             reg_lambda=1, ...)"
      ]
     },
     "execution_count": 106,
     "metadata": {},
     "output_type": "execute_result"
    }
   ],
   "source": [
    "# train model using best hyperparameters\n",
    "best_model = grid.best_estimator_\n",
    "best_model.fit(X_train, y_train)"
   ]
  },
  {
   "cell_type": "code",
   "execution_count": null,
   "metadata": {},
   "outputs": [],
   "source": [
    "# predictions on test data \n",
    "y_pred = best_model.predict(X_test)"
   ]
  },
  {
   "cell_type": "code",
   "execution_count": null,
   "metadata": {},
   "outputs": [
    {
     "name": "stdout",
     "output_type": "stream",
     "text": [
      "Mean Absolute Error: 387.44\n",
      "Mean Squared Error: 250946.56\n",
      "Root Mean Squared Error: 500.95\n",
      "R-squared: 0.59\n"
     ]
    }
   ],
   "source": [
    "# print model performance\n",
    "mae = mean_absolute_error(y_test, y_pred)\n",
    "mse = mean_squared_error(y_test, y_pred)\n",
    "rmse = np.sqrt(mse)\n",
    "r2 = r2_score(y_test, y_pred)\n",
    "\n",
    "print(\"Mean Absolute Error: {:.2f}\".format(mae))\n",
    "print(\"Mean Squared Error: {:.2f}\".format(mse))\n",
    "print(\"Root Mean Squared Error: {:.2f}\".format(rmse))\n",
    "print(\"R-squared: {:.2f}\".format(r2)) "
   ]
  },
  {
   "cell_type": "code",
   "execution_count": null,
   "metadata": {},
   "outputs": [],
   "source": []
  },
  {
   "cell_type": "code",
   "execution_count": null,
   "metadata": {},
   "outputs": [],
   "source": []
  }
 ],
 "metadata": {
  "kernelspec": {
   "display_name": "Python 3",
   "language": "python",
   "name": "python3"
  },
  "language_info": {
   "codemirror_mode": {
    "name": "ipython",
    "version": 3
   },
   "file_extension": ".py",
   "mimetype": "text/x-python",
   "name": "python",
   "nbconvert_exporter": "python",
   "pygments_lexer": "ipython3",
   "version": "3.8.12"
  }
 },
 "nbformat": 4,
 "nbformat_minor": 2
}

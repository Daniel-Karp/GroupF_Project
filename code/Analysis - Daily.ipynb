{
 "cells": [
  {
   "cell_type": "markdown",
   "metadata": {},
   "source": [
    "## Contents\n",
    "1. Import Libraries and Set Directory\n",
    "2. Data Cleaning\n",
    "    * Functions\n",
    "    * Total Demand\n",
    "    * Temperature\n",
    "    * Forecast Demand\n",
    "    * Energy Prices and Demand\n",
    "    * BOM\n",
    "    * Solar Installations\n",
    "    * Merge Datasets\n",
    "3. Exploratory Data Analysis\n",
    "    * Total Demand Timeseries\n",
    "    * Temperature Timeseries\n",
    "    * Rain Timeseries\n",
    "    * Timeseries Comparison\n",
    "    * Timeseries Comparison with Kernal Smoothing"
   ]
  },
  {
   "cell_type": "code",
   "execution_count": 167,
   "metadata": {},
   "outputs": [],
   "source": [
    "import pandas as pd\n",
    "import numpy as np\n",
    "import os\n",
    "import datetime as dt\n",
    "import zipfile\n",
    "import tempfile # for temporary file storage to avoid storing large datasets on github\n",
    "import matplotlib.pyplot as plt\n",
    "import seaborn as sns\n",
    "import warnings\n",
    "warnings.filterwarnings(\"ignore\")"
   ]
  },
  {
   "cell_type": "code",
   "execution_count": 168,
   "metadata": {},
   "outputs": [],
   "source": [
    "base_dir = os.path.dirname(os.path.abspath(\"..\\data\"))\n",
    "path = os.path.join(base_dir, r\"data\")\n",
    "os.chdir(path)"
   ]
  },
  {
   "cell_type": "code",
   "execution_count": 169,
   "metadata": {},
   "outputs": [],
   "source": [
    "# os.listdir()"
   ]
  },
  {
   "cell_type": "markdown",
   "metadata": {},
   "source": [
    "## Data Cleaning"
   ]
  },
  {
   "cell_type": "markdown",
   "metadata": {},
   "source": [
    "#### Functions"
   ]
  },
  {
   "cell_type": "code",
   "execution_count": 170,
   "metadata": {},
   "outputs": [],
   "source": [
    "# read zips from repo, extract data into temp dir, create dataframes\n",
    "def zip_to_df(file_name):\n",
    "    # create temporary directory  \n",
    "    with tempfile.TemporaryDirectory() as tmpdirname:\n",
    "        # collect data from zip file \n",
    "        with zipfile.ZipFile(file_name+\".zip\") as zip_file:\n",
    "            file_list = zip_file.namelist()\n",
    "            for file in file_list:\n",
    "                zip_file.extract(file, tmpdirname)\n",
    "            file_path = tmpdirname+\"\\\\\"+file_name\n",
    "            # create and return dataframe\n",
    "            df = pd.read_csv(file_path)\n",
    "            return df"
   ]
  },
  {
   "cell_type": "code",
   "execution_count": 171,
   "metadata": {},
   "outputs": [],
   "source": [
    "def create_date_vars(df, col, day_req=True):\n",
    "    df[\"DATE\"] = df[col].dt.date\n",
    "    df[\"YEAR\"] = df[col].dt.year\n",
    "    df[\"MONTH\"] = df[col].dt.month\n",
    "    if day_req == True: df[\"DAY\"] = df[col].dt.day\n",
    "#     df[\"TIME\"] = df[col].dt.time\n",
    "#     df[\"HOURS\"] = df[col].dt.hour\n",
    "#     df[\"MINUTES\"] = df[col].dt.minute\n",
    "    return df"
   ]
  },
  {
   "cell_type": "code",
   "execution_count": 172,
   "metadata": {},
   "outputs": [],
   "source": [
    "def remove_outliers(data, column):\n",
    "    for x in [column]:\n",
    "        q75, q25 = np.percentile(data.loc[:,x],[75,25])\n",
    "        intr_qr = q75-q25\n",
    "        max = q75+(1.5*intr_qr)\n",
    "        min = q25-(1.5*intr_qr)\n",
    "        data.loc[data[x] < min,x] = np.nan\n",
    "        data.loc[data[x] > max,x] = np.nan\n",
    "    data = data.dropna(axis = 0)\n",
    "    return data"
   ]
  },
  {
   "cell_type": "markdown",
   "metadata": {},
   "source": [
    "#### Total Demand"
   ]
  },
  {
   "cell_type": "code",
   "execution_count": 173,
   "metadata": {},
   "outputs": [
    {
     "name": "stdout",
     "output_type": "stream",
     "text": [
      "Rows: 1323398\n"
     ]
    }
   ],
   "source": [
    "file_name = \"totaldemand_nsw.csv\"\n",
    "totalDemand = zip_to_df(file_name)\n",
    "print(\"Rows:\", len(totalDemand))"
   ]
  },
  {
   "cell_type": "code",
   "execution_count": 174,
   "metadata": {},
   "outputs": [],
   "source": [
    "#update datatypes\n",
    "totalDemand['DATETIME'] = pd.to_datetime(totalDemand['DATETIME'])"
   ]
  },
  {
   "cell_type": "code",
   "execution_count": 175,
   "metadata": {},
   "outputs": [],
   "source": [
    "# create new date variables\n",
    "totalDemand = create_date_vars(totalDemand, \"DATETIME\")"
   ]
  },
  {
   "cell_type": "code",
   "execution_count": 176,
   "metadata": {},
   "outputs": [],
   "source": [
    "# remove redundant columns\n",
    "totalDemand = totalDemand.drop(columns=[\"REGIONID\"], errors='ignore')"
   ]
  },
  {
   "cell_type": "code",
   "execution_count": 177,
   "metadata": {},
   "outputs": [
    {
     "data": {
      "text/plain": [
       "<AxesSubplot:>"
      ]
     },
     "execution_count": 177,
     "metadata": {},
     "output_type": "execute_result"
    },
    {
     "data": {
      "image/png": "[encoded data removed]",
      "text/plain": [
       "<Figure size 432x288 with 1 Axes>"
      ]
     },
     "metadata": {
      "needs_background": "light"
     },
     "output_type": "display_data"
    }
   ],
   "source": [
    "# check for outliers\n",
    "sns.boxplot(data=totalDemand[[\"TOTALDEMAND\"]], orient=\"h\")"
   ]
  },
  {
   "cell_type": "code",
   "execution_count": 178,
   "metadata": {},
   "outputs": [],
   "source": [
    "# remove outliers\n",
    "totalDemand = remove_outliers(totalDemand, \"TOTALDEMAND\")"
   ]
  },
  {
   "cell_type": "code",
   "execution_count": 179,
   "metadata": {},
   "outputs": [
    {
     "name": "stdout",
     "output_type": "stream",
     "text": [
      "Rows: 4596\n"
     ]
    },
    {
     "data": {
      "text/html": [
       "<div>\n",
       "<style scoped>\n",
       "    .dataframe tbody tr th:only-of-type {\n",
       "        vertical-align: middle;\n",
       "    }\n",
       "\n",
       "    .dataframe tbody tr th {\n",
       "        vertical-align: top;\n",
       "    }\n",
       "\n",
       "    .dataframe thead th {\n",
       "        text-align: right;\n",
       "    }\n",
       "</style>\n",
       "<table border=\"1\" class=\"dataframe\">\n",
       "  <thead>\n",
       "    <tr style=\"text-align: right;\">\n",
       "      <th></th>\n",
       "      <th>YEAR</th>\n",
       "      <th>MONTH</th>\n",
       "      <th>DAY</th>\n",
       "      <th>DATE</th>\n",
       "      <th>TOTALDEMAND</th>\n",
       "    </tr>\n",
       "  </thead>\n",
       "  <tbody>\n",
       "    <tr>\n",
       "      <th>0</th>\n",
       "      <td>2010</td>\n",
       "      <td>1</td>\n",
       "      <td>1</td>\n",
       "      <td>2010-01-01</td>\n",
       "      <td>7793.463681</td>\n",
       "    </tr>\n",
       "    <tr>\n",
       "      <th>1</th>\n",
       "      <td>2010</td>\n",
       "      <td>1</td>\n",
       "      <td>2</td>\n",
       "      <td>2010-01-02</td>\n",
       "      <td>8012.314097</td>\n",
       "    </tr>\n",
       "    <tr>\n",
       "      <th>2</th>\n",
       "      <td>2010</td>\n",
       "      <td>1</td>\n",
       "      <td>3</td>\n",
       "      <td>2010-01-03</td>\n",
       "      <td>7393.354514</td>\n",
       "    </tr>\n",
       "    <tr>\n",
       "      <th>3</th>\n",
       "      <td>2010</td>\n",
       "      <td>1</td>\n",
       "      <td>4</td>\n",
       "      <td>2010-01-04</td>\n",
       "      <td>8254.502222</td>\n",
       "    </tr>\n",
       "    <tr>\n",
       "      <th>4</th>\n",
       "      <td>2010</td>\n",
       "      <td>1</td>\n",
       "      <td>5</td>\n",
       "      <td>2010-01-05</td>\n",
       "      <td>8832.004931</td>\n",
       "    </tr>\n",
       "  </tbody>\n",
       "</table>\n",
       "</div>"
      ],
      "text/plain": [
       "   YEAR  MONTH  DAY        DATE  TOTALDEMAND\n",
       "0  2010      1    1  2010-01-01  7793.463681\n",
       "1  2010      1    2  2010-01-02  8012.314097\n",
       "2  2010      1    3  2010-01-03  7393.354514\n",
       "3  2010      1    4  2010-01-04  8254.502222\n",
       "4  2010      1    5  2010-01-05  8832.004931"
      ]
     },
     "execution_count": 179,
     "metadata": {},
     "output_type": "execute_result"
    }
   ],
   "source": [
    "# aggregate on date\n",
    "totalDemandAgg = totalDemand.groupby([\"YEAR\",\"MONTH\",\"DAY\",\"DATE\"]).mean().reset_index()\n",
    "# totalDemandAgg = totalDemandAgg.drop(columns=[\"DATE\"], errors='ignore')\n",
    "print(\"Rows:\", len(totalDemandAgg))\n",
    "totalDemandAgg.head()"
   ]
  },
  {
   "cell_type": "markdown",
   "metadata": {},
   "source": [
    "#### Temperature"
   ]
  },
  {
   "cell_type": "code",
   "execution_count": 180,
   "metadata": {},
   "outputs": [
    {
     "name": "stdout",
     "output_type": "stream",
     "text": [
      "Rows: 247646\n"
     ]
    }
   ],
   "source": [
    "file_name = \"temperature_nsw.csv\"\n",
    "temperature = zip_to_df(file_name)\n",
    "print(\"Rows:\", len(temperature))"
   ]
  },
  {
   "cell_type": "code",
   "execution_count": 181,
   "metadata": {
    "scrolled": true
   },
   "outputs": [],
   "source": [
    "#update datatypes\n",
    "temperature['DATETIME'] = pd.to_datetime(temperature['DATETIME'])"
   ]
  },
  {
   "cell_type": "code",
   "execution_count": 182,
   "metadata": {},
   "outputs": [],
   "source": [
    "# create new date variables\n",
    "temperature = create_date_vars(temperature, \"DATETIME\")"
   ]
  },
  {
   "cell_type": "code",
   "execution_count": 183,
   "metadata": {},
   "outputs": [],
   "source": [
    "# remove redundant columns\n",
    "temperature = temperature.drop(columns=[\"LOCATION\"], errors='ignore')"
   ]
  },
  {
   "cell_type": "code",
   "execution_count": 184,
   "metadata": {},
   "outputs": [
    {
     "data": {
      "text/plain": [
       "<AxesSubplot:>"
      ]
     },
     "execution_count": 184,
     "metadata": {},
     "output_type": "execute_result"
    },
    {
     "data": {
      "image/png": "[encoded data removed]",
      "text/plain": [
       "<Figure size 432x288 with 1 Axes>"
      ]
     },
     "metadata": {
      "needs_background": "light"
     },
     "output_type": "display_data"
    }
   ],
   "source": [
    "# check for outliers\n",
    "sns.boxplot(data=temperature[[\"TEMPERATURE\"]], orient=\"h\")"
   ]
  },
  {
   "cell_type": "code",
   "execution_count": 185,
   "metadata": {},
   "outputs": [],
   "source": [
    "# remove outliers\n",
    "temperature = remove_outliers(temperature, \"TEMPERATURE\")"
   ]
  },
  {
   "cell_type": "code",
   "execution_count": 186,
   "metadata": {},
   "outputs": [
    {
     "name": "stdout",
     "output_type": "stream",
     "text": [
      "Rows: 4593\n"
     ]
    },
    {
     "data": {
      "text/html": [
       "<div>\n",
       "<style scoped>\n",
       "    .dataframe tbody tr th:only-of-type {\n",
       "        vertical-align: middle;\n",
       "    }\n",
       "\n",
       "    .dataframe tbody tr th {\n",
       "        vertical-align: top;\n",
       "    }\n",
       "\n",
       "    .dataframe thead th {\n",
       "        text-align: right;\n",
       "    }\n",
       "</style>\n",
       "<table border=\"1\" class=\"dataframe\">\n",
       "  <thead>\n",
       "    <tr style=\"text-align: right;\">\n",
       "      <th></th>\n",
       "      <th>YEAR</th>\n",
       "      <th>MONTH</th>\n",
       "      <th>DAY</th>\n",
       "      <th>TEMPERATURE</th>\n",
       "    </tr>\n",
       "  </thead>\n",
       "  <tbody>\n",
       "    <tr>\n",
       "      <th>0</th>\n",
       "      <td>2010</td>\n",
       "      <td>1</td>\n",
       "      <td>1</td>\n",
       "      <td>25.094000</td>\n",
       "    </tr>\n",
       "    <tr>\n",
       "      <th>1</th>\n",
       "      <td>2010</td>\n",
       "      <td>1</td>\n",
       "      <td>2</td>\n",
       "      <td>24.765385</td>\n",
       "    </tr>\n",
       "    <tr>\n",
       "      <th>2</th>\n",
       "      <td>2010</td>\n",
       "      <td>1</td>\n",
       "      <td>3</td>\n",
       "      <td>19.429825</td>\n",
       "    </tr>\n",
       "    <tr>\n",
       "      <th>3</th>\n",
       "      <td>2010</td>\n",
       "      <td>1</td>\n",
       "      <td>4</td>\n",
       "      <td>20.625926</td>\n",
       "    </tr>\n",
       "    <tr>\n",
       "      <th>4</th>\n",
       "      <td>2010</td>\n",
       "      <td>1</td>\n",
       "      <td>5</td>\n",
       "      <td>22.660417</td>\n",
       "    </tr>\n",
       "  </tbody>\n",
       "</table>\n",
       "</div>"
      ],
      "text/plain": [
       "   YEAR  MONTH  DAY  TEMPERATURE\n",
       "0  2010      1    1    25.094000\n",
       "1  2010      1    2    24.765385\n",
       "2  2010      1    3    19.429825\n",
       "3  2010      1    4    20.625926\n",
       "4  2010      1    5    22.660417"
      ]
     },
     "execution_count": 186,
     "metadata": {},
     "output_type": "execute_result"
    }
   ],
   "source": [
    "# aggregate on date\n",
    "temperatureAgg = temperature.groupby([\"YEAR\",\"MONTH\",\"DAY\",\"DATE\"]).mean().reset_index()\n",
    "temperatureAgg = temperatureAgg.drop(columns=[\"DATE\"], errors='ignore')\n",
    "print(\"Rows:\", len(temperatureAgg))\n",
    "temperatureAgg.head()"
   ]
  },
  {
   "cell_type": "markdown",
   "metadata": {},
   "source": [
    "#### Forecast Demand"
   ]
  },
  {
   "cell_type": "code",
   "execution_count": 187,
   "metadata": {},
   "outputs": [
    {
     "name": "stdout",
     "output_type": "stream",
     "text": [
      "Rows: 11619503\n"
     ]
    }
   ],
   "source": [
    "file_name = \"forecastdemand_nsw.csv\"\n",
    "forecastDemand = zip_to_df(file_name)\n",
    "print(\"Rows:\", len(forecastDemand)) "
   ]
  },
  {
   "cell_type": "code",
   "execution_count": 188,
   "metadata": {},
   "outputs": [],
   "source": [
    "#update datatypes\n",
    "forecastDemand['DATETIME'] = pd.to_datetime(forecastDemand['DATETIME'])\n",
    "forecastDemand['LASTCHANGED'] = pd.to_datetime(forecastDemand['LASTCHANGED'])"
   ]
  },
  {
   "cell_type": "code",
   "execution_count": 189,
   "metadata": {},
   "outputs": [],
   "source": [
    "# create new date variables\n",
    "forecastDemand = create_date_vars(forecastDemand, \"DATETIME\")"
   ]
  },
  {
   "cell_type": "code",
   "execution_count": 190,
   "metadata": {},
   "outputs": [],
   "source": [
    "# remove redundant columns\n",
    "forecastDemand = forecastDemand.drop(columns=[\"REGIONID\",\"LASTCHANGED\",\"PREDISPATCHSEQNO\",\"PERIODID\"], errors='ignore')"
   ]
  },
  {
   "cell_type": "code",
   "execution_count": 191,
   "metadata": {},
   "outputs": [
    {
     "name": "stdout",
     "output_type": "stream",
     "text": [
      "Rows: 4560\n"
     ]
    },
    {
     "data": {
      "text/html": [
       "<div>\n",
       "<style scoped>\n",
       "    .dataframe tbody tr th:only-of-type {\n",
       "        vertical-align: middle;\n",
       "    }\n",
       "\n",
       "    .dataframe tbody tr th {\n",
       "        vertical-align: top;\n",
       "    }\n",
       "\n",
       "    .dataframe thead th {\n",
       "        text-align: right;\n",
       "    }\n",
       "</style>\n",
       "<table border=\"1\" class=\"dataframe\">\n",
       "  <thead>\n",
       "    <tr style=\"text-align: right;\">\n",
       "      <th></th>\n",
       "      <th>YEAR</th>\n",
       "      <th>MONTH</th>\n",
       "      <th>DAY</th>\n",
       "      <th>FORECASTDEMAND</th>\n",
       "    </tr>\n",
       "  </thead>\n",
       "  <tbody>\n",
       "    <tr>\n",
       "      <th>0</th>\n",
       "      <td>2010</td>\n",
       "      <td>1</td>\n",
       "      <td>1</td>\n",
       "      <td>7747.906211</td>\n",
       "    </tr>\n",
       "    <tr>\n",
       "      <th>1</th>\n",
       "      <td>2010</td>\n",
       "      <td>1</td>\n",
       "      <td>2</td>\n",
       "      <td>7773.818583</td>\n",
       "    </tr>\n",
       "    <tr>\n",
       "      <th>2</th>\n",
       "      <td>2010</td>\n",
       "      <td>1</td>\n",
       "      <td>3</td>\n",
       "      <td>7462.384786</td>\n",
       "    </tr>\n",
       "    <tr>\n",
       "      <th>3</th>\n",
       "      <td>2010</td>\n",
       "      <td>1</td>\n",
       "      <td>4</td>\n",
       "      <td>8467.411400</td>\n",
       "    </tr>\n",
       "    <tr>\n",
       "      <th>4</th>\n",
       "      <td>2010</td>\n",
       "      <td>1</td>\n",
       "      <td>5</td>\n",
       "      <td>8784.750420</td>\n",
       "    </tr>\n",
       "  </tbody>\n",
       "</table>\n",
       "</div>"
      ],
      "text/plain": [
       "   YEAR  MONTH  DAY  FORECASTDEMAND\n",
       "0  2010      1    1     7747.906211\n",
       "1  2010      1    2     7773.818583\n",
       "2  2010      1    3     7462.384786\n",
       "3  2010      1    4     8467.411400\n",
       "4  2010      1    5     8784.750420"
      ]
     },
     "execution_count": 191,
     "metadata": {},
     "output_type": "execute_result"
    }
   ],
   "source": [
    "# aggregate\n",
    "forecastDemandAgg = forecastDemand.groupby([\"YEAR\",\"MONTH\",\"DAY\",\"DATE\"]).mean().reset_index()\n",
    "forecastDemandAgg = forecastDemandAgg.drop(columns=[\"DATE\"], errors='ignore')\n",
    "print(\"Rows:\", len(forecastDemandAgg))\n",
    "forecastDemandAgg.head() "
   ]
  },
  {
   "cell_type": "markdown",
   "metadata": {},
   "source": [
    "#### Energy Prices and Demand"
   ]
  },
  {
   "cell_type": "code",
   "execution_count": 192,
   "metadata": {},
   "outputs": [
    {
     "name": "stdout",
     "output_type": "stream",
     "text": [
      "Merged 153 files\n"
     ]
    }
   ],
   "source": [
    "#merge all files in folder\n",
    "wd = path + r\"\\Price and Demand - 2010-22\"\n",
    "files = os.listdir(wd)\n",
    "prices = pd.DataFrame([])\n",
    "file_count = 0\n",
    "for file in files:\n",
    "    if file.endswith(\".csv\"):\n",
    "        file_df = pd.read_csv(wd + \"\\\\\" + file)\n",
    "        prices = prices.append(file_df, ignore_index=True)\n",
    "        file_count += 1\n",
    "print(\"Merged\", file_count, \"files\")"
   ]
  },
  {
   "cell_type": "code",
   "execution_count": 193,
   "metadata": {},
   "outputs": [
    {
     "name": "stdout",
     "output_type": "stream",
     "text": [
      "Rows: 337488\n"
     ]
    }
   ],
   "source": [
    "#remove additional headers\n",
    "prices = prices[prices[\"REGION\"]!=\"REGION\"]\n",
    "print(\"Rows:\", len(prices))"
   ]
  },
  {
   "cell_type": "code",
   "execution_count": 194,
   "metadata": {},
   "outputs": [],
   "source": [
    "#update datatypes\n",
    "prices['SETTLEMENTDATE'] = pd.to_datetime(prices['SETTLEMENTDATE'])\n",
    "prices['TOTALDEMAND'] = prices['TOTALDEMAND'].astype(float)\n",
    "prices['RRP'] = prices['RRP'].astype(float)"
   ]
  },
  {
   "cell_type": "code",
   "execution_count": 195,
   "metadata": {},
   "outputs": [],
   "source": [
    "# create new date variables\n",
    "prices = create_date_vars(prices, \"SETTLEMENTDATE\")"
   ]
  },
  {
   "cell_type": "code",
   "execution_count": 196,
   "metadata": {},
   "outputs": [],
   "source": [
    "# remove redundant columns\n",
    "prices = prices.drop(columns=[\"REGION\",\"PERIODTYPE\"], errors='ignore')"
   ]
  },
  {
   "cell_type": "code",
   "execution_count": 197,
   "metadata": {},
   "outputs": [
    {
     "data": {
      "text/plain": [
       "<AxesSubplot:>"
      ]
     },
     "execution_count": 197,
     "metadata": {},
     "output_type": "execute_result"
    },
    {
     "data": {
      "image/png": "[encoded data removed]",
      "text/plain": [
       "<Figure size 432x288 with 1 Axes>"
      ]
     },
     "metadata": {
      "needs_background": "light"
     },
     "output_type": "display_data"
    }
   ],
   "source": [
    "# check for outliers\n",
    "sns.boxplot(data=prices[[\"RRP\"]], orient=\"h\")"
   ]
  },
  {
   "cell_type": "code",
   "execution_count": 198,
   "metadata": {},
   "outputs": [],
   "source": [
    "# remove outliers\n",
    "prices = remove_outliers(prices, \"RRP\")"
   ]
  },
  {
   "cell_type": "code",
   "execution_count": 199,
   "metadata": {},
   "outputs": [
    {
     "name": "stdout",
     "output_type": "stream",
     "text": [
      "Rows: 4598\n"
     ]
    },
    {
     "data": {
      "text/html": [
       "<div>\n",
       "<style scoped>\n",
       "    .dataframe tbody tr th:only-of-type {\n",
       "        vertical-align: middle;\n",
       "    }\n",
       "\n",
       "    .dataframe tbody tr th {\n",
       "        vertical-align: top;\n",
       "    }\n",
       "\n",
       "    .dataframe thead th {\n",
       "        text-align: right;\n",
       "    }\n",
       "</style>\n",
       "<table border=\"1\" class=\"dataframe\">\n",
       "  <thead>\n",
       "    <tr style=\"text-align: right;\">\n",
       "      <th></th>\n",
       "      <th>YEAR</th>\n",
       "      <th>MONTH</th>\n",
       "      <th>DAY</th>\n",
       "      <th>TOTALDEMAND</th>\n",
       "      <th>RRP</th>\n",
       "    </tr>\n",
       "  </thead>\n",
       "  <tbody>\n",
       "    <tr>\n",
       "      <th>0</th>\n",
       "      <td>2010</td>\n",
       "      <td>1</td>\n",
       "      <td>1</td>\n",
       "      <td>7796.317872</td>\n",
       "      <td>20.364894</td>\n",
       "    </tr>\n",
       "    <tr>\n",
       "      <th>1</th>\n",
       "      <td>2010</td>\n",
       "      <td>1</td>\n",
       "      <td>2</td>\n",
       "      <td>8017.459792</td>\n",
       "      <td>20.478125</td>\n",
       "    </tr>\n",
       "    <tr>\n",
       "      <th>2</th>\n",
       "      <td>2010</td>\n",
       "      <td>1</td>\n",
       "      <td>3</td>\n",
       "      <td>7399.899583</td>\n",
       "      <td>20.277083</td>\n",
       "    </tr>\n",
       "    <tr>\n",
       "      <th>3</th>\n",
       "      <td>2010</td>\n",
       "      <td>1</td>\n",
       "      <td>4</td>\n",
       "      <td>8241.720208</td>\n",
       "      <td>21.494583</td>\n",
       "    </tr>\n",
       "    <tr>\n",
       "      <th>4</th>\n",
       "      <td>2010</td>\n",
       "      <td>1</td>\n",
       "      <td>5</td>\n",
       "      <td>8827.813125</td>\n",
       "      <td>23.966042</td>\n",
       "    </tr>\n",
       "  </tbody>\n",
       "</table>\n",
       "</div>"
      ],
      "text/plain": [
       "   YEAR  MONTH  DAY  TOTALDEMAND        RRP\n",
       "0  2010      1    1  7796.317872  20.364894\n",
       "1  2010      1    2  8017.459792  20.478125\n",
       "2  2010      1    3  7399.899583  20.277083\n",
       "3  2010      1    4  8241.720208  21.494583\n",
       "4  2010      1    5  8827.813125  23.966042"
      ]
     },
     "execution_count": 199,
     "metadata": {},
     "output_type": "execute_result"
    }
   ],
   "source": [
    "# aggregate\n",
    "pricesAgg = prices.groupby([\"YEAR\",\"MONTH\",\"DAY\",\"DATE\"]).mean().reset_index()\n",
    "pricesAgg = pricesAgg.drop(columns=[\"DATE\"], errors='ignore')\n",
    "print(\"Rows:\", len(pricesAgg))\n",
    "pricesAgg.head()"
   ]
  },
  {
   "cell_type": "markdown",
   "metadata": {},
   "source": [
    "#### BOM"
   ]
  },
  {
   "cell_type": "code",
   "execution_count": 200,
   "metadata": {},
   "outputs": [],
   "source": [
    "# timeframe restriction\n",
    "year_start = 2010"
   ]
  },
  {
   "cell_type": "code",
   "execution_count": 201,
   "metadata": {},
   "outputs": [
    {
     "name": "stdout",
     "output_type": "stream",
     "text": [
      "Rows: 4816\n"
     ]
    }
   ],
   "source": [
    "file_path = path + r\"\\Solar Exposure - Bankstown Airport\\IDCJAC0016_066137_1800_Data.csv\"\n",
    "bomSolar = pd.read_csv(file_path)\n",
    "bomSolar = bomSolar[bomSolar.Year >= year_start]\n",
    "print(\"Rows:\", len(bomSolar))"
   ]
  },
  {
   "cell_type": "code",
   "execution_count": 202,
   "metadata": {},
   "outputs": [
    {
     "name": "stdout",
     "output_type": "stream",
     "text": [
      "Rows: 4830\n"
     ]
    }
   ],
   "source": [
    "file_path = path + r\"\\Temperature - Bankstown Airport\\IDCJAC0011_066137_1800_Data_Daily_Min_Temp.csv\"\n",
    "bomTempMin = pd.read_csv(file_path)\n",
    "bomTempMin = bomTempMin[bomTempMin.Year >= year_start]\n",
    "print(\"Rows:\", len(bomTempMin))"
   ]
  },
  {
   "cell_type": "code",
   "execution_count": 203,
   "metadata": {},
   "outputs": [
    {
     "name": "stdout",
     "output_type": "stream",
     "text": [
      "Rows: 4816\n"
     ]
    }
   ],
   "source": [
    "file_path = path + r\"\\Temperature - Bankstown Airport\\IDCJAC0010_066137_1800_Data_Daily_Max_Temp.csv\"\n",
    "bomTempMax = pd.read_csv(file_path)\n",
    "bomTempMax = bomTempMax[bomTempMax.Year >= year_start]\n",
    "print(\"Rows:\", len(bomTempMax))"
   ]
  },
  {
   "cell_type": "code",
   "execution_count": 204,
   "metadata": {},
   "outputs": [
    {
     "name": "stdout",
     "output_type": "stream",
     "text": [
      "Rows: 4817\n"
     ]
    }
   ],
   "source": [
    "file_path = path + r\"\\Rainfall - Bankstown\\IDCJAC0009_066137_1800_Data.csv\"\n",
    "bomRain = pd.read_csv(file_path)\n",
    "bomRain = bomRain[bomRain.Year >= year_start]\n",
    "print(\"Rows:\", len(bomRain))"
   ]
  },
  {
   "cell_type": "code",
   "execution_count": 205,
   "metadata": {},
   "outputs": [],
   "source": [
    "# remove redundant columns\n",
    "bomSolar = bomSolar.drop(columns=[\"Product code\",\"Bureau of Meteorology station number\"], errors='ignore')\n",
    "bomTempMin = bomTempMin.drop(columns=[\"Product code\",\"Bureau of Meteorology station number\",\"Quality\"], errors='ignore')\n",
    "bomTempMax = bomTempMax.drop(columns=[\"Product code\",\"Bureau of Meteorology station number\",\"Quality\"], errors='ignore')\n",
    "bomRain = bomRain.drop(columns=[\"Product code\",\"Bureau of Meteorology station number\",\"Quality\"], errors='ignore')"
   ]
  },
  {
   "cell_type": "code",
   "execution_count": 206,
   "metadata": {},
   "outputs": [
    {
     "name": "stdout",
     "output_type": "stream",
     "text": [
      "Rows: 4816\n"
     ]
    },
    {
     "data": {
      "text/html": [
       "<div>\n",
       "<style scoped>\n",
       "    .dataframe tbody tr th:only-of-type {\n",
       "        vertical-align: middle;\n",
       "    }\n",
       "\n",
       "    .dataframe tbody tr th {\n",
       "        vertical-align: top;\n",
       "    }\n",
       "\n",
       "    .dataframe thead th {\n",
       "        text-align: right;\n",
       "    }\n",
       "</style>\n",
       "<table border=\"1\" class=\"dataframe\">\n",
       "  <thead>\n",
       "    <tr style=\"text-align: right;\">\n",
       "      <th></th>\n",
       "      <th>YEAR</th>\n",
       "      <th>MONTH</th>\n",
       "      <th>DAY</th>\n",
       "      <th>MIN</th>\n",
       "      <th>ACCMIN</th>\n",
       "      <th>MAX</th>\n",
       "      <th>ACCMAX</th>\n",
       "      <th>RAIN</th>\n",
       "      <th>RAINPERIOD</th>\n",
       "      <th>SOLAR</th>\n",
       "    </tr>\n",
       "  </thead>\n",
       "  <tbody>\n",
       "    <tr>\n",
       "      <th>0</th>\n",
       "      <td>2010</td>\n",
       "      <td>1</td>\n",
       "      <td>1</td>\n",
       "      <td>20.3</td>\n",
       "      <td>1.0</td>\n",
       "      <td>29.6</td>\n",
       "      <td>1.0</td>\n",
       "      <td>0.2</td>\n",
       "      <td>1.0</td>\n",
       "      <td>14.6</td>\n",
       "    </tr>\n",
       "    <tr>\n",
       "      <th>1</th>\n",
       "      <td>2010</td>\n",
       "      <td>1</td>\n",
       "      <td>2</td>\n",
       "      <td>22.2</td>\n",
       "      <td>1.0</td>\n",
       "      <td>29.5</td>\n",
       "      <td>1.0</td>\n",
       "      <td>0.0</td>\n",
       "      <td>1.0</td>\n",
       "      <td>18.4</td>\n",
       "    </tr>\n",
       "    <tr>\n",
       "      <th>2</th>\n",
       "      <td>2010</td>\n",
       "      <td>1</td>\n",
       "      <td>3</td>\n",
       "      <td>18.5</td>\n",
       "      <td>1.0</td>\n",
       "      <td>21.0</td>\n",
       "      <td>1.0</td>\n",
       "      <td>15.2</td>\n",
       "      <td>1.0</td>\n",
       "      <td>7.3</td>\n",
       "    </tr>\n",
       "    <tr>\n",
       "      <th>3</th>\n",
       "      <td>2010</td>\n",
       "      <td>1</td>\n",
       "      <td>4</td>\n",
       "      <td>17.8</td>\n",
       "      <td>1.0</td>\n",
       "      <td>24.0</td>\n",
       "      <td>1.0</td>\n",
       "      <td>0.2</td>\n",
       "      <td>1.0</td>\n",
       "      <td>14.4</td>\n",
       "    </tr>\n",
       "    <tr>\n",
       "      <th>4</th>\n",
       "      <td>2010</td>\n",
       "      <td>1</td>\n",
       "      <td>5</td>\n",
       "      <td>16.2</td>\n",
       "      <td>1.0</td>\n",
       "      <td>30.4</td>\n",
       "      <td>1.0</td>\n",
       "      <td>0.0</td>\n",
       "      <td>1.0</td>\n",
       "      <td>28.1</td>\n",
       "    </tr>\n",
       "  </tbody>\n",
       "</table>\n",
       "</div>"
      ],
      "text/plain": [
       "   YEAR  MONTH  DAY   MIN  ACCMIN   MAX  ACCMAX  RAIN  RAINPERIOD  SOLAR\n",
       "0  2010      1    1  20.3     1.0  29.6     1.0   0.2         1.0   14.6\n",
       "1  2010      1    2  22.2     1.0  29.5     1.0   0.0         1.0   18.4\n",
       "2  2010      1    3  18.5     1.0  21.0     1.0  15.2         1.0    7.3\n",
       "3  2010      1    4  17.8     1.0  24.0     1.0   0.2         1.0   14.4\n",
       "4  2010      1    5  16.2     1.0  30.4     1.0   0.0         1.0   28.1"
      ]
     },
     "execution_count": 206,
     "metadata": {},
     "output_type": "execute_result"
    }
   ],
   "source": [
    "# merge bom datasets and rename headers\n",
    "bom = bomTempMin.merge(bomTempMax, how=\"left\", on=[\"Year\",\"Month\",\"Day\"])\n",
    "bom = bom.merge(bomRain, how=\"right\", on=[\"Year\",\"Month\",\"Day\"])\n",
    "bom = bom.merge(bomSolar, how=\"right\", on=[\"Year\",\"Month\",\"Day\"])\n",
    "bom.columns = ['YEAR','MONTH','DAY',\"MIN\", \"ACCMIN\", 'MAX','ACCMAX','RAIN','RAINPERIOD','SOLAR']\n",
    "print(\"Rows:\", len(bom))\n",
    "bom.head()"
   ]
  },
  {
   "cell_type": "code",
   "execution_count": 207,
   "metadata": {},
   "outputs": [
    {
     "data": {
      "text/plain": [
       "<AxesSubplot:>"
      ]
     },
     "execution_count": 207,
     "metadata": {},
     "output_type": "execute_result"
    },
    {
     "data": {
      "image/png": "[encoded data removed]",
      "text/plain": [
       "<Figure size 432x288 with 1 Axes>"
      ]
     },
     "metadata": {
      "needs_background": "light"
     },
     "output_type": "display_data"
    }
   ],
   "source": [
    "# check for outliers\n",
    "sns.boxplot(data=bom[[\"MAX\"]], orient=\"h\")"
   ]
  },
  {
   "cell_type": "markdown",
   "metadata": {},
   "source": [
    "#### Solar Panels"
   ]
  },
  {
   "cell_type": "code",
   "execution_count": 208,
   "metadata": {
    "scrolled": true
   },
   "outputs": [
    {
     "name": "stdout",
     "output_type": "stream",
     "text": [
      "Merged 13 files\n",
      "Rows: 170\n"
     ]
    }
   ],
   "source": [
    "#merge all files in folder\n",
    "wd = path + r\"\\Solar Panel Installations - Bankstown\"\n",
    "files = os.listdir(wd)\n",
    "sguSolar = pd.DataFrame([])\n",
    "file_count = 0\n",
    "for file in files:\n",
    "    if file.endswith(\".csv\"):\n",
    "        sgu = pd.read_csv(wd + \"\\\\\" + file)\n",
    "        sgu = sgu[sgu[\"Small Unit Installation Postcode\"]==2200]\n",
    "        sgu = pd.melt(sgu, id_vars='Small Unit Installation Postcode')\n",
    "        sgu = sgu[~sgu[\"variable\"].str.contains(\"Previous Years\")]\n",
    "        sgu = sgu[~sgu[\"variable\"].str.contains(\"Total\")]\n",
    "        sgu[\"Col\"] = np.where(sgu[\"variable\"].str.contains(\"Quantity\"), \"Quantity\", \"Output\")\n",
    "        sgu[\"variable\"] = sgu[\"variable\"].str.split('-').str[0]\n",
    "        sgu[\"value\"] = sgu[\"value\"].astype(float)\n",
    "        sgu = pd.pivot_table(sgu, values=\"value\", columns=\"Col\", index=[\"Small Unit Installation Postcode\", \"variable\"]).reset_index()\n",
    "        sguSolar = sguSolar.append(sgu, ignore_index=True, sort=False)\n",
    "        file_count += 1\n",
    "sguSolar = sguSolar.drop_duplicates()\n",
    "print(\"Merged\", file_count, \"files\")\n",
    "print(\"Rows:\", len(sguSolar))"
   ]
  },
  {
   "cell_type": "code",
   "execution_count": 209,
   "metadata": {
    "scrolled": true
   },
   "outputs": [],
   "source": [
    "# update datatypes\n",
    "sguSolar[\"DATETIME\"] = pd.to_datetime(sguSolar[\"variable\"])"
   ]
  },
  {
   "cell_type": "code",
   "execution_count": 210,
   "metadata": {},
   "outputs": [],
   "source": [
    "# remove redundant columns\n",
    "sguSolar = sguSolar.drop(columns=[\"Small Unit Installation Postcode\",\"variable\"], errors='ignore')"
   ]
  },
  {
   "cell_type": "code",
   "execution_count": 211,
   "metadata": {},
   "outputs": [],
   "source": [
    "# rename columns\n",
    "sguSolar.columns = [\"OUTPUT\",\"QUANTITY\",\"DATETIME\"]"
   ]
  },
  {
   "cell_type": "code",
   "execution_count": 212,
   "metadata": {},
   "outputs": [],
   "source": [
    "# create new date variables\n",
    "sguSolar = create_date_vars(sguSolar, \"DATETIME\", day_req=False)"
   ]
  },
  {
   "cell_type": "code",
   "execution_count": 213,
   "metadata": {},
   "outputs": [
    {
     "name": "stdout",
     "output_type": "stream",
     "text": [
      "Rows: 170\n"
     ]
    }
   ],
   "source": [
    "# calculate cumulative sum, ordered by date\n",
    "sguSolar = sguSolar.sort_values(['DATE'], ascending=[True])\n",
    "# sguSolar[\"QUANTITYMONTHCUM\"] = sguSolar.groupby(['DATE'])['QUANTITY'].cumsum(axis=0)\n",
    "# sguSolar[\"QUANTITYTOTALCUM\"] = sguSolar['QUANTITY'].cumsum(axis=0)\n",
    "sguSolar = sguSolar.drop(columns=[\"DATETIME\",\"DATE\"], errors='ignore')\n",
    "print(\"Rows:\", len(sguSolar))"
   ]
  },
  {
   "cell_type": "code",
   "execution_count": 214,
   "metadata": {},
   "outputs": [
    {
     "data": {
      "text/plain": [
       "<AxesSubplot:>"
      ]
     },
     "execution_count": 214,
     "metadata": {},
     "output_type": "execute_result"
    },
    {
     "data": {
      "image/png": "[encoded data removed]",
      "text/plain": [
       "<Figure size 432x288 with 1 Axes>"
      ]
     },
     "metadata": {
      "needs_background": "light"
     },
     "output_type": "display_data"
    }
   ],
   "source": [
    "# check for outliers\n",
    "sns.boxplot(data=sguSolar[[\"OUTPUT\"]], orient=\"h\")"
   ]
  },
  {
   "cell_type": "code",
   "execution_count": 215,
   "metadata": {},
   "outputs": [],
   "source": [
    "# remove outliers\n",
    "# sguSolar = remove_outliers(sguSolar, \"OUTPUT\") \n",
    "# removing these outliers removes entire months of data, e.g. decemeber 2021 and april 2022"
   ]
  },
  {
   "cell_type": "code",
   "execution_count": 216,
   "metadata": {},
   "outputs": [
    {
     "name": "stdout",
     "output_type": "stream",
     "text": [
      "Rows: 170\n"
     ]
    },
    {
     "data": {
      "text/html": [
       "<div>\n",
       "<style scoped>\n",
       "    .dataframe tbody tr th:only-of-type {\n",
       "        vertical-align: middle;\n",
       "    }\n",
       "\n",
       "    .dataframe tbody tr th {\n",
       "        vertical-align: top;\n",
       "    }\n",
       "\n",
       "    .dataframe thead th {\n",
       "        text-align: right;\n",
       "    }\n",
       "</style>\n",
       "<table border=\"1\" class=\"dataframe\">\n",
       "  <thead>\n",
       "    <tr style=\"text-align: right;\">\n",
       "      <th></th>\n",
       "      <th>YEAR</th>\n",
       "      <th>MONTH</th>\n",
       "      <th>OUTPUT</th>\n",
       "      <th>QUANTITY</th>\n",
       "    </tr>\n",
       "  </thead>\n",
       "  <tbody>\n",
       "    <tr>\n",
       "      <th>0</th>\n",
       "      <td>2009</td>\n",
       "      <td>1</td>\n",
       "      <td>0.00</td>\n",
       "      <td>0.0</td>\n",
       "    </tr>\n",
       "    <tr>\n",
       "      <th>1</th>\n",
       "      <td>2009</td>\n",
       "      <td>2</td>\n",
       "      <td>0.00</td>\n",
       "      <td>0.0</td>\n",
       "    </tr>\n",
       "    <tr>\n",
       "      <th>2</th>\n",
       "      <td>2009</td>\n",
       "      <td>3</td>\n",
       "      <td>0.00</td>\n",
       "      <td>0.0</td>\n",
       "    </tr>\n",
       "    <tr>\n",
       "      <th>3</th>\n",
       "      <td>2009</td>\n",
       "      <td>4</td>\n",
       "      <td>0.99</td>\n",
       "      <td>1.0</td>\n",
       "    </tr>\n",
       "    <tr>\n",
       "      <th>4</th>\n",
       "      <td>2009</td>\n",
       "      <td>5</td>\n",
       "      <td>1.00</td>\n",
       "      <td>1.0</td>\n",
       "    </tr>\n",
       "  </tbody>\n",
       "</table>\n",
       "</div>"
      ],
      "text/plain": [
       "   YEAR  MONTH  OUTPUT  QUANTITY\n",
       "0  2009      1    0.00       0.0\n",
       "1  2009      2    0.00       0.0\n",
       "2  2009      3    0.00       0.0\n",
       "3  2009      4    0.99       1.0\n",
       "4  2009      5    1.00       1.0"
      ]
     },
     "execution_count": 216,
     "metadata": {},
     "output_type": "execute_result"
    }
   ],
   "source": [
    "sguSolarAgg = sguSolar.groupby([\"YEAR\",\"MONTH\"]).sum().reset_index()\n",
    "print(\"Rows:\", len(sguSolar))\n",
    "sguSolarAgg.head()"
   ]
  },
  {
   "cell_type": "code",
   "execution_count": 217,
   "metadata": {},
   "outputs": [],
   "source": [
    "# sguSolar[sguSolar['DATETIME'].dt.strftime('%Y-%m') > '2021-07'].sort_values(by=\"DATETIME\")\n",
    "\n",
    "# test = sguSolarAgg \n",
    "# test_lim = np.where(((test['YEAR'] == 2021) & (test['MONTH'] > 7)) | (test['YEAR'] == 2022))\n",
    "# # test_lim = np.where((test['YEAR'] == 2021) & (test['MONTH'] > 7))\n",
    "# # test_lim = np.where(test['YEAR'] == 2022)\n",
    "# test_lim = test.loc[test_lim]\n",
    "# test_lim.MONTH.unique() # missing 12/2021 and 04/2022"
   ]
  },
  {
   "attachments": {},
   "cell_type": "markdown",
   "metadata": {},
   "source": [
    "#### Humidity and Wind"
   ]
  },
  {
   "cell_type": "code",
   "execution_count": 218,
   "metadata": {},
   "outputs": [
    {
     "name": "stdout",
     "output_type": "stream",
     "text": [
      "Merged 7 files\n"
     ]
    }
   ],
   "source": [
    "#merge all files in folder\n",
    "wd = path + r\"\\Weather - timeanddate\"\n",
    "files = os.listdir(wd)\n",
    "weather = pd.DataFrame([])\n",
    "file_count = 0\n",
    "for file in files:\n",
    "    if file.endswith(\".csv\"):\n",
    "        file_df = pd.read_csv(wd + \"\\\\\" + file)\n",
    "        weather = weather.append(file_df, ignore_index=True, sort=False)\n",
    "        file_count += 1\n",
    "weather = weather.iloc[:,1:]\n",
    "print(\"Merged\", file_count, \"files\")"
   ]
  },
  {
   "cell_type": "code",
   "execution_count": 219,
   "metadata": {},
   "outputs": [],
   "source": [
    "# remove nulls\n",
    "weather = weather[~weather[\"HUMIDITY\"].str.contains(\"mbar\", na=False)]\n",
    "weather = weather.dropna()"
   ]
  },
  {
   "cell_type": "code",
   "execution_count": 220,
   "metadata": {},
   "outputs": [],
   "source": [
    "# update datatypes\n",
    "weather[\"DATETIME\"] = pd.to_datetime(weather[\"DATE\"])"
   ]
  },
  {
   "cell_type": "code",
   "execution_count": 221,
   "metadata": {},
   "outputs": [],
   "source": [
    "# create new date variables\n",
    "weather = create_date_vars(weather, \"DATETIME\")"
   ]
  },
  {
   "cell_type": "code",
   "execution_count": 222,
   "metadata": {},
   "outputs": [],
   "source": [
    "# remove redundant columns\n",
    "weather = weather.drop(columns=[\"DATE\",\"DATETIME\",\"TIME\",\"WINDDIRECTION\",\"BAROMETER\"], errors='ignore')"
   ]
  },
  {
   "cell_type": "code",
   "execution_count": 223,
   "metadata": {},
   "outputs": [],
   "source": [
    "# remove null rows\n",
    "weather = weather.dropna()"
   ]
  },
  {
   "cell_type": "code",
   "execution_count": 224,
   "metadata": {},
   "outputs": [],
   "source": [
    "# clean columns\n",
    "weather[\"HUMIDITY\"] = weather[\"HUMIDITY\"].str.split('%', expand=True)[0]\n",
    "weather[\"HUMIDITY\"] = weather[\"HUMIDITY\"].astype(int) / 100\n",
    "weather[\"TEMP\"] = weather[\"TEMP\"].map(lambda x: str(x)[:-2]).astype(float)\n",
    "weather[\"WINDSPEED\"] = weather[\"WINDSPEED\"].replace(\"No wind\", 0)\n",
    "weather[\"WINDSPEED\"] = weather[\"WINDSPEED\"].str.split(' km/h', expand=True)[0].astype(float)\n",
    "weather = weather[[\"YEAR\",\"MONTH\",\"DAY\",\"HUMIDITY\",\"WINDSPEED\"]]"
   ]
  },
  {
   "cell_type": "code",
   "execution_count": 225,
   "metadata": {},
   "outputs": [
    {
     "data": {
      "image/png": "[encoded data removed]",
      "text/plain": [
       "<Figure size 432x288 with 1 Axes>"
      ]
     },
     "metadata": {
      "needs_background": "light"
     },
     "output_type": "display_data"
    }
   ],
   "source": [
    "# check for outliers\n",
    "sns.boxplot(data=weather[[\"HUMIDITY\"]], orient=\"h\")\n",
    "plt.show()"
   ]
  },
  {
   "cell_type": "code",
   "execution_count": 226,
   "metadata": {},
   "outputs": [],
   "source": [
    "# remove outliers\n",
    "weather = remove_outliers(weather, \"HUMIDITY\")"
   ]
  },
  {
   "cell_type": "code",
   "execution_count": 227,
   "metadata": {},
   "outputs": [
    {
     "data": {
      "image/png": "[encoded data removed]",
      "text/plain": [
       "<Figure size 432x288 with 1 Axes>"
      ]
     },
     "metadata": {
      "needs_background": "light"
     },
     "output_type": "display_data"
    }
   ],
   "source": [
    "# check for outliers\n",
    "sns.boxplot(data=weather[[\"WINDSPEED\"]], orient=\"h\")\n",
    "plt.show()"
   ]
  },
  {
   "cell_type": "code",
   "execution_count": 228,
   "metadata": {},
   "outputs": [],
   "source": [
    "# remove outliers\n",
    "weather = remove_outliers(weather, \"WINDSPEED\")"
   ]
  },
  {
   "cell_type": "code",
   "execution_count": 229,
   "metadata": {},
   "outputs": [
    {
     "data": {
      "text/html": [
       "<div>\n",
       "<style scoped>\n",
       "    .dataframe tbody tr th:only-of-type {\n",
       "        vertical-align: middle;\n",
       "    }\n",
       "\n",
       "    .dataframe tbody tr th {\n",
       "        vertical-align: top;\n",
       "    }\n",
       "\n",
       "    .dataframe thead th {\n",
       "        text-align: right;\n",
       "    }\n",
       "</style>\n",
       "<table border=\"1\" class=\"dataframe\">\n",
       "  <thead>\n",
       "    <tr style=\"text-align: right;\">\n",
       "      <th></th>\n",
       "      <th>YEAR</th>\n",
       "      <th>MONTH</th>\n",
       "      <th>DAY</th>\n",
       "      <th>HUMIDITY</th>\n",
       "      <th>WINDSPEED</th>\n",
       "    </tr>\n",
       "  </thead>\n",
       "  <tbody>\n",
       "    <tr>\n",
       "      <th>0</th>\n",
       "      <td>2016</td>\n",
       "      <td>1</td>\n",
       "      <td>1</td>\n",
       "      <td>0.656341</td>\n",
       "      <td>15.902439</td>\n",
       "    </tr>\n",
       "    <tr>\n",
       "      <th>1</th>\n",
       "      <td>2016</td>\n",
       "      <td>1</td>\n",
       "      <td>2</td>\n",
       "      <td>0.656341</td>\n",
       "      <td>15.902439</td>\n",
       "    </tr>\n",
       "    <tr>\n",
       "      <th>2</th>\n",
       "      <td>2016</td>\n",
       "      <td>1</td>\n",
       "      <td>3</td>\n",
       "      <td>0.688837</td>\n",
       "      <td>14.488372</td>\n",
       "    </tr>\n",
       "    <tr>\n",
       "      <th>3</th>\n",
       "      <td>2016</td>\n",
       "      <td>1</td>\n",
       "      <td>4</td>\n",
       "      <td>0.679545</td>\n",
       "      <td>22.477273</td>\n",
       "    </tr>\n",
       "    <tr>\n",
       "      <th>4</th>\n",
       "      <td>2016</td>\n",
       "      <td>1</td>\n",
       "      <td>5</td>\n",
       "      <td>0.768837</td>\n",
       "      <td>22.581395</td>\n",
       "    </tr>\n",
       "  </tbody>\n",
       "</table>\n",
       "</div>"
      ],
      "text/plain": [
       "   YEAR  MONTH  DAY  HUMIDITY  WINDSPEED\n",
       "0  2016      1    1  0.656341  15.902439\n",
       "1  2016      1    2  0.656341  15.902439\n",
       "2  2016      1    3  0.688837  14.488372\n",
       "3  2016      1    4  0.679545  22.477273\n",
       "4  2016      1    5  0.768837  22.581395"
      ]
     },
     "execution_count": 229,
     "metadata": {},
     "output_type": "execute_result"
    }
   ],
   "source": [
    "weatherAgg = weather.groupby([\"YEAR\",\"MONTH\",\"DAY\"]).mean().reset_index()\n",
    "weatherAgg.head() "
   ]
  },
  {
   "attachments": {},
   "cell_type": "markdown",
   "metadata": {},
   "source": [
    "#### Public Holidays"
   ]
  },
  {
   "cell_type": "code",
   "execution_count": 230,
   "metadata": {},
   "outputs": [
    {
     "name": "stdout",
     "output_type": "stream",
     "text": [
      "Merged 7 files\n"
     ]
    }
   ],
   "source": [
    "#merge all files in folder\n",
    "wd = path + r\"\\Public Holidays\"\n",
    "files = os.listdir(wd)\n",
    "holidays = pd.DataFrame([])\n",
    "file_count = 0\n",
    "for file in files:\n",
    "    if file.endswith(\".csv\"):\n",
    "        file_df = pd.read_csv(wd + \"\\\\\" + file)\n",
    "        try: file_df[\"Jurisdiction\"] = file_df[\"Applicable To\"]\n",
    "        except: pass\n",
    "        file_df = file_df[[\"Date\",\"Jurisdiction\"]]\n",
    "        holidays = holidays.append(file_df, ignore_index=True, sort=False)\n",
    "        file_count += 1\n",
    "print(\"Merged\", file_count, \"files\")"
   ]
  },
  {
   "cell_type": "code",
   "execution_count": 231,
   "metadata": {},
   "outputs": [],
   "source": [
    "# update data type\n",
    "holidays['Date'] = holidays['Date'].astype(str)"
   ]
  },
  {
   "cell_type": "code",
   "execution_count": 232,
   "metadata": {},
   "outputs": [],
   "source": [
    "# create date variables\n",
    "holidays['YEAR'] = holidays['Date'].str[:4].astype(int)\n",
    "holidays['MONTH'] = holidays['Date'].str[4:6].astype(int)\n",
    "holidays['DAY'] = holidays['Date'].str[6:].astype(int)"
   ]
  },
  {
   "cell_type": "code",
   "execution_count": 233,
   "metadata": {},
   "outputs": [],
   "source": [
    "# unpack jurisdiction values and filter to NSW only\n",
    "holidays['Jurisdiction'] = holidays['Jurisdiction'].str.split('|')\n",
    "holidays = holidays.explode('Jurisdiction')\n",
    "holidays['Jurisdiction'] = holidays['Jurisdiction'].str.upper()\n",
    "holidays['Jurisdiction'] = holidays['Jurisdiction'].str.replace('NAT','NSW') \n",
    "holidays = holidays[(holidays['Jurisdiction']==\"NSW\")]\n",
    "holidays = holidays.drop(columns=[\"Date\",\"Jurisdiction\"])"
   ]
  },
  {
   "cell_type": "code",
   "execution_count": 234,
   "metadata": {},
   "outputs": [
    {
     "data": {
      "text/html": [
       "<div>\n",
       "<style scoped>\n",
       "    .dataframe tbody tr th:only-of-type {\n",
       "        vertical-align: middle;\n",
       "    }\n",
       "\n",
       "    .dataframe tbody tr th {\n",
       "        vertical-align: top;\n",
       "    }\n",
       "\n",
       "    .dataframe thead th {\n",
       "        text-align: right;\n",
       "    }\n",
       "</style>\n",
       "<table border=\"1\" class=\"dataframe\">\n",
       "  <thead>\n",
       "    <tr style=\"text-align: right;\">\n",
       "      <th></th>\n",
       "      <th>YEAR</th>\n",
       "      <th>MONTH</th>\n",
       "      <th>DAY</th>\n",
       "      <th>HOLIDAY</th>\n",
       "    </tr>\n",
       "  </thead>\n",
       "  <tbody>\n",
       "    <tr>\n",
       "      <th>0</th>\n",
       "      <td>2015</td>\n",
       "      <td>1</td>\n",
       "      <td>1</td>\n",
       "      <td>1</td>\n",
       "    </tr>\n",
       "    <tr>\n",
       "      <th>1</th>\n",
       "      <td>2015</td>\n",
       "      <td>1</td>\n",
       "      <td>26</td>\n",
       "      <td>1</td>\n",
       "    </tr>\n",
       "    <tr>\n",
       "      <th>2</th>\n",
       "      <td>2015</td>\n",
       "      <td>4</td>\n",
       "      <td>3</td>\n",
       "      <td>1</td>\n",
       "    </tr>\n",
       "    <tr>\n",
       "      <th>3</th>\n",
       "      <td>2015</td>\n",
       "      <td>4</td>\n",
       "      <td>4</td>\n",
       "      <td>1</td>\n",
       "    </tr>\n",
       "    <tr>\n",
       "      <th>4</th>\n",
       "      <td>2015</td>\n",
       "      <td>4</td>\n",
       "      <td>5</td>\n",
       "      <td>1</td>\n",
       "    </tr>\n",
       "  </tbody>\n",
       "</table>\n",
       "</div>"
      ],
      "text/plain": [
       "   YEAR  MONTH  DAY  HOLIDAY\n",
       "0  2015      1    1        1\n",
       "1  2015      1   26        1\n",
       "2  2015      4    3        1\n",
       "3  2015      4    4        1\n",
       "4  2015      4    5        1"
      ]
     },
     "execution_count": 234,
     "metadata": {},
     "output_type": "execute_result"
    }
   ],
   "source": [
    "# holiday count\n",
    "holidays[\"HOLIDAY\"] = 1\n",
    "holidays = holidays.groupby([\"YEAR\",\"MONTH\",\"DAY\"]).count().reset_index()\n",
    "holidays.head()"
   ]
  },
  {
   "cell_type": "markdown",
   "metadata": {},
   "source": [
    "#### Merge All Datasets"
   ]
  },
  {
   "cell_type": "code",
   "execution_count": 246,
   "metadata": {},
   "outputs": [
    {
     "name": "stdout",
     "output_type": "stream",
     "text": [
      "Rows: 2405\n"
     ]
    },
    {
     "data": {
      "text/html": [
       "<div>\n",
       "<style scoped>\n",
       "    .dataframe tbody tr th:only-of-type {\n",
       "        vertical-align: middle;\n",
       "    }\n",
       "\n",
       "    .dataframe tbody tr th {\n",
       "        vertical-align: top;\n",
       "    }\n",
       "\n",
       "    .dataframe thead th {\n",
       "        text-align: right;\n",
       "    }\n",
       "</style>\n",
       "<table border=\"1\" class=\"dataframe\">\n",
       "  <thead>\n",
       "    <tr style=\"text-align: right;\">\n",
       "      <th></th>\n",
       "      <th>YEAR</th>\n",
       "      <th>MONTH</th>\n",
       "      <th>DAY</th>\n",
       "      <th>HUMIDITY</th>\n",
       "      <th>WINDSPEED</th>\n",
       "      <th>DATE</th>\n",
       "      <th>TOTALDEMAND_x</th>\n",
       "      <th>HOLIDAY</th>\n",
       "      <th>MIN</th>\n",
       "      <th>ACCMIN</th>\n",
       "      <th>MAX</th>\n",
       "      <th>ACCMAX</th>\n",
       "      <th>RAIN</th>\n",
       "      <th>RAINPERIOD</th>\n",
       "      <th>SOLAR</th>\n",
       "      <th>TOTALDEMAND_y</th>\n",
       "      <th>RRP</th>\n",
       "      <th>FORECASTDEMAND</th>\n",
       "      <th>OUTPUT</th>\n",
       "      <th>QUANTITY</th>\n",
       "    </tr>\n",
       "  </thead>\n",
       "  <tbody>\n",
       "    <tr>\n",
       "      <th>2191</th>\n",
       "      <td>2016</td>\n",
       "      <td>1</td>\n",
       "      <td>1</td>\n",
       "      <td>0.656341</td>\n",
       "      <td>15.902439</td>\n",
       "      <td>2016-01-01</td>\n",
       "      <td>6853.633437</td>\n",
       "      <td>2.0</td>\n",
       "      <td>15.3</td>\n",
       "      <td>1.0</td>\n",
       "      <td>28.6</td>\n",
       "      <td>1.0</td>\n",
       "      <td>0.0</td>\n",
       "      <td>1.0</td>\n",
       "      <td>32.2</td>\n",
       "      <td>6861.518333</td>\n",
       "      <td>38.472917</td>\n",
       "      <td>6665.366167</td>\n",
       "      <td>23.465</td>\n",
       "      <td>5.0</td>\n",
       "    </tr>\n",
       "    <tr>\n",
       "      <th>2192</th>\n",
       "      <td>2016</td>\n",
       "      <td>1</td>\n",
       "      <td>2</td>\n",
       "      <td>0.656341</td>\n",
       "      <td>15.902439</td>\n",
       "      <td>2016-01-02</td>\n",
       "      <td>6727.613958</td>\n",
       "      <td>0.0</td>\n",
       "      <td>15.9</td>\n",
       "      <td>1.0</td>\n",
       "      <td>26.1</td>\n",
       "      <td>1.0</td>\n",
       "      <td>0.0</td>\n",
       "      <td>1.0</td>\n",
       "      <td>21.7</td>\n",
       "      <td>6731.957292</td>\n",
       "      <td>36.907292</td>\n",
       "      <td>6236.849955</td>\n",
       "      <td>23.465</td>\n",
       "      <td>5.0</td>\n",
       "    </tr>\n",
       "    <tr>\n",
       "      <th>2193</th>\n",
       "      <td>2016</td>\n",
       "      <td>1</td>\n",
       "      <td>3</td>\n",
       "      <td>0.688837</td>\n",
       "      <td>14.488372</td>\n",
       "      <td>2016-01-03</td>\n",
       "      <td>6616.406076</td>\n",
       "      <td>0.0</td>\n",
       "      <td>17.5</td>\n",
       "      <td>1.0</td>\n",
       "      <td>25.6</td>\n",
       "      <td>1.0</td>\n",
       "      <td>0.0</td>\n",
       "      <td>1.0</td>\n",
       "      <td>10.3</td>\n",
       "      <td>6618.040000</td>\n",
       "      <td>31.997083</td>\n",
       "      <td>6551.924748</td>\n",
       "      <td>23.465</td>\n",
       "      <td>5.0</td>\n",
       "    </tr>\n",
       "    <tr>\n",
       "      <th>2194</th>\n",
       "      <td>2016</td>\n",
       "      <td>1</td>\n",
       "      <td>4</td>\n",
       "      <td>0.679545</td>\n",
       "      <td>22.477273</td>\n",
       "      <td>2016-01-04</td>\n",
       "      <td>7367.750278</td>\n",
       "      <td>0.0</td>\n",
       "      <td>18.2</td>\n",
       "      <td>1.0</td>\n",
       "      <td>23.6</td>\n",
       "      <td>1.0</td>\n",
       "      <td>14.0</td>\n",
       "      <td>1.0</td>\n",
       "      <td>6.4</td>\n",
       "      <td>7358.550000</td>\n",
       "      <td>33.424583</td>\n",
       "      <td>6729.993123</td>\n",
       "      <td>23.465</td>\n",
       "      <td>5.0</td>\n",
       "    </tr>\n",
       "    <tr>\n",
       "      <th>2195</th>\n",
       "      <td>2016</td>\n",
       "      <td>1</td>\n",
       "      <td>5</td>\n",
       "      <td>0.768837</td>\n",
       "      <td>22.581395</td>\n",
       "      <td>2016-01-05</td>\n",
       "      <td>7462.242014</td>\n",
       "      <td>0.0</td>\n",
       "      <td>17.6</td>\n",
       "      <td>1.0</td>\n",
       "      <td>20.5</td>\n",
       "      <td>1.0</td>\n",
       "      <td>39.0</td>\n",
       "      <td>1.0</td>\n",
       "      <td>4.4</td>\n",
       "      <td>7460.061875</td>\n",
       "      <td>33.053958</td>\n",
       "      <td>7333.898202</td>\n",
       "      <td>23.465</td>\n",
       "      <td>5.0</td>\n",
       "    </tr>\n",
       "  </tbody>\n",
       "</table>\n",
       "</div>"
      ],
      "text/plain": [
       "      YEAR  MONTH  DAY  HUMIDITY  WINDSPEED        DATE  TOTALDEMAND_x  \\\n",
       "2191  2016      1    1  0.656341  15.902439  2016-01-01    6853.633437   \n",
       "2192  2016      1    2  0.656341  15.902439  2016-01-02    6727.613958   \n",
       "2193  2016      1    3  0.688837  14.488372  2016-01-03    6616.406076   \n",
       "2194  2016      1    4  0.679545  22.477273  2016-01-04    7367.750278   \n",
       "2195  2016      1    5  0.768837  22.581395  2016-01-05    7462.242014   \n",
       "\n",
       "      HOLIDAY   MIN  ACCMIN   MAX  ACCMAX  RAIN  RAINPERIOD  SOLAR  \\\n",
       "2191      2.0  15.3     1.0  28.6     1.0   0.0         1.0   32.2   \n",
       "2192      0.0  15.9     1.0  26.1     1.0   0.0         1.0   21.7   \n",
       "2193      0.0  17.5     1.0  25.6     1.0   0.0         1.0   10.3   \n",
       "2194      0.0  18.2     1.0  23.6     1.0  14.0         1.0    6.4   \n",
       "2195      0.0  17.6     1.0  20.5     1.0  39.0         1.0    4.4   \n",
       "\n",
       "      TOTALDEMAND_y        RRP  FORECASTDEMAND  OUTPUT  QUANTITY  \n",
       "2191    6861.518333  38.472917     6665.366167  23.465       5.0  \n",
       "2192    6731.957292  36.907292     6236.849955  23.465       5.0  \n",
       "2193    6618.040000  31.997083     6551.924748  23.465       5.0  \n",
       "2194    7358.550000  33.424583     6729.993123  23.465       5.0  \n",
       "2195    7460.061875  33.053958     7333.898202  23.465       5.0  "
      ]
     },
     "execution_count": 246,
     "metadata": {},
     "output_type": "execute_result"
    }
   ],
   "source": [
    "df = totalDemandAgg.merge(holidays, how=\"left\", on=[\"YEAR\",\"MONTH\",\"DAY\"])\n",
    "df = weatherAgg.merge(df, how=\"right\", on=[\"YEAR\",\"MONTH\",\"DAY\"])\n",
    "df = df.merge(bom, how=\"left\", on=[\"YEAR\",\"MONTH\",\"DAY\"])\n",
    "df = df.merge(pricesAgg, how=\"left\", on=[\"YEAR\",\"MONTH\",\"DAY\"])\n",
    "df = df.merge(forecastDemandAgg, how=\"left\", on=[\"YEAR\",\"MONTH\",\"DAY\"])\n",
    "df = df.merge(sguSolarAgg, how=\"left\", on=[\"YEAR\",\"MONTH\"])\n",
    "df = df[df[\"YEAR\"]>=2016]\n",
    "df[\"HOLIDAY\"] = df[\"HOLIDAY\"].fillna(0)\n",
    "print(\"Rows:\", len(df))\n",
    "df = df.sort_values(\"DATE\")\n",
    "df.head() "
   ]
  },
  {
   "cell_type": "code",
   "execution_count": 247,
   "metadata": {},
   "outputs": [],
   "source": [
    "# add month date column\n",
    "df['MONTHDATE'] = df['MONTH'].map(str)+ '-' +df['YEAR'].map(str)\n",
    "df['MONTHDATE'] = pd.to_datetime(df['MONTHDATE'], format='%m-%Y').dt.strftime('%m-%Y')"
   ]
  },
  {
   "cell_type": "code",
   "execution_count": 248,
   "metadata": {},
   "outputs": [],
   "source": [
    "# add week day column\n",
    "df['DATE'] = pd.to_datetime(df['DATE'],format=\"%Y-%m-%d\")\n",
    "df[\"WEEKDAY\"] = df[\"DATE\"].dt.dayofweek\n",
    "df[\"WEEKEND\"] = np.select([df[\"WEEKDAY\"]>4], [1], 0)"
   ]
  },
  {
   "cell_type": "code",
   "execution_count": 249,
   "metadata": {},
   "outputs": [],
   "source": [
    "# create average temperature\n",
    "df[\"TEMPAVE\"] = (df[\"MIN\"] + df[\"MAX\"]) / 2"
   ]
  },
  {
   "cell_type": "code",
   "execution_count": 250,
   "metadata": {},
   "outputs": [],
   "source": [
    "# remove duplicate TOTALDEMAND column and rename\n",
    "df = df.drop(columns=[\"TOTALDEMAND_y\"], errors=\"ignore\")\n",
    "df = df.rename(columns={'TOTALDEMAND_x': 'TOTALDEMAND'})"
   ]
  },
  {
   "cell_type": "code",
   "execution_count": 251,
   "metadata": {},
   "outputs": [],
   "source": [
    "# remove unnessecary columns\n",
    "df = df.drop(columns=[\"ACCMAX\",\"ACCMIN\",\"RAINPERIOD\",\"QUANTITY\"],errors=\"ignore\")"
   ]
  },
  {
   "cell_type": "code",
   "execution_count": 252,
   "metadata": {},
   "outputs": [
    {
     "data": {
      "text/plain": [
       "YEAR               0\n",
       "MONTH              0\n",
       "DAY                0\n",
       "HUMIDITY           1\n",
       "WINDSPEED          1\n",
       "DATE               0\n",
       "TOTALDEMAND        0\n",
       "HOLIDAY            0\n",
       "MIN                9\n",
       "MAX               13\n",
       "RAIN              55\n",
       "SOLAR              1\n",
       "RRP               29\n",
       "FORECASTDEMAND    36\n",
       "OUTPUT             0\n",
       "MONTHDATE          0\n",
       "WEEKDAY            0\n",
       "WEEKEND            0\n",
       "TEMPAVE           17\n",
       "dtype: int64"
      ]
     },
     "execution_count": 252,
     "metadata": {},
     "output_type": "execute_result"
    }
   ],
   "source": [
    "# check for nulls\n",
    "df.isna().sum()"
   ]
  },
  {
   "cell_type": "code",
   "execution_count": 253,
   "metadata": {},
   "outputs": [
    {
     "data": {
      "text/plain": [
       "YEAR              0\n",
       "MONTH             0\n",
       "DAY               0\n",
       "HUMIDITY          0\n",
       "WINDSPEED         0\n",
       "DATE              0\n",
       "TOTALDEMAND       0\n",
       "HOLIDAY           0\n",
       "MIN               0\n",
       "MAX               0\n",
       "RAIN              0\n",
       "SOLAR             0\n",
       "RRP               0\n",
       "FORECASTDEMAND    0\n",
       "OUTPUT            0\n",
       "MONTHDATE         0\n",
       "WEEKDAY           0\n",
       "WEEKEND           0\n",
       "TEMPAVE           0\n",
       "dtype: int64"
      ]
     },
     "execution_count": 253,
     "metadata": {},
     "output_type": "execute_result"
    }
   ],
   "source": [
    "# solar panel installations missing data for 2021 - remove this year for now\n",
    "# remove rows with empty forecast demand, solar, temperatures\n",
    "# replace nulls in rain columns with 0\n",
    "df = df.dropna(axis=0, subset=['RRP'])\n",
    "df = df.fillna(0)\n",
    "df.isna().sum()"
   ]
  },
  {
   "cell_type": "code",
   "execution_count": 254,
   "metadata": {},
   "outputs": [
    {
     "data": {
      "text/html": [
       "<div>\n",
       "<style scoped>\n",
       "    .dataframe tbody tr th:only-of-type {\n",
       "        vertical-align: middle;\n",
       "    }\n",
       "\n",
       "    .dataframe tbody tr th {\n",
       "        vertical-align: top;\n",
       "    }\n",
       "\n",
       "    .dataframe thead th {\n",
       "        text-align: right;\n",
       "    }\n",
       "</style>\n",
       "<table border=\"1\" class=\"dataframe\">\n",
       "  <thead>\n",
       "    <tr style=\"text-align: right;\">\n",
       "      <th></th>\n",
       "      <th>YEAR</th>\n",
       "      <th>MONTH</th>\n",
       "      <th>DAY</th>\n",
       "      <th>HUMIDITY</th>\n",
       "      <th>WINDSPEED</th>\n",
       "      <th>DATE</th>\n",
       "      <th>TOTALDEMAND</th>\n",
       "      <th>HOLIDAY</th>\n",
       "      <th>MIN</th>\n",
       "      <th>MAX</th>\n",
       "      <th>RAIN</th>\n",
       "      <th>SOLAR</th>\n",
       "      <th>RRP</th>\n",
       "      <th>FORECASTDEMAND</th>\n",
       "      <th>OUTPUT</th>\n",
       "      <th>MONTHDATE</th>\n",
       "      <th>WEEKDAY</th>\n",
       "      <th>WEEKEND</th>\n",
       "      <th>TEMPAVE</th>\n",
       "    </tr>\n",
       "  </thead>\n",
       "  <tbody>\n",
       "    <tr>\n",
       "      <th>2191</th>\n",
       "      <td>2016</td>\n",
       "      <td>1</td>\n",
       "      <td>1</td>\n",
       "      <td>0.656341</td>\n",
       "      <td>15.902439</td>\n",
       "      <td>2016-01-01</td>\n",
       "      <td>6853.633437</td>\n",
       "      <td>2.0</td>\n",
       "      <td>15.3</td>\n",
       "      <td>28.6</td>\n",
       "      <td>0.0</td>\n",
       "      <td>32.2</td>\n",
       "      <td>38.472917</td>\n",
       "      <td>6665.366167</td>\n",
       "      <td>23.465</td>\n",
       "      <td>01-2016</td>\n",
       "      <td>4</td>\n",
       "      <td>0</td>\n",
       "      <td>21.95</td>\n",
       "    </tr>\n",
       "    <tr>\n",
       "      <th>2192</th>\n",
       "      <td>2016</td>\n",
       "      <td>1</td>\n",
       "      <td>2</td>\n",
       "      <td>0.656341</td>\n",
       "      <td>15.902439</td>\n",
       "      <td>2016-01-02</td>\n",
       "      <td>6727.613958</td>\n",
       "      <td>0.0</td>\n",
       "      <td>15.9</td>\n",
       "      <td>26.1</td>\n",
       "      <td>0.0</td>\n",
       "      <td>21.7</td>\n",
       "      <td>36.907292</td>\n",
       "      <td>6236.849955</td>\n",
       "      <td>23.465</td>\n",
       "      <td>01-2016</td>\n",
       "      <td>5</td>\n",
       "      <td>1</td>\n",
       "      <td>21.00</td>\n",
       "    </tr>\n",
       "    <tr>\n",
       "      <th>2193</th>\n",
       "      <td>2016</td>\n",
       "      <td>1</td>\n",
       "      <td>3</td>\n",
       "      <td>0.688837</td>\n",
       "      <td>14.488372</td>\n",
       "      <td>2016-01-03</td>\n",
       "      <td>6616.406076</td>\n",
       "      <td>0.0</td>\n",
       "      <td>17.5</td>\n",
       "      <td>25.6</td>\n",
       "      <td>0.0</td>\n",
       "      <td>10.3</td>\n",
       "      <td>31.997083</td>\n",
       "      <td>6551.924748</td>\n",
       "      <td>23.465</td>\n",
       "      <td>01-2016</td>\n",
       "      <td>6</td>\n",
       "      <td>1</td>\n",
       "      <td>21.55</td>\n",
       "    </tr>\n",
       "    <tr>\n",
       "      <th>2194</th>\n",
       "      <td>2016</td>\n",
       "      <td>1</td>\n",
       "      <td>4</td>\n",
       "      <td>0.679545</td>\n",
       "      <td>22.477273</td>\n",
       "      <td>2016-01-04</td>\n",
       "      <td>7367.750278</td>\n",
       "      <td>0.0</td>\n",
       "      <td>18.2</td>\n",
       "      <td>23.6</td>\n",
       "      <td>14.0</td>\n",
       "      <td>6.4</td>\n",
       "      <td>33.424583</td>\n",
       "      <td>6729.993123</td>\n",
       "      <td>23.465</td>\n",
       "      <td>01-2016</td>\n",
       "      <td>0</td>\n",
       "      <td>0</td>\n",
       "      <td>20.90</td>\n",
       "    </tr>\n",
       "    <tr>\n",
       "      <th>2195</th>\n",
       "      <td>2016</td>\n",
       "      <td>1</td>\n",
       "      <td>5</td>\n",
       "      <td>0.768837</td>\n",
       "      <td>22.581395</td>\n",
       "      <td>2016-01-05</td>\n",
       "      <td>7462.242014</td>\n",
       "      <td>0.0</td>\n",
       "      <td>17.6</td>\n",
       "      <td>20.5</td>\n",
       "      <td>39.0</td>\n",
       "      <td>4.4</td>\n",
       "      <td>33.053958</td>\n",
       "      <td>7333.898202</td>\n",
       "      <td>23.465</td>\n",
       "      <td>01-2016</td>\n",
       "      <td>1</td>\n",
       "      <td>0</td>\n",
       "      <td>19.05</td>\n",
       "    </tr>\n",
       "  </tbody>\n",
       "</table>\n",
       "</div>"
      ],
      "text/plain": [
       "      YEAR  MONTH  DAY  HUMIDITY  WINDSPEED       DATE  TOTALDEMAND  HOLIDAY  \\\n",
       "2191  2016      1    1  0.656341  15.902439 2016-01-01  6853.633437      2.0   \n",
       "2192  2016      1    2  0.656341  15.902439 2016-01-02  6727.613958      0.0   \n",
       "2193  2016      1    3  0.688837  14.488372 2016-01-03  6616.406076      0.0   \n",
       "2194  2016      1    4  0.679545  22.477273 2016-01-04  7367.750278      0.0   \n",
       "2195  2016      1    5  0.768837  22.581395 2016-01-05  7462.242014      0.0   \n",
       "\n",
       "       MIN   MAX  RAIN  SOLAR        RRP  FORECASTDEMAND  OUTPUT MONTHDATE  \\\n",
       "2191  15.3  28.6   0.0   32.2  38.472917     6665.366167  23.465   01-2016   \n",
       "2192  15.9  26.1   0.0   21.7  36.907292     6236.849955  23.465   01-2016   \n",
       "2193  17.5  25.6   0.0   10.3  31.997083     6551.924748  23.465   01-2016   \n",
       "2194  18.2  23.6  14.0    6.4  33.424583     6729.993123  23.465   01-2016   \n",
       "2195  17.6  20.5  39.0    4.4  33.053958     7333.898202  23.465   01-2016   \n",
       "\n",
       "      WEEKDAY  WEEKEND  TEMPAVE  \n",
       "2191        4        0    21.95  \n",
       "2192        5        1    21.00  \n",
       "2193        6        1    21.55  \n",
       "2194        0        0    20.90  \n",
       "2195        1        0    19.05  "
      ]
     },
     "execution_count": 254,
     "metadata": {},
     "output_type": "execute_result"
    }
   ],
   "source": [
    "df.head()"
   ]
  },
  {
   "cell_type": "code",
   "execution_count": 256,
   "metadata": {},
   "outputs": [],
   "source": [
    "# save cleaned and merged dataset as csv\n",
    "target_dir = os.getcwd() + \"\\\\Cleaned data\\\\\"\n",
    "df.to_csv(target_dir+\"data.csv\",index=False)"
   ]
  },
  {
   "attachments": {},
   "cell_type": "markdown",
   "metadata": {},
   "source": [
    "## Exploratory Data Analysis\n",
    "\n",
    "### Visuals moved to new notebook \"Analysis - Visuals and Correlatons\""
   ]
  }
 ],
 "metadata": {
  "kernelspec": {
   "display_name": "Python 3",
   "language": "python",
   "name": "python3"
  },
  "language_info": {
   "codemirror_mode": {
    "name": "ipython",
    "version": 3
   },
   "file_extension": ".py",
   "mimetype": "text/x-python",
   "name": "python",
   "nbconvert_exporter": "python",
   "pygments_lexer": "ipython3",
   "version": "3.8.12"
  }
 },
 "nbformat": 4,
 "nbformat_minor": 2
}

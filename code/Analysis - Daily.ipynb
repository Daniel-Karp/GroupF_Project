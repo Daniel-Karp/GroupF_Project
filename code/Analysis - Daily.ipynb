{
 "cells": [
  {
   "cell_type": "markdown",
   "metadata": {},
   "source": [
    "## Contents\n",
    "1. Import Libraries and Set Directory\n",
    "2. Data Cleaning\n",
    "    * Functions\n",
    "    * Total Demand\n",
    "    * Temperature\n",
    "    * Forecast Demand\n",
    "    * Energy Prices and Demand\n",
    "    * BOM\n",
    "    * Solar Installations\n",
    "    * Merge Datasets\n",
    "3. Exploratory Data Analysis\n",
    "    * Total Demand Timeseries\n",
    "    * Temperature Timeseries\n",
    "    * Rain Timeseries\n",
    "    * Timeseries Comparison\n",
    "    * Timeseries Comparison with Kernal Smoothing"
   ]
  },
  {
   "cell_type": "code",
   "execution_count": 98,
   "metadata": {},
   "outputs": [],
   "source": [
    "import pandas as pd\n",
    "import numpy as np\n",
    "import os\n",
    "import datetime as dt\n",
    "import zipfile\n",
    "import tempfile # for temporary file storage to avoid storing large datasets on github\n",
    "import matplotlib.pyplot as plt"
   ]
  },
  {
   "cell_type": "code",
   "execution_count": 99,
   "metadata": {},
   "outputs": [],
   "source": [
    "base_dir = os.path.dirname(os.path.abspath(\"..\\data\"))\n",
    "path = os.path.join(base_dir, r\"data\")\n",
    "os.chdir(path)"
   ]
  },
  {
   "cell_type": "code",
   "execution_count": 100,
   "metadata": {},
   "outputs": [],
   "source": [
    "# os.listdir()"
   ]
  },
  {
   "cell_type": "markdown",
   "metadata": {},
   "source": [
    "## Data Cleaning"
   ]
  },
  {
   "cell_type": "markdown",
   "metadata": {},
   "source": [
    "#### Functions"
   ]
  },
  {
   "cell_type": "code",
   "execution_count": 101,
   "metadata": {},
   "outputs": [],
   "source": [
    "# read zips from repo, extract data into temp dir, create dataframes\n",
    "def zip_to_df(file_name):\n",
    "    # create temporary directory  \n",
    "    with tempfile.TemporaryDirectory() as tmpdirname:\n",
    "        # collect data from zip file \n",
    "        with zipfile.ZipFile(file_name+\".zip\") as zip_file:\n",
    "            file_list = zip_file.namelist()\n",
    "            for file in file_list:\n",
    "                zip_file.extract(file, tmpdirname)\n",
    "            file_path = tmpdirname+\"\\\\\"+file_name\n",
    "            # create and return dataframe\n",
    "            df = pd.read_csv(file_path)\n",
    "            return df"
   ]
  },
  {
   "cell_type": "code",
   "execution_count": 102,
   "metadata": {},
   "outputs": [],
   "source": [
    "def create_date_vars(df, col, day_req=True):\n",
    "    df[\"DATE\"] = df[col].dt.date\n",
    "    df[\"YEAR\"] = df[col].dt.year\n",
    "    df[\"MONTH\"] = df[col].dt.month\n",
    "    if day_req == True: df[\"DAY\"] = df[col].dt.day\n",
    "#     df[\"TIME\"] = df[col].dt.time\n",
    "#     df[\"HOURS\"] = df[col].dt.hour\n",
    "#     df[\"MINUTES\"] = df[col].dt.minute\n",
    "    return df"
   ]
  },
  {
   "cell_type": "markdown",
   "metadata": {},
   "source": [
    "#### Total Demand"
   ]
  },
  {
   "cell_type": "code",
   "execution_count": 103,
   "metadata": {},
   "outputs": [
    {
     "name": "stdout",
     "output_type": "stream",
     "text": [
      "Rows: 1323398\n"
     ]
    }
   ],
   "source": [
    "file_name = \"totaldemand_nsw.csv\"\n",
    "totalDemand = zip_to_df(file_name)\n",
    "print(\"Rows:\", len(totalDemand))"
   ]
  },
  {
   "cell_type": "code",
   "execution_count": 104,
   "metadata": {},
   "outputs": [],
   "source": [
    "#update datatypes\n",
    "totalDemand['DATETIME'] = pd.to_datetime(totalDemand['DATETIME'])"
   ]
  },
  {
   "cell_type": "code",
   "execution_count": 105,
   "metadata": {},
   "outputs": [],
   "source": [
    "# create new date variables\n",
    "totalDemand = create_date_vars(totalDemand, \"DATETIME\")"
   ]
  },
  {
   "cell_type": "code",
   "execution_count": 106,
   "metadata": {},
   "outputs": [],
   "source": [
    "# remove redundant columns\n",
    "totalDemand = totalDemand.drop(columns=[\"REGIONID\"], errors='ignore')"
   ]
  },
  {
   "cell_type": "code",
   "execution_count": 107,
   "metadata": {},
   "outputs": [
    {
     "name": "stdout",
     "output_type": "stream",
     "text": [
      "Rows: 4596\n"
     ]
    },
    {
     "data": {
      "text/html": [
       "<div>\n",
       "<style scoped>\n",
       "    .dataframe tbody tr th:only-of-type {\n",
       "        vertical-align: middle;\n",
       "    }\n",
       "\n",
       "    .dataframe tbody tr th {\n",
       "        vertical-align: top;\n",
       "    }\n",
       "\n",
       "    .dataframe thead th {\n",
       "        text-align: right;\n",
       "    }\n",
       "</style>\n",
       "<table border=\"1\" class=\"dataframe\">\n",
       "  <thead>\n",
       "    <tr style=\"text-align: right;\">\n",
       "      <th></th>\n",
       "      <th>YEAR</th>\n",
       "      <th>MONTH</th>\n",
       "      <th>DAY</th>\n",
       "      <th>DATE</th>\n",
       "      <th>TOTALDEMAND</th>\n",
       "    </tr>\n",
       "  </thead>\n",
       "  <tbody>\n",
       "    <tr>\n",
       "      <th>0</th>\n",
       "      <td>2010</td>\n",
       "      <td>1</td>\n",
       "      <td>1</td>\n",
       "      <td>2010-01-01</td>\n",
       "      <td>7793.463681</td>\n",
       "    </tr>\n",
       "    <tr>\n",
       "      <th>1</th>\n",
       "      <td>2010</td>\n",
       "      <td>1</td>\n",
       "      <td>2</td>\n",
       "      <td>2010-01-02</td>\n",
       "      <td>8012.314097</td>\n",
       "    </tr>\n",
       "    <tr>\n",
       "      <th>2</th>\n",
       "      <td>2010</td>\n",
       "      <td>1</td>\n",
       "      <td>3</td>\n",
       "      <td>2010-01-03</td>\n",
       "      <td>7393.354514</td>\n",
       "    </tr>\n",
       "    <tr>\n",
       "      <th>3</th>\n",
       "      <td>2010</td>\n",
       "      <td>1</td>\n",
       "      <td>4</td>\n",
       "      <td>2010-01-04</td>\n",
       "      <td>8254.502222</td>\n",
       "    </tr>\n",
       "    <tr>\n",
       "      <th>4</th>\n",
       "      <td>2010</td>\n",
       "      <td>1</td>\n",
       "      <td>5</td>\n",
       "      <td>2010-01-05</td>\n",
       "      <td>8832.004931</td>\n",
       "    </tr>\n",
       "  </tbody>\n",
       "</table>\n",
       "</div>"
      ],
      "text/plain": [
       "   YEAR  MONTH  DAY        DATE  TOTALDEMAND\n",
       "0  2010      1    1  2010-01-01  7793.463681\n",
       "1  2010      1    2  2010-01-02  8012.314097\n",
       "2  2010      1    3  2010-01-03  7393.354514\n",
       "3  2010      1    4  2010-01-04  8254.502222\n",
       "4  2010      1    5  2010-01-05  8832.004931"
      ]
     },
     "execution_count": 107,
     "metadata": {},
     "output_type": "execute_result"
    }
   ],
   "source": [
    "# aggregate on date\n",
    "totalDemandAgg = totalDemand.groupby([\"YEAR\",\"MONTH\",\"DAY\",\"DATE\"]).mean().reset_index()\n",
    "# totalDemandAgg = totalDemandAgg.drop(columns=[\"DATE\"], errors='ignore')\n",
    "print(\"Rows:\", len(totalDemandAgg))\n",
    "totalDemandAgg.head()"
   ]
  },
  {
   "cell_type": "markdown",
   "metadata": {},
   "source": [
    "#### Temperature"
   ]
  },
  {
   "cell_type": "code",
   "execution_count": 108,
   "metadata": {},
   "outputs": [
    {
     "name": "stdout",
     "output_type": "stream",
     "text": [
      "Rows: 247646\n"
     ]
    }
   ],
   "source": [
    "file_name = \"temperature_nsw.csv\"\n",
    "temperature = zip_to_df(file_name)\n",
    "print(\"Rows:\", len(temperature))"
   ]
  },
  {
   "cell_type": "code",
   "execution_count": 109,
   "metadata": {
    "scrolled": true
   },
   "outputs": [],
   "source": [
    "#update datatypes\n",
    "temperature['DATETIME'] = pd.to_datetime(temperature['DATETIME'])"
   ]
  },
  {
   "cell_type": "code",
   "execution_count": 110,
   "metadata": {},
   "outputs": [],
   "source": [
    "# create new date variables\n",
    "temperature = create_date_vars(temperature, \"DATETIME\")"
   ]
  },
  {
   "cell_type": "code",
   "execution_count": 111,
   "metadata": {},
   "outputs": [],
   "source": [
    "# remove redundant columns\n",
    "temperature = temperature.drop(columns=[\"LOCATION\"], errors='ignore')"
   ]
  },
  {
   "cell_type": "code",
   "execution_count": 112,
   "metadata": {},
   "outputs": [
    {
     "name": "stdout",
     "output_type": "stream",
     "text": [
      "Rows: 4593\n"
     ]
    },
    {
     "data": {
      "text/html": [
       "<div>\n",
       "<style scoped>\n",
       "    .dataframe tbody tr th:only-of-type {\n",
       "        vertical-align: middle;\n",
       "    }\n",
       "\n",
       "    .dataframe tbody tr th {\n",
       "        vertical-align: top;\n",
       "    }\n",
       "\n",
       "    .dataframe thead th {\n",
       "        text-align: right;\n",
       "    }\n",
       "</style>\n",
       "<table border=\"1\" class=\"dataframe\">\n",
       "  <thead>\n",
       "    <tr style=\"text-align: right;\">\n",
       "      <th></th>\n",
       "      <th>YEAR</th>\n",
       "      <th>MONTH</th>\n",
       "      <th>DAY</th>\n",
       "      <th>TEMPERATURE</th>\n",
       "    </tr>\n",
       "  </thead>\n",
       "  <tbody>\n",
       "    <tr>\n",
       "      <th>0</th>\n",
       "      <td>2010</td>\n",
       "      <td>1</td>\n",
       "      <td>1</td>\n",
       "      <td>25.094000</td>\n",
       "    </tr>\n",
       "    <tr>\n",
       "      <th>1</th>\n",
       "      <td>2010</td>\n",
       "      <td>1</td>\n",
       "      <td>2</td>\n",
       "      <td>24.765385</td>\n",
       "    </tr>\n",
       "    <tr>\n",
       "      <th>2</th>\n",
       "      <td>2010</td>\n",
       "      <td>1</td>\n",
       "      <td>3</td>\n",
       "      <td>19.429825</td>\n",
       "    </tr>\n",
       "    <tr>\n",
       "      <th>3</th>\n",
       "      <td>2010</td>\n",
       "      <td>1</td>\n",
       "      <td>4</td>\n",
       "      <td>20.625926</td>\n",
       "    </tr>\n",
       "    <tr>\n",
       "      <th>4</th>\n",
       "      <td>2010</td>\n",
       "      <td>1</td>\n",
       "      <td>5</td>\n",
       "      <td>22.660417</td>\n",
       "    </tr>\n",
       "  </tbody>\n",
       "</table>\n",
       "</div>"
      ],
      "text/plain": [
       "   YEAR  MONTH  DAY  TEMPERATURE\n",
       "0  2010      1    1    25.094000\n",
       "1  2010      1    2    24.765385\n",
       "2  2010      1    3    19.429825\n",
       "3  2010      1    4    20.625926\n",
       "4  2010      1    5    22.660417"
      ]
     },
     "execution_count": 112,
     "metadata": {},
     "output_type": "execute_result"
    }
   ],
   "source": [
    "# aggregate on date\n",
    "temperatureAgg = temperature.groupby([\"YEAR\",\"MONTH\",\"DAY\",\"DATE\"]).mean().reset_index()\n",
    "temperatureAgg = temperatureAgg.drop(columns=[\"DATE\"], errors='ignore')\n",
    "print(\"Rows:\", len(temperatureAgg))\n",
    "temperatureAgg.head()"
   ]
  },
  {
   "cell_type": "markdown",
   "metadata": {},
   "source": [
    "#### Forecast Demand"
   ]
  },
  {
   "cell_type": "code",
   "execution_count": 113,
   "metadata": {},
   "outputs": [
    {
     "name": "stdout",
     "output_type": "stream",
     "text": [
      "Rows: 11619503\n"
     ]
    }
   ],
   "source": [
    "file_name = \"forecastdemand_nsw.csv\"\n",
    "forecastDemand = zip_to_df(file_name)\n",
    "print(\"Rows:\", len(forecastDemand))"
   ]
  },
  {
   "cell_type": "code",
   "execution_count": 114,
   "metadata": {},
   "outputs": [],
   "source": [
    "#update datatypes\n",
    "forecastDemand['DATETIME'] = pd.to_datetime(forecastDemand['DATETIME'])\n",
    "forecastDemand['LASTCHANGED'] = pd.to_datetime(forecastDemand['LASTCHANGED'])"
   ]
  },
  {
   "cell_type": "code",
   "execution_count": 115,
   "metadata": {},
   "outputs": [],
   "source": [
    "# create new date variables\n",
    "forecastDemand = create_date_vars(forecastDemand, \"DATETIME\")"
   ]
  },
  {
   "cell_type": "code",
   "execution_count": 116,
   "metadata": {},
   "outputs": [],
   "source": [
    "# remove redundant columns\n",
    "forecastDemand = forecastDemand.drop(columns=[\"REGIONID\",\"LASTCHANGED\",\"PREDISPATCHSEQNO\",\"PERIODID\"], errors='ignore')"
   ]
  },
  {
   "cell_type": "code",
   "execution_count": 117,
   "metadata": {},
   "outputs": [
    {
     "name": "stdout",
     "output_type": "stream",
     "text": [
      "Rows: 4560\n"
     ]
    },
    {
     "data": {
      "text/html": [
       "<div>\n",
       "<style scoped>\n",
       "    .dataframe tbody tr th:only-of-type {\n",
       "        vertical-align: middle;\n",
       "    }\n",
       "\n",
       "    .dataframe tbody tr th {\n",
       "        vertical-align: top;\n",
       "    }\n",
       "\n",
       "    .dataframe thead th {\n",
       "        text-align: right;\n",
       "    }\n",
       "</style>\n",
       "<table border=\"1\" class=\"dataframe\">\n",
       "  <thead>\n",
       "    <tr style=\"text-align: right;\">\n",
       "      <th></th>\n",
       "      <th>YEAR</th>\n",
       "      <th>MONTH</th>\n",
       "      <th>DAY</th>\n",
       "      <th>FORECASTDEMAND</th>\n",
       "    </tr>\n",
       "  </thead>\n",
       "  <tbody>\n",
       "    <tr>\n",
       "      <th>0</th>\n",
       "      <td>2010</td>\n",
       "      <td>1</td>\n",
       "      <td>1</td>\n",
       "      <td>7747.906211</td>\n",
       "    </tr>\n",
       "    <tr>\n",
       "      <th>1</th>\n",
       "      <td>2010</td>\n",
       "      <td>1</td>\n",
       "      <td>2</td>\n",
       "      <td>7773.818583</td>\n",
       "    </tr>\n",
       "    <tr>\n",
       "      <th>2</th>\n",
       "      <td>2010</td>\n",
       "      <td>1</td>\n",
       "      <td>3</td>\n",
       "      <td>7462.384786</td>\n",
       "    </tr>\n",
       "    <tr>\n",
       "      <th>3</th>\n",
       "      <td>2010</td>\n",
       "      <td>1</td>\n",
       "      <td>4</td>\n",
       "      <td>8467.411400</td>\n",
       "    </tr>\n",
       "    <tr>\n",
       "      <th>4</th>\n",
       "      <td>2010</td>\n",
       "      <td>1</td>\n",
       "      <td>5</td>\n",
       "      <td>8784.750420</td>\n",
       "    </tr>\n",
       "  </tbody>\n",
       "</table>\n",
       "</div>"
      ],
      "text/plain": [
       "   YEAR  MONTH  DAY  FORECASTDEMAND\n",
       "0  2010      1    1     7747.906211\n",
       "1  2010      1    2     7773.818583\n",
       "2  2010      1    3     7462.384786\n",
       "3  2010      1    4     8467.411400\n",
       "4  2010      1    5     8784.750420"
      ]
     },
     "execution_count": 117,
     "metadata": {},
     "output_type": "execute_result"
    }
   ],
   "source": [
    "# aggregate\n",
    "forecastDemandAgg = forecastDemand.groupby([\"YEAR\",\"MONTH\",\"DAY\",\"DATE\"]).mean().reset_index()\n",
    "forecastDemandAgg = forecastDemandAgg.drop(columns=[\"DATE\"], errors='ignore')\n",
    "print(\"Rows:\", len(forecastDemandAgg))\n",
    "forecastDemandAgg.head()"
   ]
  },
  {
   "cell_type": "markdown",
   "metadata": {},
   "source": [
    "#### Energy Prices and Demand"
   ]
  },
  {
   "cell_type": "code",
   "execution_count": 118,
   "metadata": {},
   "outputs": [
    {
     "name": "stdout",
     "output_type": "stream",
     "text": [
      "Merged 153 files\n"
     ]
    }
   ],
   "source": [
    "#merge all files in folder\n",
    "wd = path + r\"\\Price and Demand - 2010-22\"\n",
    "files = os.listdir(wd)\n",
    "prices = pd.DataFrame([])\n",
    "file_count = 0\n",
    "for file in files:\n",
    "    if file.endswith(\".csv\"):\n",
    "        file_df = pd.read_csv(wd + \"\\\\\" + file)\n",
    "        prices = prices.append(file_df, ignore_index=True)\n",
    "        file_count += 1\n",
    "print(\"Merged\", file_count, \"files\")"
   ]
  },
  {
   "cell_type": "code",
   "execution_count": 119,
   "metadata": {},
   "outputs": [
    {
     "name": "stdout",
     "output_type": "stream",
     "text": [
      "Rows: 337488\n"
     ]
    }
   ],
   "source": [
    "#remove additional headers\n",
    "prices = prices[prices[\"REGION\"]!=\"REGION\"]\n",
    "print(\"Rows:\", len(prices))"
   ]
  },
  {
   "cell_type": "code",
   "execution_count": 120,
   "metadata": {},
   "outputs": [],
   "source": [
    "#update datatypes\n",
    "prices['SETTLEMENTDATE'] = pd.to_datetime(prices['SETTLEMENTDATE'])\n",
    "prices['TOTALDEMAND'] = prices['TOTALDEMAND'].astype(float)\n",
    "prices['RRP'] = prices['RRP'].astype(float)"
   ]
  },
  {
   "cell_type": "code",
   "execution_count": 121,
   "metadata": {},
   "outputs": [],
   "source": [
    "# create new date variables\n",
    "prices = create_date_vars(prices, \"SETTLEMENTDATE\")"
   ]
  },
  {
   "cell_type": "code",
   "execution_count": 122,
   "metadata": {},
   "outputs": [],
   "source": [
    "# remove redundant columns\n",
    "prices = prices.drop(columns=[\"REGION\",\"PERIODTYPE\"], errors='ignore')"
   ]
  },
  {
   "cell_type": "code",
   "execution_count": 123,
   "metadata": {},
   "outputs": [
    {
     "name": "stdout",
     "output_type": "stream",
     "text": [
      "Rows: 4627\n"
     ]
    },
    {
     "data": {
      "text/html": [
       "<div>\n",
       "<style scoped>\n",
       "    .dataframe tbody tr th:only-of-type {\n",
       "        vertical-align: middle;\n",
       "    }\n",
       "\n",
       "    .dataframe tbody tr th {\n",
       "        vertical-align: top;\n",
       "    }\n",
       "\n",
       "    .dataframe thead th {\n",
       "        text-align: right;\n",
       "    }\n",
       "</style>\n",
       "<table border=\"1\" class=\"dataframe\">\n",
       "  <thead>\n",
       "    <tr style=\"text-align: right;\">\n",
       "      <th></th>\n",
       "      <th>YEAR</th>\n",
       "      <th>MONTH</th>\n",
       "      <th>DAY</th>\n",
       "      <th>TOTALDEMAND</th>\n",
       "      <th>RRP</th>\n",
       "    </tr>\n",
       "  </thead>\n",
       "  <tbody>\n",
       "    <tr>\n",
       "      <th>0</th>\n",
       "      <td>2010</td>\n",
       "      <td>1</td>\n",
       "      <td>1</td>\n",
       "      <td>7796.317872</td>\n",
       "      <td>20.364894</td>\n",
       "    </tr>\n",
       "    <tr>\n",
       "      <th>1</th>\n",
       "      <td>2010</td>\n",
       "      <td>1</td>\n",
       "      <td>2</td>\n",
       "      <td>8017.459792</td>\n",
       "      <td>20.478125</td>\n",
       "    </tr>\n",
       "    <tr>\n",
       "      <th>2</th>\n",
       "      <td>2010</td>\n",
       "      <td>1</td>\n",
       "      <td>3</td>\n",
       "      <td>7399.899583</td>\n",
       "      <td>20.277083</td>\n",
       "    </tr>\n",
       "    <tr>\n",
       "      <th>3</th>\n",
       "      <td>2010</td>\n",
       "      <td>1</td>\n",
       "      <td>4</td>\n",
       "      <td>8241.720208</td>\n",
       "      <td>21.494583</td>\n",
       "    </tr>\n",
       "    <tr>\n",
       "      <th>4</th>\n",
       "      <td>2010</td>\n",
       "      <td>1</td>\n",
       "      <td>5</td>\n",
       "      <td>8827.813125</td>\n",
       "      <td>23.966042</td>\n",
       "    </tr>\n",
       "  </tbody>\n",
       "</table>\n",
       "</div>"
      ],
      "text/plain": [
       "   YEAR  MONTH  DAY  TOTALDEMAND        RRP\n",
       "0  2010      1    1  7796.317872  20.364894\n",
       "1  2010      1    2  8017.459792  20.478125\n",
       "2  2010      1    3  7399.899583  20.277083\n",
       "3  2010      1    4  8241.720208  21.494583\n",
       "4  2010      1    5  8827.813125  23.966042"
      ]
     },
     "execution_count": 123,
     "metadata": {},
     "output_type": "execute_result"
    }
   ],
   "source": [
    "# aggregate\n",
    "pricesAgg = prices.groupby([\"YEAR\",\"MONTH\",\"DAY\",\"DATE\"]).mean().reset_index()\n",
    "pricesAgg = pricesAgg.drop(columns=[\"DATE\"], errors='ignore')\n",
    "print(\"Rows:\", len(pricesAgg))\n",
    "pricesAgg.head()"
   ]
  },
  {
   "cell_type": "markdown",
   "metadata": {},
   "source": [
    "#### BOM"
   ]
  },
  {
   "cell_type": "code",
   "execution_count": 124,
   "metadata": {},
   "outputs": [],
   "source": [
    "# timeframe restriction\n",
    "year_start = 2010"
   ]
  },
  {
   "cell_type": "code",
   "execution_count": 125,
   "metadata": {},
   "outputs": [
    {
     "name": "stdout",
     "output_type": "stream",
     "text": [
      "Rows: 4816\n"
     ]
    }
   ],
   "source": [
    "file_path = path + r\"\\Solar Exposure - Bankstown Airport\\IDCJAC0016_066137_1800_Data.csv\"\n",
    "bomSolar = pd.read_csv(file_path)\n",
    "bomSolar = bomSolar[bomSolar.Year >= year_start]\n",
    "print(\"Rows:\", len(bomSolar))"
   ]
  },
  {
   "cell_type": "code",
   "execution_count": 126,
   "metadata": {},
   "outputs": [
    {
     "name": "stdout",
     "output_type": "stream",
     "text": [
      "Rows: 4830\n"
     ]
    }
   ],
   "source": [
    "file_path = path + r\"\\Temperature - Bankstown Airport\\IDCJAC0011_066137_1800_Data_Daily_Min_Temp.csv\"\n",
    "bomTempMin = pd.read_csv(file_path)\n",
    "bomTempMin = bomTempMin[bomTempMin.Year >= year_start]\n",
    "print(\"Rows:\", len(bomTempMin))"
   ]
  },
  {
   "cell_type": "code",
   "execution_count": 127,
   "metadata": {},
   "outputs": [
    {
     "name": "stdout",
     "output_type": "stream",
     "text": [
      "Rows: 4816\n"
     ]
    }
   ],
   "source": [
    "file_path = path + r\"\\Temperature - Bankstown Airport\\IDCJAC0010_066137_1800_Data_Daily_Max_Temp.csv\"\n",
    "bomTempMax = pd.read_csv(file_path)\n",
    "bomTempMax = bomTempMax[bomTempMax.Year >= year_start]\n",
    "print(\"Rows:\", len(bomTempMax))"
   ]
  },
  {
   "cell_type": "code",
   "execution_count": 128,
   "metadata": {},
   "outputs": [
    {
     "name": "stdout",
     "output_type": "stream",
     "text": [
      "Rows: 4817\n"
     ]
    }
   ],
   "source": [
    "file_path = path + r\"\\Rainfall - Bankstown\\IDCJAC0009_066137_1800_Data.csv\"\n",
    "bomRain = pd.read_csv(file_path)\n",
    "bomRain = bomRain[bomRain.Year >= year_start]\n",
    "print(\"Rows:\", len(bomRain))"
   ]
  },
  {
   "cell_type": "code",
   "execution_count": 129,
   "metadata": {},
   "outputs": [],
   "source": [
    "# remove redundant columns\n",
    "bomSolar = bomSolar.drop(columns=[\"Product code\",\"Bureau of Meteorology station number\"], errors='ignore')\n",
    "bomTempMin = bomTempMin.drop(columns=[\"Product code\",\"Bureau of Meteorology station number\",\"Quality\"], errors='ignore')\n",
    "bomTempMax = bomTempMax.drop(columns=[\"Product code\",\"Bureau of Meteorology station number\",\"Quality\"], errors='ignore')\n",
    "bomRain = bomRain.drop(columns=[\"Product code\",\"Bureau of Meteorology station number\",\"Quality\"], errors='ignore')"
   ]
  },
  {
   "cell_type": "code",
   "execution_count": 130,
   "metadata": {},
   "outputs": [
    {
     "name": "stdout",
     "output_type": "stream",
     "text": [
      "Rows: 4830\n"
     ]
    },
    {
     "data": {
      "text/html": [
       "<div>\n",
       "<style scoped>\n",
       "    .dataframe tbody tr th:only-of-type {\n",
       "        vertical-align: middle;\n",
       "    }\n",
       "\n",
       "    .dataframe tbody tr th {\n",
       "        vertical-align: top;\n",
       "    }\n",
       "\n",
       "    .dataframe thead th {\n",
       "        text-align: right;\n",
       "    }\n",
       "</style>\n",
       "<table border=\"1\" class=\"dataframe\">\n",
       "  <thead>\n",
       "    <tr style=\"text-align: right;\">\n",
       "      <th></th>\n",
       "      <th>YEAR</th>\n",
       "      <th>MONTH</th>\n",
       "      <th>DAY</th>\n",
       "      <th>MIN</th>\n",
       "      <th>ACCMIN</th>\n",
       "      <th>MAX</th>\n",
       "      <th>ACCMAX</th>\n",
       "      <th>RAIN</th>\n",
       "      <th>RAINPERIOD</th>\n",
       "      <th>SOLAR</th>\n",
       "    </tr>\n",
       "  </thead>\n",
       "  <tbody>\n",
       "    <tr>\n",
       "      <th>0</th>\n",
       "      <td>2010</td>\n",
       "      <td>1</td>\n",
       "      <td>1</td>\n",
       "      <td>20.3</td>\n",
       "      <td>1.0</td>\n",
       "      <td>29.6</td>\n",
       "      <td>1.0</td>\n",
       "      <td>0.2</td>\n",
       "      <td>1.0</td>\n",
       "      <td>14.6</td>\n",
       "    </tr>\n",
       "    <tr>\n",
       "      <th>1</th>\n",
       "      <td>2010</td>\n",
       "      <td>1</td>\n",
       "      <td>2</td>\n",
       "      <td>22.2</td>\n",
       "      <td>1.0</td>\n",
       "      <td>29.5</td>\n",
       "      <td>1.0</td>\n",
       "      <td>0.0</td>\n",
       "      <td>1.0</td>\n",
       "      <td>18.4</td>\n",
       "    </tr>\n",
       "    <tr>\n",
       "      <th>2</th>\n",
       "      <td>2010</td>\n",
       "      <td>1</td>\n",
       "      <td>3</td>\n",
       "      <td>18.5</td>\n",
       "      <td>1.0</td>\n",
       "      <td>21.0</td>\n",
       "      <td>1.0</td>\n",
       "      <td>15.2</td>\n",
       "      <td>1.0</td>\n",
       "      <td>7.3</td>\n",
       "    </tr>\n",
       "    <tr>\n",
       "      <th>3</th>\n",
       "      <td>2010</td>\n",
       "      <td>1</td>\n",
       "      <td>4</td>\n",
       "      <td>17.8</td>\n",
       "      <td>1.0</td>\n",
       "      <td>24.0</td>\n",
       "      <td>1.0</td>\n",
       "      <td>0.2</td>\n",
       "      <td>1.0</td>\n",
       "      <td>14.4</td>\n",
       "    </tr>\n",
       "    <tr>\n",
       "      <th>4</th>\n",
       "      <td>2010</td>\n",
       "      <td>1</td>\n",
       "      <td>5</td>\n",
       "      <td>16.2</td>\n",
       "      <td>1.0</td>\n",
       "      <td>30.4</td>\n",
       "      <td>1.0</td>\n",
       "      <td>0.0</td>\n",
       "      <td>1.0</td>\n",
       "      <td>28.1</td>\n",
       "    </tr>\n",
       "  </tbody>\n",
       "</table>\n",
       "</div>"
      ],
      "text/plain": [
       "   YEAR  MONTH  DAY   MIN  ACCMIN   MAX  ACCMAX  RAIN  RAINPERIOD  SOLAR\n",
       "0  2010      1    1  20.3     1.0  29.6     1.0   0.2         1.0   14.6\n",
       "1  2010      1    2  22.2     1.0  29.5     1.0   0.0         1.0   18.4\n",
       "2  2010      1    3  18.5     1.0  21.0     1.0  15.2         1.0    7.3\n",
       "3  2010      1    4  17.8     1.0  24.0     1.0   0.2         1.0   14.4\n",
       "4  2010      1    5  16.2     1.0  30.4     1.0   0.0         1.0   28.1"
      ]
     },
     "execution_count": 130,
     "metadata": {},
     "output_type": "execute_result"
    }
   ],
   "source": [
    "# merge bom datasets and rename headers\n",
    "bom = bomTempMin.merge(bomTempMax, how=\"left\", on=[\"Year\",\"Month\",\"Day\"])\n",
    "bom = bom.merge(bomRain, how=\"left\", on=[\"Year\",\"Month\",\"Day\"])\n",
    "bom = bom.merge(bomSolar, how=\"outer\", on=[\"Year\",\"Month\",\"Day\"])\n",
    "bom.columns = ['YEAR','MONTH','DAY',\"MIN\", \"ACCMIN\", 'MAX','ACCMAX','RAIN','RAINPERIOD','SOLAR']\n",
    "print(\"Rows:\", len(bom))\n",
    "bom.head()"
   ]
  },
  {
   "cell_type": "markdown",
   "metadata": {},
   "source": [
    "#### Solar Panels"
   ]
  },
  {
   "cell_type": "code",
   "execution_count": 131,
   "metadata": {
    "scrolled": true
   },
   "outputs": [
    {
     "name": "stdout",
     "output_type": "stream",
     "text": [
      "Merged 12 files\n",
      "Rows: 278\n"
     ]
    },
    {
     "data": {
      "text/html": [
       "<div>\n",
       "<style scoped>\n",
       "    .dataframe tbody tr th:only-of-type {\n",
       "        vertical-align: middle;\n",
       "    }\n",
       "\n",
       "    .dataframe tbody tr th {\n",
       "        vertical-align: top;\n",
       "    }\n",
       "\n",
       "    .dataframe thead th {\n",
       "        text-align: right;\n",
       "    }\n",
       "</style>\n",
       "<table border=\"1\" class=\"dataframe\">\n",
       "  <thead>\n",
       "    <tr style=\"text-align: right;\">\n",
       "      <th>Col</th>\n",
       "      <th>Small Unit Installation Postcode</th>\n",
       "      <th>variable</th>\n",
       "      <th>Output</th>\n",
       "      <th>Quantity</th>\n",
       "    </tr>\n",
       "  </thead>\n",
       "  <tbody>\n",
       "    <tr>\n",
       "      <th>0</th>\n",
       "      <td>2200</td>\n",
       "      <td>Apr 2009</td>\n",
       "      <td>0.99</td>\n",
       "      <td>1.0</td>\n",
       "    </tr>\n",
       "    <tr>\n",
       "      <th>1</th>\n",
       "      <td>2200</td>\n",
       "      <td>Apr 2010</td>\n",
       "      <td>12.64</td>\n",
       "      <td>6.0</td>\n",
       "    </tr>\n",
       "    <tr>\n",
       "      <th>2</th>\n",
       "      <td>2200</td>\n",
       "      <td>Aug 2009</td>\n",
       "      <td>1.02</td>\n",
       "      <td>1.0</td>\n",
       "    </tr>\n",
       "    <tr>\n",
       "      <th>3</th>\n",
       "      <td>2200</td>\n",
       "      <td>Aug 2010</td>\n",
       "      <td>25.20</td>\n",
       "      <td>15.0</td>\n",
       "    </tr>\n",
       "    <tr>\n",
       "      <th>4</th>\n",
       "      <td>2200</td>\n",
       "      <td>Dec 2009</td>\n",
       "      <td>13.32</td>\n",
       "      <td>4.0</td>\n",
       "    </tr>\n",
       "  </tbody>\n",
       "</table>\n",
       "</div>"
      ],
      "text/plain": [
       "Col  Small Unit Installation Postcode   variable  Output  Quantity\n",
       "0                                2200  Apr 2009     0.99       1.0\n",
       "1                                2200  Apr 2010    12.64       6.0\n",
       "2                                2200  Aug 2009     1.02       1.0\n",
       "3                                2200  Aug 2010    25.20      15.0\n",
       "4                                2200  Dec 2009    13.32       4.0"
      ]
     },
     "execution_count": 131,
     "metadata": {},
     "output_type": "execute_result"
    }
   ],
   "source": [
    "#merge all files in folder\n",
    "wd = path + r\"\\Solar Panel Installations - Bankstown\"\n",
    "files = os.listdir(wd)\n",
    "sguSolar = pd.DataFrame([])\n",
    "file_count = 0\n",
    "for file in files:\n",
    "    if file.endswith(\".csv\"):\n",
    "        sgu = pd.read_csv(wd + \"\\\\\" + file)\n",
    "        sgu = sgu[sgu[\"Small Unit Installation Postcode\"]==2200]\n",
    "        sgu = pd.melt(sgu, id_vars='Small Unit Installation Postcode')\n",
    "        sgu = sgu[~sgu[\"variable\"].str.contains(\"Previous Years\")]\n",
    "        sgu = sgu[~sgu[\"variable\"].str.contains(\"Total\")]\n",
    "        sgu[\"Col\"] = np.where(sgu[\"variable\"].str.contains(\"Quantity\"), \"Quantity\", \"Output\")\n",
    "        sgu[\"variable\"] = sgu[\"variable\"].str.split('-').str[0]\n",
    "        sgu[\"value\"] = sgu[\"value\"].astype(float)\n",
    "        sgu = pd.pivot_table(sgu, values=\"value\", columns=\"Col\", index=[\"Small Unit Installation Postcode\", \"variable\"]).reset_index()\n",
    "        sguSolar = sguSolar.append(sgu, ignore_index=True, sort=False)\n",
    "        file_count += 1\n",
    "print(\"Merged\", file_count, \"files\")\n",
    "print(\"Rows:\", len(sguSolar))\n",
    "sguSolar.head()"
   ]
  },
  {
   "cell_type": "code",
   "execution_count": 132,
   "metadata": {
    "scrolled": true
   },
   "outputs": [],
   "source": [
    "# update datatypes\n",
    "sguSolar[\"DATETIME\"] = pd.to_datetime(sguSolar[\"variable\"])"
   ]
  },
  {
   "cell_type": "code",
   "execution_count": 133,
   "metadata": {},
   "outputs": [],
   "source": [
    "# remove redundant columns\n",
    "sguSolar = sguSolar.drop(columns=[\"Small Unit Installation Postcode\",\"variable\"], errors='ignore')"
   ]
  },
  {
   "cell_type": "code",
   "execution_count": 134,
   "metadata": {},
   "outputs": [],
   "source": [
    "# rename columns\n",
    "sguSolar.columns = [\"OUTPUT\",\"QUANTITY\",\"DATETIME\"]"
   ]
  },
  {
   "cell_type": "code",
   "execution_count": 135,
   "metadata": {},
   "outputs": [],
   "source": [
    "# create new date variables\n",
    "sguSolar = create_date_vars(sguSolar, \"DATETIME\", day_req=False)"
   ]
  },
  {
   "cell_type": "code",
   "execution_count": 136,
   "metadata": {},
   "outputs": [
    {
     "name": "stdout",
     "output_type": "stream",
     "text": [
      "Rows: 278\n"
     ]
    },
    {
     "data": {
      "text/html": [
       "<div>\n",
       "<style scoped>\n",
       "    .dataframe tbody tr th:only-of-type {\n",
       "        vertical-align: middle;\n",
       "    }\n",
       "\n",
       "    .dataframe tbody tr th {\n",
       "        vertical-align: top;\n",
       "    }\n",
       "\n",
       "    .dataframe thead th {\n",
       "        text-align: right;\n",
       "    }\n",
       "</style>\n",
       "<table border=\"1\" class=\"dataframe\">\n",
       "  <thead>\n",
       "    <tr style=\"text-align: right;\">\n",
       "      <th></th>\n",
       "      <th>OUTPUT</th>\n",
       "      <th>QUANTITY</th>\n",
       "      <th>YEAR</th>\n",
       "      <th>MONTH</th>\n",
       "      <th>QUANTITYMONTHCUM</th>\n",
       "      <th>QUANTITYTOTALCUM</th>\n",
       "    </tr>\n",
       "  </thead>\n",
       "  <tbody>\n",
       "    <tr>\n",
       "      <th>8</th>\n",
       "      <td>0.00</td>\n",
       "      <td>0.0</td>\n",
       "      <td>2009</td>\n",
       "      <td>1</td>\n",
       "      <td>0.0</td>\n",
       "      <td>0.0</td>\n",
       "    </tr>\n",
       "    <tr>\n",
       "      <th>6</th>\n",
       "      <td>0.00</td>\n",
       "      <td>0.0</td>\n",
       "      <td>2009</td>\n",
       "      <td>2</td>\n",
       "      <td>0.0</td>\n",
       "      <td>0.0</td>\n",
       "    </tr>\n",
       "    <tr>\n",
       "      <th>14</th>\n",
       "      <td>0.00</td>\n",
       "      <td>0.0</td>\n",
       "      <td>2009</td>\n",
       "      <td>3</td>\n",
       "      <td>0.0</td>\n",
       "      <td>0.0</td>\n",
       "    </tr>\n",
       "    <tr>\n",
       "      <th>0</th>\n",
       "      <td>0.99</td>\n",
       "      <td>1.0</td>\n",
       "      <td>2009</td>\n",
       "      <td>4</td>\n",
       "      <td>1.0</td>\n",
       "      <td>1.0</td>\n",
       "    </tr>\n",
       "    <tr>\n",
       "      <th>16</th>\n",
       "      <td>1.00</td>\n",
       "      <td>1.0</td>\n",
       "      <td>2009</td>\n",
       "      <td>5</td>\n",
       "      <td>1.0</td>\n",
       "      <td>2.0</td>\n",
       "    </tr>\n",
       "  </tbody>\n",
       "</table>\n",
       "</div>"
      ],
      "text/plain": [
       "    OUTPUT  QUANTITY  YEAR  MONTH  QUANTITYMONTHCUM  QUANTITYTOTALCUM\n",
       "8     0.00       0.0  2009      1               0.0               0.0\n",
       "6     0.00       0.0  2009      2               0.0               0.0\n",
       "14    0.00       0.0  2009      3               0.0               0.0\n",
       "0     0.99       1.0  2009      4               1.0               1.0\n",
       "16    1.00       1.0  2009      5               1.0               2.0"
      ]
     },
     "execution_count": 136,
     "metadata": {},
     "output_type": "execute_result"
    }
   ],
   "source": [
    "# calculate cumulative sum, ordered by date\n",
    "sguSolar = sguSolar.sort_values(['DATE'], ascending=[True])\n",
    "sguSolar[\"QUANTITYMONTHCUM\"] = sguSolar.groupby(['DATE'])['QUANTITY'].cumsum(axis=0)\n",
    "sguSolar[\"QUANTITYTOTALCUM\"] = sguSolar['QUANTITY'].cumsum(axis=0)\n",
    "sguSolar = sguSolar.drop(columns=[\"DATETIME\",\"DATE\"], errors='ignore')\n",
    "print(\"Rows:\", len(sguSolar))\n",
    "sguSolar.head()"
   ]
  },
  {
   "attachments": {},
   "cell_type": "markdown",
   "metadata": {},
   "source": [
    "#### Humidity"
   ]
  },
  {
   "cell_type": "code",
   "execution_count": 152,
   "metadata": {},
   "outputs": [
    {
     "name": "stdout",
     "output_type": "stream",
     "text": [
      "Rows: 4861\n"
     ]
    }
   ],
   "source": [
    "file_path = path + r\"\\humidity - 2010 01 to 2022 12.csv\"\n",
    "humidity = pd.read_csv(file_path)\n",
    "print(\"Rows:\", len(humidity))"
   ]
  },
  {
   "cell_type": "code",
   "execution_count": 153,
   "metadata": {},
   "outputs": [
    {
     "data": {
      "text/html": [
       "<div>\n",
       "<style scoped>\n",
       "    .dataframe tbody tr th:only-of-type {\n",
       "        vertical-align: middle;\n",
       "    }\n",
       "\n",
       "    .dataframe tbody tr th {\n",
       "        vertical-align: top;\n",
       "    }\n",
       "\n",
       "    .dataframe thead th {\n",
       "        text-align: right;\n",
       "    }\n",
       "</style>\n",
       "<table border=\"1\" class=\"dataframe\">\n",
       "  <thead>\n",
       "    <tr style=\"text-align: right;\">\n",
       "      <th></th>\n",
       "      <th>HUMIDITYAVE</th>\n",
       "      <th>HUMIDITYMIN</th>\n",
       "      <th>HUMIDITYMAX</th>\n",
       "      <th>YEAR</th>\n",
       "      <th>MONTH</th>\n",
       "    </tr>\n",
       "  </thead>\n",
       "  <tbody>\n",
       "    <tr>\n",
       "      <th>0</th>\n",
       "      <td>0.675870</td>\n",
       "      <td>0.46</td>\n",
       "      <td>0.89</td>\n",
       "      <td>2010</td>\n",
       "      <td>1</td>\n",
       "    </tr>\n",
       "    <tr>\n",
       "      <th>1</th>\n",
       "      <td>0.675870</td>\n",
       "      <td>0.46</td>\n",
       "      <td>0.89</td>\n",
       "      <td>2010</td>\n",
       "      <td>1</td>\n",
       "    </tr>\n",
       "    <tr>\n",
       "      <th>2</th>\n",
       "      <td>0.735918</td>\n",
       "      <td>0.46</td>\n",
       "      <td>1.00</td>\n",
       "      <td>2010</td>\n",
       "      <td>1</td>\n",
       "    </tr>\n",
       "    <tr>\n",
       "      <th>3</th>\n",
       "      <td>0.832766</td>\n",
       "      <td>0.69</td>\n",
       "      <td>1.00</td>\n",
       "      <td>2010</td>\n",
       "      <td>1</td>\n",
       "    </tr>\n",
       "    <tr>\n",
       "      <th>4</th>\n",
       "      <td>0.706042</td>\n",
       "      <td>0.51</td>\n",
       "      <td>0.94</td>\n",
       "      <td>2010</td>\n",
       "      <td>1</td>\n",
       "    </tr>\n",
       "  </tbody>\n",
       "</table>\n",
       "</div>"
      ],
      "text/plain": [
       "   HUMIDITYAVE  HUMIDITYMIN  HUMIDITYMAX  YEAR  MONTH\n",
       "0     0.675870         0.46         0.89  2010      1\n",
       "1     0.675870         0.46         0.89  2010      1\n",
       "2     0.735918         0.46         1.00  2010      1\n",
       "3     0.832766         0.69         1.00  2010      1\n",
       "4     0.706042         0.51         0.94  2010      1"
      ]
     },
     "execution_count": 153,
     "metadata": {},
     "output_type": "execute_result"
    }
   ],
   "source": [
    "humidity[\"DATETIME\"] = pd.to_datetime(humidity[\"DATE\"])\n",
    "humidity = humidity.iloc[:,1:]\n",
    "humidity = create_date_vars(humidity, \"DATETIME\", day_req=False)\n",
    "humidity = humidity.drop(columns=[\"DATE\",\"DATETIME\"], errors='ignore')\n",
    "humidity.head()"
   ]
  },
  {
   "cell_type": "markdown",
   "metadata": {},
   "source": [
    "#### Merge All Datasets"
   ]
  },
  {
   "cell_type": "code",
   "execution_count": 155,
   "metadata": {},
   "outputs": [
    {
     "name": "stdout",
     "output_type": "stream",
     "text": [
      "Rows: 254394\n"
     ]
    },
    {
     "data": {
      "text/html": [
       "<div>\n",
       "<style scoped>\n",
       "    .dataframe tbody tr th:only-of-type {\n",
       "        vertical-align: middle;\n",
       "    }\n",
       "\n",
       "    .dataframe tbody tr th {\n",
       "        vertical-align: top;\n",
       "    }\n",
       "\n",
       "    .dataframe thead th {\n",
       "        text-align: right;\n",
       "    }\n",
       "</style>\n",
       "<table border=\"1\" class=\"dataframe\">\n",
       "  <thead>\n",
       "    <tr style=\"text-align: right;\">\n",
       "      <th></th>\n",
       "      <th>YEAR</th>\n",
       "      <th>MONTH</th>\n",
       "      <th>DAY</th>\n",
       "      <th>DATE</th>\n",
       "      <th>TOTALDEMAND_x</th>\n",
       "      <th>MIN</th>\n",
       "      <th>ACCMIN</th>\n",
       "      <th>MAX</th>\n",
       "      <th>ACCMAX</th>\n",
       "      <th>RAIN</th>\n",
       "      <th>...</th>\n",
       "      <th>TOTALDEMAND_y</th>\n",
       "      <th>RRP</th>\n",
       "      <th>FORECASTDEMAND</th>\n",
       "      <th>OUTPUT</th>\n",
       "      <th>QUANTITY</th>\n",
       "      <th>QUANTITYMONTHCUM</th>\n",
       "      <th>QUANTITYTOTALCUM</th>\n",
       "      <th>HUMIDITYAVE</th>\n",
       "      <th>HUMIDITYMIN</th>\n",
       "      <th>HUMIDITYMAX</th>\n",
       "    </tr>\n",
       "  </thead>\n",
       "  <tbody>\n",
       "    <tr>\n",
       "      <th>0</th>\n",
       "      <td>2010</td>\n",
       "      <td>1</td>\n",
       "      <td>1</td>\n",
       "      <td>2010-01-01</td>\n",
       "      <td>7793.463681</td>\n",
       "      <td>20.3</td>\n",
       "      <td>1.0</td>\n",
       "      <td>29.6</td>\n",
       "      <td>1.0</td>\n",
       "      <td>0.2</td>\n",
       "      <td>...</td>\n",
       "      <td>7796.317872</td>\n",
       "      <td>20.364894</td>\n",
       "      <td>7747.906211</td>\n",
       "      <td>1.53</td>\n",
       "      <td>1.0</td>\n",
       "      <td>1.0</td>\n",
       "      <td>20.0</td>\n",
       "      <td>0.675870</td>\n",
       "      <td>0.46</td>\n",
       "      <td>0.89</td>\n",
       "    </tr>\n",
       "    <tr>\n",
       "      <th>1</th>\n",
       "      <td>2010</td>\n",
       "      <td>1</td>\n",
       "      <td>1</td>\n",
       "      <td>2010-01-01</td>\n",
       "      <td>7793.463681</td>\n",
       "      <td>20.3</td>\n",
       "      <td>1.0</td>\n",
       "      <td>29.6</td>\n",
       "      <td>1.0</td>\n",
       "      <td>0.2</td>\n",
       "      <td>...</td>\n",
       "      <td>7796.317872</td>\n",
       "      <td>20.364894</td>\n",
       "      <td>7747.906211</td>\n",
       "      <td>1.53</td>\n",
       "      <td>1.0</td>\n",
       "      <td>1.0</td>\n",
       "      <td>20.0</td>\n",
       "      <td>0.675870</td>\n",
       "      <td>0.46</td>\n",
       "      <td>0.89</td>\n",
       "    </tr>\n",
       "    <tr>\n",
       "      <th>2</th>\n",
       "      <td>2010</td>\n",
       "      <td>1</td>\n",
       "      <td>1</td>\n",
       "      <td>2010-01-01</td>\n",
       "      <td>7793.463681</td>\n",
       "      <td>20.3</td>\n",
       "      <td>1.0</td>\n",
       "      <td>29.6</td>\n",
       "      <td>1.0</td>\n",
       "      <td>0.2</td>\n",
       "      <td>...</td>\n",
       "      <td>7796.317872</td>\n",
       "      <td>20.364894</td>\n",
       "      <td>7747.906211</td>\n",
       "      <td>1.53</td>\n",
       "      <td>1.0</td>\n",
       "      <td>1.0</td>\n",
       "      <td>20.0</td>\n",
       "      <td>0.735918</td>\n",
       "      <td>0.46</td>\n",
       "      <td>1.00</td>\n",
       "    </tr>\n",
       "    <tr>\n",
       "      <th>3</th>\n",
       "      <td>2010</td>\n",
       "      <td>1</td>\n",
       "      <td>1</td>\n",
       "      <td>2010-01-01</td>\n",
       "      <td>7793.463681</td>\n",
       "      <td>20.3</td>\n",
       "      <td>1.0</td>\n",
       "      <td>29.6</td>\n",
       "      <td>1.0</td>\n",
       "      <td>0.2</td>\n",
       "      <td>...</td>\n",
       "      <td>7796.317872</td>\n",
       "      <td>20.364894</td>\n",
       "      <td>7747.906211</td>\n",
       "      <td>1.53</td>\n",
       "      <td>1.0</td>\n",
       "      <td>1.0</td>\n",
       "      <td>20.0</td>\n",
       "      <td>0.832766</td>\n",
       "      <td>0.69</td>\n",
       "      <td>1.00</td>\n",
       "    </tr>\n",
       "    <tr>\n",
       "      <th>4</th>\n",
       "      <td>2010</td>\n",
       "      <td>1</td>\n",
       "      <td>1</td>\n",
       "      <td>2010-01-01</td>\n",
       "      <td>7793.463681</td>\n",
       "      <td>20.3</td>\n",
       "      <td>1.0</td>\n",
       "      <td>29.6</td>\n",
       "      <td>1.0</td>\n",
       "      <td>0.2</td>\n",
       "      <td>...</td>\n",
       "      <td>7796.317872</td>\n",
       "      <td>20.364894</td>\n",
       "      <td>7747.906211</td>\n",
       "      <td>1.53</td>\n",
       "      <td>1.0</td>\n",
       "      <td>1.0</td>\n",
       "      <td>20.0</td>\n",
       "      <td>0.706042</td>\n",
       "      <td>0.51</td>\n",
       "      <td>0.94</td>\n",
       "    </tr>\n",
       "  </tbody>\n",
       "</table>\n",
       "<p>5 rows × 22 columns</p>\n",
       "</div>"
      ],
      "text/plain": [
       "   YEAR  MONTH  DAY        DATE  TOTALDEMAND_x   MIN  ACCMIN   MAX  ACCMAX  \\\n",
       "0  2010      1    1  2010-01-01    7793.463681  20.3     1.0  29.6     1.0   \n",
       "1  2010      1    1  2010-01-01    7793.463681  20.3     1.0  29.6     1.0   \n",
       "2  2010      1    1  2010-01-01    7793.463681  20.3     1.0  29.6     1.0   \n",
       "3  2010      1    1  2010-01-01    7793.463681  20.3     1.0  29.6     1.0   \n",
       "4  2010      1    1  2010-01-01    7793.463681  20.3     1.0  29.6     1.0   \n",
       "\n",
       "   RAIN  ...  TOTALDEMAND_y        RRP  FORECASTDEMAND  OUTPUT  QUANTITY  \\\n",
       "0   0.2  ...    7796.317872  20.364894     7747.906211    1.53       1.0   \n",
       "1   0.2  ...    7796.317872  20.364894     7747.906211    1.53       1.0   \n",
       "2   0.2  ...    7796.317872  20.364894     7747.906211    1.53       1.0   \n",
       "3   0.2  ...    7796.317872  20.364894     7747.906211    1.53       1.0   \n",
       "4   0.2  ...    7796.317872  20.364894     7747.906211    1.53       1.0   \n",
       "\n",
       "   QUANTITYMONTHCUM  QUANTITYTOTALCUM  HUMIDITYAVE  HUMIDITYMIN  HUMIDITYMAX  \n",
       "0               1.0              20.0     0.675870         0.46         0.89  \n",
       "1               1.0              20.0     0.675870         0.46         0.89  \n",
       "2               1.0              20.0     0.735918         0.46         1.00  \n",
       "3               1.0              20.0     0.832766         0.69         1.00  \n",
       "4               1.0              20.0     0.706042         0.51         0.94  \n",
       "\n",
       "[5 rows x 22 columns]"
      ]
     },
     "execution_count": 155,
     "metadata": {},
     "output_type": "execute_result"
    }
   ],
   "source": [
    "df = totalDemandAgg.merge(bom, how=\"left\", on=[\"YEAR\",\"MONTH\",\"DAY\"])\n",
    "df = df.merge(pricesAgg, how=\"left\", on=[\"YEAR\",\"MONTH\",\"DAY\"])\n",
    "df = df.merge(forecastDemandAgg, how=\"left\", on=[\"YEAR\",\"MONTH\",\"DAY\"])\n",
    "df = df.merge(sguSolar, how=\"left\", on=[\"YEAR\",\"MONTH\"])\n",
    "df = df.merge(humidity, how=\"left\", on=[\"YEAR\",\"MONTH\"])\n",
    "print(\"Rows:\", len(df))\n",
    "df.head() "
   ]
  },
  {
   "cell_type": "code",
   "execution_count": 156,
   "metadata": {},
   "outputs": [],
   "source": [
    "# add month date column\n",
    "df['MONTHDATE'] = df['MONTH'].map(str)+ '-' +df['YEAR'].map(str)\n",
    "df['MONTHDATE'] = pd.to_datetime(df['MONTHDATE'], format='%m-%Y').dt.strftime('%m-%Y')"
   ]
  },
  {
   "cell_type": "code",
   "execution_count": 163,
   "metadata": {},
   "outputs": [],
   "source": [
    "# create average temperature\n",
    "df[\"TEMPAVE\"] = (df[\"MIN\"] + df[\"MAX\"]) / 2"
   ]
  },
  {
   "cell_type": "code",
   "execution_count": 164,
   "metadata": {},
   "outputs": [],
   "source": [
    "# remove duplicate TOTALDEMAND column and rename\n",
    "df = df.drop(columns=[\"TOTALDEMAND_y\"], errors=\"ignore\")\n",
    "df = df.rename(columns={'TOTALDEMAND_x': 'TOTALDEMAND'})"
   ]
  },
  {
   "cell_type": "code",
   "execution_count": 165,
   "metadata": {},
   "outputs": [
    {
     "data": {
      "text/plain": [
       "YEAR              0\n",
       "MONTH             0\n",
       "DAY               0\n",
       "DATE              0\n",
       "TOTALDEMAND       0\n",
       "MIN               0\n",
       "ACCMIN            0\n",
       "MAX               0\n",
       "RAIN              0\n",
       "SOLAR             0\n",
       "RRP               0\n",
       "FORECASTDEMAND    0\n",
       "OUTPUT            0\n",
       "HUMIDITYAVE       0\n",
       "HUMIDITYMIN       0\n",
       "HUMIDITYMAX       0\n",
       "MONTHDATE         0\n",
       "TEMPAVE           0\n",
       "dtype: int64"
      ]
     },
     "execution_count": 165,
     "metadata": {},
     "output_type": "execute_result"
    }
   ],
   "source": [
    "# check for nulls\n",
    "df.isna().sum()"
   ]
  },
  {
   "cell_type": "code",
   "execution_count": 166,
   "metadata": {},
   "outputs": [
    {
     "data": {
      "text/plain": [
       "YEAR              0\n",
       "MONTH             0\n",
       "DAY               0\n",
       "DATE              0\n",
       "TOTALDEMAND       0\n",
       "MIN               0\n",
       "ACCMIN            0\n",
       "MAX               0\n",
       "RAIN              0\n",
       "SOLAR             0\n",
       "RRP               0\n",
       "FORECASTDEMAND    0\n",
       "OUTPUT            0\n",
       "HUMIDITYAVE       0\n",
       "HUMIDITYMIN       0\n",
       "HUMIDITYMAX       0\n",
       "MONTHDATE         0\n",
       "TEMPAVE           0\n",
       "dtype: int64"
      ]
     },
     "execution_count": 166,
     "metadata": {},
     "output_type": "execute_result"
    }
   ],
   "source": [
    "# solar panel installations missing data for 2021 - remove this year for now\n",
    "# remove rows with empty forecast demand, solar, temperatures\n",
    "# replace nulls in rain columns with 0\n",
    "df = df.dropna(axis=0, subset=['OUTPUT','SOLAR','MAX','FORECASTDEMAND'])\n",
    "df = df.fillna(0)\n",
    "df.isna().sum()"
   ]
  },
  {
   "cell_type": "code",
   "execution_count": 167,
   "metadata": {},
   "outputs": [
    {
     "data": {
      "text/html": [
       "<div>\n",
       "<style scoped>\n",
       "    .dataframe tbody tr th:only-of-type {\n",
       "        vertical-align: middle;\n",
       "    }\n",
       "\n",
       "    .dataframe tbody tr th {\n",
       "        vertical-align: top;\n",
       "    }\n",
       "\n",
       "    .dataframe thead th {\n",
       "        text-align: right;\n",
       "    }\n",
       "</style>\n",
       "<table border=\"1\" class=\"dataframe\">\n",
       "  <thead>\n",
       "    <tr style=\"text-align: right;\">\n",
       "      <th></th>\n",
       "      <th>YEAR</th>\n",
       "      <th>MONTH</th>\n",
       "      <th>DAY</th>\n",
       "      <th>DATE</th>\n",
       "      <th>TOTALDEMAND</th>\n",
       "      <th>MIN</th>\n",
       "      <th>ACCMIN</th>\n",
       "      <th>MAX</th>\n",
       "      <th>RAIN</th>\n",
       "      <th>SOLAR</th>\n",
       "      <th>RRP</th>\n",
       "      <th>FORECASTDEMAND</th>\n",
       "      <th>OUTPUT</th>\n",
       "      <th>HUMIDITYAVE</th>\n",
       "      <th>HUMIDITYMIN</th>\n",
       "      <th>HUMIDITYMAX</th>\n",
       "      <th>MONTHDATE</th>\n",
       "      <th>TEMPAVE</th>\n",
       "    </tr>\n",
       "  </thead>\n",
       "  <tbody>\n",
       "    <tr>\n",
       "      <th>0</th>\n",
       "      <td>2010</td>\n",
       "      <td>1</td>\n",
       "      <td>1</td>\n",
       "      <td>2010-01-01</td>\n",
       "      <td>7793.463681</td>\n",
       "      <td>20.3</td>\n",
       "      <td>1.0</td>\n",
       "      <td>29.6</td>\n",
       "      <td>0.2</td>\n",
       "      <td>14.6</td>\n",
       "      <td>20.364894</td>\n",
       "      <td>7747.906211</td>\n",
       "      <td>1.53</td>\n",
       "      <td>0.675870</td>\n",
       "      <td>0.46</td>\n",
       "      <td>0.89</td>\n",
       "      <td>01-2010</td>\n",
       "      <td>24.95</td>\n",
       "    </tr>\n",
       "    <tr>\n",
       "      <th>1</th>\n",
       "      <td>2010</td>\n",
       "      <td>1</td>\n",
       "      <td>1</td>\n",
       "      <td>2010-01-01</td>\n",
       "      <td>7793.463681</td>\n",
       "      <td>20.3</td>\n",
       "      <td>1.0</td>\n",
       "      <td>29.6</td>\n",
       "      <td>0.2</td>\n",
       "      <td>14.6</td>\n",
       "      <td>20.364894</td>\n",
       "      <td>7747.906211</td>\n",
       "      <td>1.53</td>\n",
       "      <td>0.675870</td>\n",
       "      <td>0.46</td>\n",
       "      <td>0.89</td>\n",
       "      <td>01-2010</td>\n",
       "      <td>24.95</td>\n",
       "    </tr>\n",
       "    <tr>\n",
       "      <th>2</th>\n",
       "      <td>2010</td>\n",
       "      <td>1</td>\n",
       "      <td>1</td>\n",
       "      <td>2010-01-01</td>\n",
       "      <td>7793.463681</td>\n",
       "      <td>20.3</td>\n",
       "      <td>1.0</td>\n",
       "      <td>29.6</td>\n",
       "      <td>0.2</td>\n",
       "      <td>14.6</td>\n",
       "      <td>20.364894</td>\n",
       "      <td>7747.906211</td>\n",
       "      <td>1.53</td>\n",
       "      <td>0.735918</td>\n",
       "      <td>0.46</td>\n",
       "      <td>1.00</td>\n",
       "      <td>01-2010</td>\n",
       "      <td>24.95</td>\n",
       "    </tr>\n",
       "    <tr>\n",
       "      <th>3</th>\n",
       "      <td>2010</td>\n",
       "      <td>1</td>\n",
       "      <td>1</td>\n",
       "      <td>2010-01-01</td>\n",
       "      <td>7793.463681</td>\n",
       "      <td>20.3</td>\n",
       "      <td>1.0</td>\n",
       "      <td>29.6</td>\n",
       "      <td>0.2</td>\n",
       "      <td>14.6</td>\n",
       "      <td>20.364894</td>\n",
       "      <td>7747.906211</td>\n",
       "      <td>1.53</td>\n",
       "      <td>0.832766</td>\n",
       "      <td>0.69</td>\n",
       "      <td>1.00</td>\n",
       "      <td>01-2010</td>\n",
       "      <td>24.95</td>\n",
       "    </tr>\n",
       "    <tr>\n",
       "      <th>4</th>\n",
       "      <td>2010</td>\n",
       "      <td>1</td>\n",
       "      <td>1</td>\n",
       "      <td>2010-01-01</td>\n",
       "      <td>7793.463681</td>\n",
       "      <td>20.3</td>\n",
       "      <td>1.0</td>\n",
       "      <td>29.6</td>\n",
       "      <td>0.2</td>\n",
       "      <td>14.6</td>\n",
       "      <td>20.364894</td>\n",
       "      <td>7747.906211</td>\n",
       "      <td>1.53</td>\n",
       "      <td>0.706042</td>\n",
       "      <td>0.51</td>\n",
       "      <td>0.94</td>\n",
       "      <td>01-2010</td>\n",
       "      <td>24.95</td>\n",
       "    </tr>\n",
       "  </tbody>\n",
       "</table>\n",
       "</div>"
      ],
      "text/plain": [
       "   YEAR  MONTH  DAY        DATE  TOTALDEMAND   MIN  ACCMIN   MAX  RAIN  SOLAR  \\\n",
       "0  2010      1    1  2010-01-01  7793.463681  20.3     1.0  29.6   0.2   14.6   \n",
       "1  2010      1    1  2010-01-01  7793.463681  20.3     1.0  29.6   0.2   14.6   \n",
       "2  2010      1    1  2010-01-01  7793.463681  20.3     1.0  29.6   0.2   14.6   \n",
       "3  2010      1    1  2010-01-01  7793.463681  20.3     1.0  29.6   0.2   14.6   \n",
       "4  2010      1    1  2010-01-01  7793.463681  20.3     1.0  29.6   0.2   14.6   \n",
       "\n",
       "         RRP  FORECASTDEMAND  OUTPUT  HUMIDITYAVE  HUMIDITYMIN  HUMIDITYMAX  \\\n",
       "0  20.364894     7747.906211    1.53     0.675870         0.46         0.89   \n",
       "1  20.364894     7747.906211    1.53     0.675870         0.46         0.89   \n",
       "2  20.364894     7747.906211    1.53     0.735918         0.46         1.00   \n",
       "3  20.364894     7747.906211    1.53     0.832766         0.69         1.00   \n",
       "4  20.364894     7747.906211    1.53     0.706042         0.51         0.94   \n",
       "\n",
       "  MONTHDATE  TEMPAVE  \n",
       "0   01-2010    24.95  \n",
       "1   01-2010    24.95  \n",
       "2   01-2010    24.95  \n",
       "3   01-2010    24.95  \n",
       "4   01-2010    24.95  "
      ]
     },
     "execution_count": 167,
     "metadata": {},
     "output_type": "execute_result"
    }
   ],
   "source": [
    "# remove unnessecary columns\n",
    "df = df.drop(columns=[\"ACCMAX\",\"RAINPERIOD\",\"QUANTITY\",\"QUANTITYMONTHCUM\",\"QUANTITYTOTALCUM\"],errors=\"ignore\")\n",
    "df.head()"
   ]
  },
  {
   "cell_type": "code",
   "execution_count": 162,
   "metadata": {},
   "outputs": [],
   "source": [
    "# save cleaned and merged dataset as csv\n",
    "target_dir = os.getcwd() + \"\\\\Cleaned data\\\\\"\n",
    "df.to_csv(target_dir+\"data.csv\",index=False)"
   ]
  },
  {
   "cell_type": "markdown",
   "metadata": {},
   "source": [
    "## Exploratory Data Analysis"
   ]
  },
  {
   "cell_type": "code",
   "execution_count": 221,
   "metadata": {},
   "outputs": [
    {
     "data": {
      "text/html": [
       "<div>\n",
       "<style scoped>\n",
       "    .dataframe tbody tr th:only-of-type {\n",
       "        vertical-align: middle;\n",
       "    }\n",
       "\n",
       "    .dataframe tbody tr th {\n",
       "        vertical-align: top;\n",
       "    }\n",
       "\n",
       "    .dataframe thead th {\n",
       "        text-align: right;\n",
       "    }\n",
       "</style>\n",
       "<table border=\"1\" class=\"dataframe\">\n",
       "  <thead>\n",
       "    <tr style=\"text-align: right;\">\n",
       "      <th></th>\n",
       "      <th>YEAR</th>\n",
       "      <th>MONTH</th>\n",
       "      <th>DAY</th>\n",
       "      <th>TOTALDEMAND</th>\n",
       "      <th>MAX</th>\n",
       "      <th>ACCMAX</th>\n",
       "      <th>RAIN</th>\n",
       "      <th>RAINPERIOD</th>\n",
       "      <th>SOLAR</th>\n",
       "      <th>RRP</th>\n",
       "      <th>FORECASTDEMAND</th>\n",
       "      <th>OUTPUT</th>\n",
       "      <th>QUANTITY</th>\n",
       "      <th>QUANTITYMONTHCUM</th>\n",
       "      <th>QUANTITYTOTALCUM</th>\n",
       "    </tr>\n",
       "  </thead>\n",
       "  <tbody>\n",
       "    <tr>\n",
       "      <th>count</th>\n",
       "      <td>8248.000000</td>\n",
       "      <td>8248.000000</td>\n",
       "      <td>8248.000000</td>\n",
       "      <td>8248.000000</td>\n",
       "      <td>8208.000000</td>\n",
       "      <td>8208.0</td>\n",
       "      <td>8066.000000</td>\n",
       "      <td>8064.0</td>\n",
       "      <td>8246.000000</td>\n",
       "      <td>8248.000000</td>\n",
       "      <td>8183.000000</td>\n",
       "      <td>7883.000000</td>\n",
       "      <td>7883.000000</td>\n",
       "      <td>7883.000000</td>\n",
       "      <td>7883.000000</td>\n",
       "    </tr>\n",
       "    <tr>\n",
       "      <th>mean</th>\n",
       "      <td>2015.225145</td>\n",
       "      <td>6.459020</td>\n",
       "      <td>15.725267</td>\n",
       "      <td>8111.543731</td>\n",
       "      <td>24.125938</td>\n",
       "      <td>1.0</td>\n",
       "      <td>2.470146</td>\n",
       "      <td>1.0</td>\n",
       "      <td>15.839389</td>\n",
       "      <td>62.068918</td>\n",
       "      <td>8066.977269</td>\n",
       "      <td>67.453317</td>\n",
       "      <td>11.239376</td>\n",
       "      <td>16.232145</td>\n",
       "      <td>1643.883293</td>\n",
       "    </tr>\n",
       "    <tr>\n",
       "      <th>std</th>\n",
       "      <td>3.382902</td>\n",
       "      <td>3.442087</td>\n",
       "      <td>8.800412</td>\n",
       "      <td>804.685607</td>\n",
       "      <td>5.493147</td>\n",
       "      <td>0.0</td>\n",
       "      <td>8.747097</td>\n",
       "      <td>0.0</td>\n",
       "      <td>7.321437</td>\n",
       "      <td>64.504773</td>\n",
       "      <td>804.693001</td>\n",
       "      <td>73.940852</td>\n",
       "      <td>10.164189</td>\n",
       "      <td>16.603299</td>\n",
       "      <td>742.800165</td>\n",
       "    </tr>\n",
       "    <tr>\n",
       "      <th>min</th>\n",
       "      <td>2010.000000</td>\n",
       "      <td>1.000000</td>\n",
       "      <td>1.000000</td>\n",
       "      <td>5970.921181</td>\n",
       "      <td>9.600000</td>\n",
       "      <td>1.0</td>\n",
       "      <td>0.000000</td>\n",
       "      <td>1.0</td>\n",
       "      <td>1.000000</td>\n",
       "      <td>14.362222</td>\n",
       "      <td>5518.989111</td>\n",
       "      <td>0.000000</td>\n",
       "      <td>0.000000</td>\n",
       "      <td>0.000000</td>\n",
       "      <td>20.000000</td>\n",
       "    </tr>\n",
       "    <tr>\n",
       "      <th>25%</th>\n",
       "      <td>2012.000000</td>\n",
       "      <td>3.000000</td>\n",
       "      <td>8.000000</td>\n",
       "      <td>7555.606623</td>\n",
       "      <td>19.700000</td>\n",
       "      <td>1.0</td>\n",
       "      <td>0.000000</td>\n",
       "      <td>1.0</td>\n",
       "      <td>10.500000</td>\n",
       "      <td>32.871667</td>\n",
       "      <td>7497.938463</td>\n",
       "      <td>24.480000</td>\n",
       "      <td>6.000000</td>\n",
       "      <td>7.000000</td>\n",
       "      <td>1227.000000</td>\n",
       "    </tr>\n",
       "    <tr>\n",
       "      <th>50%</th>\n",
       "      <td>2015.000000</td>\n",
       "      <td>6.000000</td>\n",
       "      <td>16.000000</td>\n",
       "      <td>8056.711771</td>\n",
       "      <td>23.700000</td>\n",
       "      <td>1.0</td>\n",
       "      <td>0.000000</td>\n",
       "      <td>1.0</td>\n",
       "      <td>14.600000</td>\n",
       "      <td>50.562813</td>\n",
       "      <td>8026.797902</td>\n",
       "      <td>41.160000</td>\n",
       "      <td>9.000000</td>\n",
       "      <td>12.000000</td>\n",
       "      <td>1765.000000</td>\n",
       "    </tr>\n",
       "    <tr>\n",
       "      <th>75%</th>\n",
       "      <td>2018.000000</td>\n",
       "      <td>9.000000</td>\n",
       "      <td>23.000000</td>\n",
       "      <td>8655.697066</td>\n",
       "      <td>27.800000</td>\n",
       "      <td>1.0</td>\n",
       "      <td>0.400000</td>\n",
       "      <td>1.0</td>\n",
       "      <td>21.000000</td>\n",
       "      <td>73.981719</td>\n",
       "      <td>8627.338480</td>\n",
       "      <td>79.570000</td>\n",
       "      <td>13.000000</td>\n",
       "      <td>20.000000</td>\n",
       "      <td>2199.000000</td>\n",
       "    </tr>\n",
       "    <tr>\n",
       "      <th>max</th>\n",
       "      <td>2022.000000</td>\n",
       "      <td>12.000000</td>\n",
       "      <td>31.000000</td>\n",
       "      <td>11537.208785</td>\n",
       "      <td>47.000000</td>\n",
       "      <td>1.0</td>\n",
       "      <td>159.600000</td>\n",
       "      <td>1.0</td>\n",
       "      <td>34.200000</td>\n",
       "      <td>1539.430000</td>\n",
       "      <td>11234.220537</td>\n",
       "      <td>458.355000</td>\n",
       "      <td>73.000000</td>\n",
       "      <td>146.000000</td>\n",
       "      <td>2950.000000</td>\n",
       "    </tr>\n",
       "  </tbody>\n",
       "</table>\n",
       "</div>"
      ],
      "text/plain": [
       "              YEAR        MONTH          DAY   TOTALDEMAND          MAX  \\\n",
       "count  8248.000000  8248.000000  8248.000000   8248.000000  8208.000000   \n",
       "mean   2015.225145     6.459020    15.725267   8111.543731    24.125938   \n",
       "std       3.382902     3.442087     8.800412    804.685607     5.493147   \n",
       "min    2010.000000     1.000000     1.000000   5970.921181     9.600000   \n",
       "25%    2012.000000     3.000000     8.000000   7555.606623    19.700000   \n",
       "50%    2015.000000     6.000000    16.000000   8056.711771    23.700000   \n",
       "75%    2018.000000     9.000000    23.000000   8655.697066    27.800000   \n",
       "max    2022.000000    12.000000    31.000000  11537.208785    47.000000   \n",
       "\n",
       "       ACCMAX         RAIN  RAINPERIOD        SOLAR          RRP  \\\n",
       "count  8208.0  8066.000000      8064.0  8246.000000  8248.000000   \n",
       "mean      1.0     2.470146         1.0    15.839389    62.068918   \n",
       "std       0.0     8.747097         0.0     7.321437    64.504773   \n",
       "min       1.0     0.000000         1.0     1.000000    14.362222   \n",
       "25%       1.0     0.000000         1.0    10.500000    32.871667   \n",
       "50%       1.0     0.000000         1.0    14.600000    50.562813   \n",
       "75%       1.0     0.400000         1.0    21.000000    73.981719   \n",
       "max       1.0   159.600000         1.0    34.200000  1539.430000   \n",
       "\n",
       "       FORECASTDEMAND       OUTPUT     QUANTITY  QUANTITYMONTHCUM  \\\n",
       "count     8183.000000  7883.000000  7883.000000       7883.000000   \n",
       "mean      8066.977269    67.453317    11.239376         16.232145   \n",
       "std        804.693001    73.940852    10.164189         16.603299   \n",
       "min       5518.989111     0.000000     0.000000          0.000000   \n",
       "25%       7497.938463    24.480000     6.000000          7.000000   \n",
       "50%       8026.797902    41.160000     9.000000         12.000000   \n",
       "75%       8627.338480    79.570000    13.000000         20.000000   \n",
       "max      11234.220537   458.355000    73.000000        146.000000   \n",
       "\n",
       "       QUANTITYTOTALCUM  \n",
       "count       7883.000000  \n",
       "mean        1643.883293  \n",
       "std          742.800165  \n",
       "min           20.000000  \n",
       "25%         1227.000000  \n",
       "50%         1765.000000  \n",
       "75%         2199.000000  \n",
       "max         2950.000000  "
      ]
     },
     "execution_count": 221,
     "metadata": {},
     "output_type": "execute_result"
    }
   ],
   "source": [
    "df.describe()"
   ]
  },
  {
   "cell_type": "markdown",
   "metadata": {},
   "source": [
    "#### Timeseries"
   ]
  },
  {
   "cell_type": "code",
   "execution_count": 222,
   "metadata": {},
   "outputs": [],
   "source": [
    "df_lim = df[df[\"YEAR\"]>2020]"
   ]
  },
  {
   "cell_type": "code",
   "execution_count": 223,
   "metadata": {},
   "outputs": [],
   "source": [
    "# set variables\n",
    "xDate = df_lim.DATE\n",
    "xMonth = df_lim['MONTHDATE']\n",
    "yTemp = df_lim.MAX\n",
    "yDemand = df_lim.TOTALDEMAND\n",
    "yRain = df_lim.RAIN\n",
    "ySolar = df_lim.SOLAR \n",
    "yPanels = df_lim.QUANTITYTOTALCUM"
   ]
  },
  {
   "cell_type": "code",
   "execution_count": 224,
   "metadata": {},
   "outputs": [
    {
     "data": {
      "image/png": "[encoded data removed]",
      "text/plain": [
       "<Figure size 1080x360 with 1 Axes>"
      ]
     },
     "metadata": {
      "needs_background": "light"
     },
     "output_type": "display_data"
    },
    {
     "data": {
      "image/png": "[encoded data removed]",
      "text/plain": [
       "<Figure size 1080x360 with 1 Axes>"
      ]
     },
     "metadata": {
      "needs_background": "light"
     },
     "output_type": "display_data"
    },
    {
     "data": {
      "image/png": "[encoded data removed]",
      "text/plain": [
       "<Figure size 1080x360 with 1 Axes>"
      ]
     },
     "metadata": {
      "needs_background": "light"
     },
     "output_type": "display_data"
    },
    {
     "data": {
      "image/png": "[encoded data removed]",
      "text/plain": [
       "<Figure size 1080x360 with 1 Axes>"
      ]
     },
     "metadata": {
      "needs_background": "light"
     },
     "output_type": "display_data"
    }
   ],
   "source": [
    "# Demand\n",
    "plt.figure(figsize=(15,5))\n",
    "plt.plot(xDate, yDemand, linewidth=1)\n",
    "plt.title(\"Total Demand by Day\")\n",
    "plt.show() \n",
    "\n",
    "# Temperature\n",
    "plt.figure(figsize=(15,5))\n",
    "plt.plot(xDate, yTemp, linewidth=1)\n",
    "plt.title(\"Temperature by Day\")\n",
    "plt.show() \n",
    "\n",
    "# Rain\n",
    "plt.figure(figsize=(15,5))\n",
    "plt.plot(xDate, yRain, linewidth=1)\n",
    "plt.title(\"Rainfall by Day\")\n",
    "plt.show() \n",
    "\n",
    "# Cumulative Solar Panel Installations (monthly)\n",
    "plt.figure(figsize=(15,5))\n",
    "plt.plot(xMonth, yPanels, linewidth=1)\n",
    "plt.title(\"Cumulative Solar Panel Installations by Month\")\n",
    "plt.show() "
   ]
  },
  {
   "cell_type": "markdown",
   "metadata": {},
   "source": [
    "#### Smoothing"
   ]
  },
  {
   "cell_type": "code",
   "execution_count": 225,
   "metadata": {},
   "outputs": [],
   "source": [
    "# df_lim = df[df[\"YEAR\"]>2020]\n",
    "df_agg = df.groupby(['MONTHDATE']).mean().reset_index()"
   ]
  },
  {
   "cell_type": "code",
   "execution_count": 226,
   "metadata": {},
   "outputs": [],
   "source": [
    "# update date types\n",
    "df_agg['MONTHDATE'] = pd.to_datetime(df_agg.MONTHDATE)\n",
    "df_agg = df_agg.sort_values(\"MONTHDATE\")"
   ]
  },
  {
   "cell_type": "code",
   "execution_count": 227,
   "metadata": {},
   "outputs": [],
   "source": [
    "# set variables\n",
    "xDate = df_agg.MONTHDATE\n",
    "xMonth = df_agg.MONTHDATE\n",
    "yTemp = df_agg.MAX\n",
    "yDemand = df_agg.TOTALDEMAND\n",
    "yRain = df_agg.RAIN\n",
    "ySolar = df_agg.SOLAR \n",
    "yPanels = df_agg.QUANTITYTOTALCUM"
   ]
  },
  {
   "cell_type": "code",
   "execution_count": 229,
   "metadata": {},
   "outputs": [
    {
     "data": {
      "image/png": "[encoded data removed]",
      "text/plain": [
       "<Figure size 1080x360 with 1 Axes>"
      ]
     },
     "metadata": {
      "needs_background": "light"
     },
     "output_type": "display_data"
    },
    {
     "data": {
      "image/png": "[encoded data removed]",
      "text/plain": [
       "<Figure size 1080x360 with 1 Axes>"
      ]
     },
     "metadata": {
      "needs_background": "light"
     },
     "output_type": "display_data"
    },
    {
     "data": {
      "image/png": "[encoded data removed]",
      "text/plain": [
       "<Figure size 1080x360 with 1 Axes>"
      ]
     },
     "metadata": {
      "needs_background": "light"
     },
     "output_type": "display_data"
    },
    {
     "data": {
      "image/png": "[encoded data removed]",
      "text/plain": [
       "<Figure size 1080x360 with 1 Axes>"
      ]
     },
     "metadata": {
      "needs_background": "light"
     },
     "output_type": "display_data"
    }
   ],
   "source": [
    "# Demand\n",
    "plt.figure(figsize=(15,5))\n",
    "plt.plot(xDate, yDemand, linewidth=1)\n",
    "plt.title(\"Total Demand by Month\")\n",
    "plt.show() \n",
    "\n",
    "# Temperature\n",
    "plt.figure(figsize=(15,5))\n",
    "plt.plot(xDate, yTemp, linewidth=1)\n",
    "plt.title(\"Temperature by Month\")\n",
    "plt.show() \n",
    "\n",
    "# Rain\n",
    "plt.figure(figsize=(15,5))\n",
    "plt.plot(xDate, yRain, linewidth=1)\n",
    "plt.title(\"Rainfall by Month\")\n",
    "plt.show() \n",
    "\n",
    "# Cumulative Solar Panel Installations (monthly)\n",
    "plt.figure(figsize=(15,5))\n",
    "plt.plot(xMonth, yPanels, linewidth=1)\n",
    "plt.title(\"Cumulative Solar Panel Installations by Month (2021 data missing)\")\n",
    "plt.show() "
   ]
  },
  {
   "cell_type": "code",
   "execution_count": null,
   "metadata": {},
   "outputs": [],
   "source": []
  },
  {
   "cell_type": "code",
   "execution_count": null,
   "metadata": {},
   "outputs": [],
   "source": []
  },
  {
   "cell_type": "code",
   "execution_count": null,
   "metadata": {},
   "outputs": [],
   "source": []
  },
  {
   "cell_type": "code",
   "execution_count": null,
   "metadata": {},
   "outputs": [],
   "source": []
  },
  {
   "cell_type": "code",
   "execution_count": null,
   "metadata": {},
   "outputs": [],
   "source": []
  },
  {
   "cell_type": "markdown",
   "metadata": {},
   "source": [
    "### Testing / Working"
   ]
  },
  {
   "cell_type": "code",
   "execution_count": null,
   "metadata": {},
   "outputs": [],
   "source": [
    "df_lim = df[df[\"YEAR\"]>2020]"
   ]
  },
  {
   "cell_type": "code",
   "execution_count": null,
   "metadata": {},
   "outputs": [],
   "source": [
    "# # Total Demand\n",
    "# x = df_lim.DATETIME\n",
    "# y1 = df_lim.TOTALDEMAND_x\n",
    "# y2 = df_lim.TOTALDEMAND_y\n",
    "\n",
    "# fig, ax = plt.subplots(figsize=(15,5))\n",
    "\n",
    "# ax.plot(x, y1, linewidth=0.5, label='TOTAL DEMAND (Total Demand)', color=\"orange\")\n",
    "# ax.plot(x, y2, linewidth=0.5, label='TOTALDEMAND (prices)')\n",
    "\n",
    "# ax.set_title(\"TOTALDEMAND\")\n",
    "# handles, labels = ax.get_legend_handles_labels()\n",
    "# ax.legend(handles, labels)\n",
    "\n",
    "# plt.show() "
   ]
  },
  {
   "cell_type": "code",
   "execution_count": null,
   "metadata": {},
   "outputs": [],
   "source": [
    "# set variables\n",
    "xAgg = df_lim.MONTHDATE\n",
    "yTempAgg = df_lim.MAX\n",
    "yDemandAgg = df_lim.TOTALDEMAND_x\n",
    "yRainAgg = df_lim.RAIN\n",
    "ySolarAgg = df_lim.SOLAR"
   ]
  },
  {
   "cell_type": "code",
   "execution_count": null,
   "metadata": {},
   "outputs": [],
   "source": [
    "# Temperature\n",
    "plt.figure(figsize=(15,5))\n",
    "plt.plot(x, yTemp, linewidth=1)\n",
    "plt.show() "
   ]
  },
  {
   "cell_type": "code",
   "execution_count": null,
   "metadata": {},
   "outputs": [],
   "source": [
    "# Rain\n",
    "plt.figure(figsize=(15,5))\n",
    "plt.plot(x, yRain, linewidth=1)\n",
    "plt.show() "
   ]
  },
  {
   "cell_type": "code",
   "execution_count": null,
   "metadata": {},
   "outputs": [],
   "source": [
    "# # compare all variables\n",
    "# fig, ax1 = plt.subplots(figsize=(15,5))\n",
    "# ax2 = ax1.twinx()\n",
    "# ax3 = ax1.twinx()\n",
    "# ax1.plot(x, yDemand, linewidth=0.1, label='TOTALDEMAND', color=\"purple\")\n",
    "# ax2.plot(x, yTemp, linewidth=1, label='TEMP', color=\"orange\")\n",
    "# ax3.bar(x, yRain, linewidth=1, label='RAIN')\n",
    "# plt.show() "
   ]
  },
  {
   "cell_type": "code",
   "execution_count": null,
   "metadata": {},
   "outputs": [],
   "source": [
    "# compare all variables, but apply kernal smoothing on demand and temp\n",
    "yTempSeries = pd.Series(yTemp)\n",
    "yTempSmooth = yTempSeries.rolling(window=15, win_type='gaussian', center=True).mean(std=0.5)\n",
    "yDemandSeries = pd.Series(yDemand)\n",
    "yDemandSmooth = yDemandSeries.rolling(window=50, win_type='gaussian', center=True).mean(std=0.5)"
   ]
  },
  {
   "cell_type": "code",
   "execution_count": null,
   "metadata": {},
   "outputs": [],
   "source": [
    "dfCopy = df.copy()\n",
    "dfCopy[\"MAXSMOOTH\"] = yTempSmooth\n",
    "dfCopy[\"TOTALDEMANDSMOOTH\"] = yDemandSmooth\n",
    "dfCopy.head()"
   ]
  },
  {
   "cell_type": "code",
   "execution_count": null,
   "metadata": {},
   "outputs": [],
   "source": [
    "# compare all variables\n",
    "x = dfCopy.DATETIME\n",
    "y = dfCopy.TOTALDEMANDSMOOTH\n",
    "fig, ax1 = plt.subplots(figsize=(15,5))\n",
    "ax1.plot(x, y, linewidth=0.1, label='TOTALDEMAND', color=\"purple\")\n",
    "plt.show() "
   ]
  },
  {
   "cell_type": "code",
   "execution_count": null,
   "metadata": {},
   "outputs": [],
   "source": []
  }
 ],
 "metadata": {
  "kernelspec": {
   "display_name": "Python 3",
   "language": "python",
   "name": "python3"
  },
  "language_info": {
   "codemirror_mode": {
    "name": "ipython",
    "version": 3
   },
   "file_extension": ".py",
   "mimetype": "text/x-python",
   "name": "python",
   "nbconvert_exporter": "python",
   "pygments_lexer": "ipython3",
   "version": "3.8.8"
  }
 },
 "nbformat": 4,
 "nbformat_minor": 2
}

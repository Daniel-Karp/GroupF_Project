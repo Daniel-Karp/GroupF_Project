{
 "cells": [
  {
   "cell_type": "markdown",
   "metadata": {},
   "source": [
    "## Contents\n",
    "* read data\n",
    "* data normalisation\n",
    "* identify response variable and predictors\n",
    "* split into training and testing datasets\n",
    "* define the model\n",
    "* choose hyperparameters to tune\n",
    "* identify the best hyperparameters using gridsearch\n",
    "* make predictions based on these hyperparameters\n",
    "* assess model performance"
   ]
  },
  {
   "cell_type": "code",
   "execution_count": 25,
   "metadata": {},
   "outputs": [],
   "source": [
    "import os\n",
    "import pandas as pd\n",
    "import numpy as np\n",
    "\n",
    "from sklearn.model_selection import train_test_split, GridSearchCV\n",
    "from sklearn.preprocessing import MinMaxScaler\n",
    "from sklearn.metrics import mean_absolute_error, mean_squared_error, r2_score\n",
    "\n",
    "from sklearn.linear_model import LinearRegression\n",
    "from sklearn.ensemble import RandomForestRegressor\n",
    "from sklearn.ensemble import VotingRegressor\n",
    "from sklearn.neighbors import KNeighborsRegressor"
   ]
  },
  {
   "cell_type": "code",
   "execution_count": 26,
   "metadata": {},
   "outputs": [],
   "source": [
    "base_dir = os.path.dirname(os.path.abspath(\"..\\data\"))\n",
    "path = os.path.join(base_dir, r\"data\")\n",
    "os.chdir(path)"
   ]
  },
  {
   "cell_type": "code",
   "execution_count": 27,
   "metadata": {},
   "outputs": [],
   "source": [
    "df = pd.read_csv(\"data.csv\")"
   ]
  },
  {
   "cell_type": "code",
   "execution_count": 28,
   "metadata": {},
   "outputs": [
    {
     "data": {
      "text/html": [
       "<div>\n",
       "<style scoped>\n",
       "    .dataframe tbody tr th:only-of-type {\n",
       "        vertical-align: middle;\n",
       "    }\n",
       "\n",
       "    .dataframe tbody tr th {\n",
       "        vertical-align: top;\n",
       "    }\n",
       "\n",
       "    .dataframe thead th {\n",
       "        text-align: right;\n",
       "    }\n",
       "</style>\n",
       "<table border=\"1\" class=\"dataframe\">\n",
       "  <thead>\n",
       "    <tr style=\"text-align: right;\">\n",
       "      <th></th>\n",
       "      <th>YEAR</th>\n",
       "      <th>MONTH</th>\n",
       "      <th>DAY</th>\n",
       "      <th>TOTALDEMAND</th>\n",
       "      <th>MAX</th>\n",
       "      <th>RAIN</th>\n",
       "      <th>SOLAR</th>\n",
       "      <th>RRP</th>\n",
       "      <th>OUTPUT</th>\n",
       "    </tr>\n",
       "  </thead>\n",
       "  <tbody>\n",
       "    <tr>\n",
       "      <th>0</th>\n",
       "      <td>2010</td>\n",
       "      <td>1</td>\n",
       "      <td>1</td>\n",
       "      <td>7793.463681</td>\n",
       "      <td>29.6</td>\n",
       "      <td>0.2</td>\n",
       "      <td>14.6</td>\n",
       "      <td>20.364894</td>\n",
       "      <td>1.53</td>\n",
       "    </tr>\n",
       "    <tr>\n",
       "      <th>1</th>\n",
       "      <td>2010</td>\n",
       "      <td>1</td>\n",
       "      <td>1</td>\n",
       "      <td>7793.463681</td>\n",
       "      <td>29.6</td>\n",
       "      <td>0.2</td>\n",
       "      <td>14.6</td>\n",
       "      <td>20.364894</td>\n",
       "      <td>1.53</td>\n",
       "    </tr>\n",
       "    <tr>\n",
       "      <th>2</th>\n",
       "      <td>2010</td>\n",
       "      <td>1</td>\n",
       "      <td>2</td>\n",
       "      <td>8012.314097</td>\n",
       "      <td>29.5</td>\n",
       "      <td>0.0</td>\n",
       "      <td>18.4</td>\n",
       "      <td>20.478125</td>\n",
       "      <td>1.53</td>\n",
       "    </tr>\n",
       "    <tr>\n",
       "      <th>3</th>\n",
       "      <td>2010</td>\n",
       "      <td>1</td>\n",
       "      <td>2</td>\n",
       "      <td>8012.314097</td>\n",
       "      <td>29.5</td>\n",
       "      <td>0.0</td>\n",
       "      <td>18.4</td>\n",
       "      <td>20.478125</td>\n",
       "      <td>1.53</td>\n",
       "    </tr>\n",
       "    <tr>\n",
       "      <th>4</th>\n",
       "      <td>2010</td>\n",
       "      <td>1</td>\n",
       "      <td>3</td>\n",
       "      <td>7393.354514</td>\n",
       "      <td>21.0</td>\n",
       "      <td>15.2</td>\n",
       "      <td>7.3</td>\n",
       "      <td>20.277083</td>\n",
       "      <td>1.53</td>\n",
       "    </tr>\n",
       "  </tbody>\n",
       "</table>\n",
       "</div>"
      ],
      "text/plain": [
       "   YEAR  MONTH  DAY  TOTALDEMAND   MAX  RAIN  SOLAR        RRP  OUTPUT\n",
       "0  2010      1    1  7793.463681  29.6   0.2   14.6  20.364894    1.53\n",
       "1  2010      1    1  7793.463681  29.6   0.2   14.6  20.364894    1.53\n",
       "2  2010      1    2  8012.314097  29.5   0.0   18.4  20.478125    1.53\n",
       "3  2010      1    2  8012.314097  29.5   0.0   18.4  20.478125    1.53\n",
       "4  2010      1    3  7393.354514  21.0  15.2    7.3  20.277083    1.53"
      ]
     },
     "execution_count": 28,
     "metadata": {},
     "output_type": "execute_result"
    }
   ],
   "source": [
    "# drop columns\n",
    "df = df.drop(columns=[\n",
    "    \"DATE\",\"MONTHDATE\",\"FORECASTDEMAND\",\"ACCMAX\",\"RAINPERIOD\",\"QUANTITY\",\"QUANTITYMONTHCUM\",\"QUANTITYTOTALCUM\"\n",
    "], errors=\"ignore\")\n",
    "df.head()"
   ]
  },
  {
   "cell_type": "code",
   "execution_count": 29,
   "metadata": {
    "scrolled": true
   },
   "outputs": [
    {
     "data": {
      "text/html": [
       "<div>\n",
       "<style scoped>\n",
       "    .dataframe tbody tr th:only-of-type {\n",
       "        vertical-align: middle;\n",
       "    }\n",
       "\n",
       "    .dataframe tbody tr th {\n",
       "        vertical-align: top;\n",
       "    }\n",
       "\n",
       "    .dataframe thead th {\n",
       "        text-align: right;\n",
       "    }\n",
       "</style>\n",
       "<table border=\"1\" class=\"dataframe\">\n",
       "  <thead>\n",
       "    <tr style=\"text-align: right;\">\n",
       "      <th></th>\n",
       "      <th>YEAR</th>\n",
       "      <th>MONTH</th>\n",
       "      <th>DAY</th>\n",
       "      <th>TOTALDEMAND</th>\n",
       "      <th>MAX</th>\n",
       "      <th>RAIN</th>\n",
       "      <th>SOLAR</th>\n",
       "      <th>RRP</th>\n",
       "      <th>OUTPUT</th>\n",
       "    </tr>\n",
       "  </thead>\n",
       "  <tbody>\n",
       "    <tr>\n",
       "      <th>0</th>\n",
       "      <td>0.0</td>\n",
       "      <td>0.0</td>\n",
       "      <td>0.000000</td>\n",
       "      <td>0.319521</td>\n",
       "      <td>0.502857</td>\n",
       "      <td>0.001253</td>\n",
       "      <td>0.409639</td>\n",
       "      <td>0.001964</td>\n",
       "      <td>0.003338</td>\n",
       "    </tr>\n",
       "    <tr>\n",
       "      <th>1</th>\n",
       "      <td>0.0</td>\n",
       "      <td>0.0</td>\n",
       "      <td>0.000000</td>\n",
       "      <td>0.319521</td>\n",
       "      <td>0.502857</td>\n",
       "      <td>0.001253</td>\n",
       "      <td>0.409639</td>\n",
       "      <td>0.001964</td>\n",
       "      <td>0.003338</td>\n",
       "    </tr>\n",
       "    <tr>\n",
       "      <th>2</th>\n",
       "      <td>0.0</td>\n",
       "      <td>0.0</td>\n",
       "      <td>0.033333</td>\n",
       "      <td>0.359300</td>\n",
       "      <td>0.500000</td>\n",
       "      <td>0.000000</td>\n",
       "      <td>0.524096</td>\n",
       "      <td>0.002038</td>\n",
       "      <td>0.003338</td>\n",
       "    </tr>\n",
       "    <tr>\n",
       "      <th>3</th>\n",
       "      <td>0.0</td>\n",
       "      <td>0.0</td>\n",
       "      <td>0.033333</td>\n",
       "      <td>0.359300</td>\n",
       "      <td>0.500000</td>\n",
       "      <td>0.000000</td>\n",
       "      <td>0.524096</td>\n",
       "      <td>0.002038</td>\n",
       "      <td>0.003338</td>\n",
       "    </tr>\n",
       "    <tr>\n",
       "      <th>4</th>\n",
       "      <td>0.0</td>\n",
       "      <td>0.0</td>\n",
       "      <td>0.066667</td>\n",
       "      <td>0.246796</td>\n",
       "      <td>0.257143</td>\n",
       "      <td>0.095238</td>\n",
       "      <td>0.189759</td>\n",
       "      <td>0.001906</td>\n",
       "      <td>0.003338</td>\n",
       "    </tr>\n",
       "  </tbody>\n",
       "</table>\n",
       "</div>"
      ],
      "text/plain": [
       "   YEAR  MONTH       DAY  TOTALDEMAND       MAX      RAIN     SOLAR       RRP  \\\n",
       "0   0.0    0.0  0.000000     0.319521  0.502857  0.001253  0.409639  0.001964   \n",
       "1   0.0    0.0  0.000000     0.319521  0.502857  0.001253  0.409639  0.001964   \n",
       "2   0.0    0.0  0.033333     0.359300  0.500000  0.000000  0.524096  0.002038   \n",
       "3   0.0    0.0  0.033333     0.359300  0.500000  0.000000  0.524096  0.002038   \n",
       "4   0.0    0.0  0.066667     0.246796  0.257143  0.095238  0.189759  0.001906   \n",
       "\n",
       "     OUTPUT  \n",
       "0  0.003338  \n",
       "1  0.003338  \n",
       "2  0.003338  \n",
       "3  0.003338  \n",
       "4  0.003338  "
      ]
     },
     "execution_count": 29,
     "metadata": {},
     "output_type": "execute_result"
    }
   ],
   "source": [
    "# define scaler and transform data\n",
    "scaler = MinMaxScaler()\n",
    "data = pd.DataFrame(scaler.fit_transform(df), columns=df.columns)\n",
    "data.head()"
   ]
  },
  {
   "cell_type": "code",
   "execution_count": 38,
   "metadata": {},
   "outputs": [],
   "source": [
    "# identify response variable and predictors\n",
    "X = data.drop(['TOTALDEMAND'], axis=1)\n",
    "y = data['TOTALDEMAND'] "
   ]
  },
  {
   "cell_type": "code",
   "execution_count": 47,
   "metadata": {},
   "outputs": [],
   "source": [
    "# train test split\n",
    "X_train, X_test, y_train, y_test = train_test_split(X, y, test_size=0.2, random_state=42)"
   ]
  },
  {
   "cell_type": "code",
   "execution_count": 48,
   "metadata": {},
   "outputs": [],
   "source": [
    "# define model\n",
    "r1 = LinearRegression()\n",
    "r2 = RandomForestRegressor(n_estimators=10, random_state=1)\n",
    "r3 = KNeighborsRegressor()"
   ]
  },
  {
   "cell_type": "code",
   "execution_count": 49,
   "metadata": {},
   "outputs": [
    {
     "name": "stdout",
     "output_type": "stream",
     "text": [
      "VotingRegressor(estimators=[('lr', 'drop'),\n",
      "                            ('rf',\n",
      "                             RandomForestRegressor(bootstrap=True,\n",
      "                                                   criterion='mse',\n",
      "                                                   max_depth=None,\n",
      "                                                   max_features='auto',\n",
      "                                                   max_leaf_nodes=None,\n",
      "                                                   min_impurity_decrease=0.0,\n",
      "                                                   min_impurity_split=None,\n",
      "                                                   min_samples_leaf=1,\n",
      "                                                   min_samples_split=2,\n",
      "                                                   min_weight_fraction_leaf=0.0,\n",
      "                                                   n_estimators=10, n_jobs=None,\n",
      "                                                   oob_score=False,\n",
      "                                                   random_state=1, verbose=0,\n",
      "                                                   warm_start=False)),\n",
      "                            ('r3',\n",
      "                             KNeighborsRegressor(algorithm='auto', leaf_size=30,\n",
      "                                                 metric='minkowski',\n",
      "                                                 metric_params=None,\n",
      "                                                 n_jobs=None, n_neighbors=5,\n",
      "                                                 p=2, weights='uniform'))],\n",
      "                n_jobs=None, weights=None)\n"
     ]
    }
   ],
   "source": [
    "model = VotingRegressor([('lr', r1), ('rf', r2), ('r3', r3)])\n",
    "model = model.set_params(lr='drop')\n",
    "model = model.fit(X_train, y_train) \n",
    "print(model)"
   ]
  },
  {
   "cell_type": "code",
   "execution_count": 50,
   "metadata": {},
   "outputs": [],
   "source": [
    "y_pred = model.predict(X_test)"
   ]
  },
  {
   "cell_type": "code",
   "execution_count": 51,
   "metadata": {},
   "outputs": [
    {
     "name": "stdout",
     "output_type": "stream",
     "text": [
      "Mean Absolute Error: 0.04\n",
      "Mean Squared Error: 0.00\n",
      "Root Mean Squared Error: 0.06\n",
      "R-squared: 0.84\n"
     ]
    }
   ],
   "source": [
    "# print model performance\n",
    "mae = mean_absolute_error(y_test, y_pred)\n",
    "mse = mean_squared_error(y_test, y_pred)\n",
    "rmse = np.sqrt(mse)\n",
    "r2 = r2_score(y_test, y_pred)\n",
    "\n",
    "print(\"Mean Absolute Error: {:.2f}\".format(mae))\n",
    "print(\"Mean Squared Error: {:.2f}\".format(mse))\n",
    "print(\"Root Mean Squared Error: {:.2f}\".format(rmse))\n",
    "print(\"R-squared: {:.2f}\".format(r2)) "
   ]
  },
  {
   "cell_type": "code",
   "execution_count": null,
   "metadata": {},
   "outputs": [],
   "source": []
  }
 ],
 "metadata": {
  "kernelspec": {
   "display_name": "Python 3",
   "language": "python",
   "name": "python3"
  },
  "language_info": {
   "codemirror_mode": {
    "name": "ipython",
    "version": 3
   },
   "file_extension": ".py",
   "mimetype": "text/x-python",
   "name": "python",
   "nbconvert_exporter": "python",
   "pygments_lexer": "ipython3",
   "version": "3.7.3"
  }
 },
 "nbformat": 4,
 "nbformat_minor": 2
}

{
 "cells": [
  {
   "attachments": {},
   "cell_type": "markdown",
   "metadata": {},
   "source": [
    "* Weather resource: https://www.timeanddate.com/weather/@2176947\n",
    "* Webscraping resource: https://stackoverflow.com/questions/51756775/scraping-table-from-website-timeanddate-com\n",
    "* Install Chromedriver: https://chromedriver.chromium.org/downloads"
   ]
  },
  {
   "cell_type": "code",
   "execution_count": 13,
   "metadata": {},
   "outputs": [
    {
     "name": "stderr",
     "output_type": "stream",
     "text": [
      "WARNING: Ignoring invalid distribution -ffi (c:\\users\\mia.jensen\\anaconda3\\lib\\site-packages)\n",
      "ERROR: Invalid requirement: 'selenium=4.2.0'\n",
      "Hint: = is not a valid operator. Did you mean == ?\n",
      "WARNING: Ignoring invalid distribution -ffi (c:\\users\\mia.jensen\\anaconda3\\lib\\site-packages)\n",
      "WARNING: Ignoring invalid distribution -ffi (c:\\users\\mia.jensen\\anaconda3\\lib\\site-packages)\n",
      "WARNING: Ignoring invalid distribution -ffi (c:\\users\\mia.jensen\\anaconda3\\lib\\site-packages)\n",
      "\n",
      "[notice] A new release of pip available: 22.3.1 -> 23.0.1\n",
      "[notice] To update, run: python.exe -m pip install --upgrade pip\n"
     ]
    }
   ],
   "source": [
    "# !pip install selenium=4.2.0"
   ]
  },
  {
   "cell_type": "code",
   "execution_count": 16,
   "metadata": {},
   "outputs": [],
   "source": [
    "import pandas as pd\n",
    "import requests, re, typing\n",
    "from bs4 import BeautifulSoup as soup\n",
    "import contextlib\n",
    "from selenium import webdriver #need to install chromedriver to iterate through day filter\n",
    "from datetime import datetime"
   ]
  },
  {
   "cell_type": "code",
   "execution_count": 17,
   "metadata": {},
   "outputs": [],
   "source": [
    "def _remove(d:list) -> list:\n",
    "    return list(filter(None, [re.sub('\\xa0', '', b) for b in d]))"
   ]
  },
  {
   "cell_type": "code",
   "execution_count": 18,
   "metadata": {},
   "outputs": [],
   "source": [
    "@contextlib.contextmanager\n",
    "def get_weather_data(url:str, by_url = True) -> typing.Generator[dict, None, None]:\n",
    "   d = soup(requests.get(url).text if by_url else url, 'html.parser')\n",
    "   _table = d.find('table', {'id':'wt-his'})\n",
    "   _data = [[[i.text for i in c.find_all('th')], *[i.text for i in c.find_all('td')]] for c in _table.find_all('tr')]\n",
    "   [h1], [h2], *data, _ = _data\n",
    "   _h2 = _remove(h2)\n",
    "   yield {tuple(_remove(h1)):[dict(zip(_h2, _remove([a, *i]))) for [[a], *i] in data]}"
   ]
  },
  {
   "cell_type": "code",
   "execution_count": 19,
   "metadata": {},
   "outputs": [],
   "source": [
    "def get_weather_dict(chrome_dir, url):\n",
    "    d = webdriver.Chrome(chrome_dir)\n",
    "    d.get(url)\n",
    "    _d = {}\n",
    "    for i in d.find_element_by_id('wt-his-select').find_elements_by_tag_name('option'):\n",
    "        i.click()\n",
    "        with get_weather_data(d.page_source, False) as weather:\n",
    "            _d[i.text] = weather\n",
    "    d.close()\n",
    "    return _d"
   ]
  },
  {
   "cell_type": "code",
   "execution_count": 20,
   "metadata": {},
   "outputs": [],
   "source": [
    "def get_daily_humidty(_d):\n",
    "    df_all = pd.DataFrame()\n",
    "    for date, dict in _d.items():\n",
    "        for day in dict.values():\n",
    "            df = pd.DataFrame(day)\n",
    "            df = df[df[\"Barometer\"]!=\"N/A\"]\n",
    "            df = df[~df[\"Barometer\"].str.contains(\"mbar\")]\n",
    "            df[\"Humidity\"] = df[\"Barometer\"].str.split('%', expand=True)[0]\n",
    "            df[\"Humidity\"] = df[\"Humidity\"].astype(int) / 100\n",
    "            d = {\n",
    "                \"DATE\":[date], \n",
    "                \"HUMIDITYAVE\":[df[\"Humidity\"].mean()],\n",
    "                \"HUMIDITYMIN\":[df[\"Humidity\"].min()],\n",
    "                \"HUMIDITYMAX\":[df[\"Humidity\"].max()],\n",
    "            }\n",
    "            df_day = pd.DataFrame(d)\n",
    "            df_all = df_all.append(df_day)\n",
    "    return df_all"
   ]
  },
  {
   "cell_type": "code",
   "execution_count": 21,
   "metadata": {},
   "outputs": [],
   "source": [
    "this_year = int(datetime.today().strftime('%Y'))\n",
    "this_month = int(datetime.today().strftime('%m')) "
   ]
  },
  {
   "cell_type": "code",
   "execution_count": 22,
   "metadata": {},
   "outputs": [
    {
     "name": "stdout",
     "output_type": "stream",
     "text": [
      "2022 1\n"
     ]
    },
    {
     "name": "stderr",
     "output_type": "stream",
     "text": [
      "C:\\Users\\mia.jensen\\AppData\\Local\\Temp\\ipykernel_39380\\4057525437.py:2: DeprecationWarning: executable_path has been deprecated, please pass in a Service object\n",
      "  d = webdriver.Chrome(chrome_dir)\n"
     ]
    },
    {
     "ename": "WebDriverException",
     "evalue": "Message: 'chromedriver' executable needs to be in PATH. Please see https://chromedriver.chromium.org/home\n",
     "output_type": "error",
     "traceback": [
      "\u001b[1;31m---------------------------------------------------------------------------\u001b[0m",
      "\u001b[1;31mFileNotFoundError\u001b[0m                         Traceback (most recent call last)",
      "File \u001b[1;32mc:\\Users\\mia.jensen\\Anaconda3\\lib\\site-packages\\selenium\\webdriver\\common\\service.py:71\u001b[0m, in \u001b[0;36mService.start\u001b[1;34m(self)\u001b[0m\n\u001b[0;32m     70\u001b[0m     cmd\u001b[39m.\u001b[39mextend(\u001b[39mself\u001b[39m\u001b[39m.\u001b[39mcommand_line_args())\n\u001b[1;32m---> 71\u001b[0m     \u001b[39mself\u001b[39m\u001b[39m.\u001b[39mprocess \u001b[39m=\u001b[39m subprocess\u001b[39m.\u001b[39;49mPopen(cmd, env\u001b[39m=\u001b[39;49m\u001b[39mself\u001b[39;49m\u001b[39m.\u001b[39;49menv,\n\u001b[0;32m     72\u001b[0m                                     close_fds\u001b[39m=\u001b[39;49msystem() \u001b[39m!=\u001b[39;49m \u001b[39m'\u001b[39;49m\u001b[39mWindows\u001b[39;49m\u001b[39m'\u001b[39;49m,\n\u001b[0;32m     73\u001b[0m                                     stdout\u001b[39m=\u001b[39;49m\u001b[39mself\u001b[39;49m\u001b[39m.\u001b[39;49mlog_file,\n\u001b[0;32m     74\u001b[0m                                     stderr\u001b[39m=\u001b[39;49m\u001b[39mself\u001b[39;49m\u001b[39m.\u001b[39;49mlog_file,\n\u001b[0;32m     75\u001b[0m                                     stdin\u001b[39m=\u001b[39;49mPIPE,\n\u001b[0;32m     76\u001b[0m                                     creationflags\u001b[39m=\u001b[39;49m\u001b[39mself\u001b[39;49m\u001b[39m.\u001b[39;49mcreationflags)\n\u001b[0;32m     77\u001b[0m \u001b[39mexcept\u001b[39;00m \u001b[39mTypeError\u001b[39;00m:\n",
      "File \u001b[1;32mc:\\Users\\mia.jensen\\Anaconda3\\lib\\subprocess.py:858\u001b[0m, in \u001b[0;36mPopen.__init__\u001b[1;34m(self, args, bufsize, executable, stdin, stdout, stderr, preexec_fn, close_fds, shell, cwd, env, universal_newlines, startupinfo, creationflags, restore_signals, start_new_session, pass_fds, encoding, errors, text)\u001b[0m\n\u001b[0;32m    855\u001b[0m             \u001b[39mself\u001b[39m\u001b[39m.\u001b[39mstderr \u001b[39m=\u001b[39m io\u001b[39m.\u001b[39mTextIOWrapper(\u001b[39mself\u001b[39m\u001b[39m.\u001b[39mstderr,\n\u001b[0;32m    856\u001b[0m                     encoding\u001b[39m=\u001b[39mencoding, errors\u001b[39m=\u001b[39merrors)\n\u001b[1;32m--> 858\u001b[0m     \u001b[39mself\u001b[39;49m\u001b[39m.\u001b[39;49m_execute_child(args, executable, preexec_fn, close_fds,\n\u001b[0;32m    859\u001b[0m                         pass_fds, cwd, env,\n\u001b[0;32m    860\u001b[0m                         startupinfo, creationflags, shell,\n\u001b[0;32m    861\u001b[0m                         p2cread, p2cwrite,\n\u001b[0;32m    862\u001b[0m                         c2pread, c2pwrite,\n\u001b[0;32m    863\u001b[0m                         errread, errwrite,\n\u001b[0;32m    864\u001b[0m                         restore_signals, start_new_session)\n\u001b[0;32m    865\u001b[0m \u001b[39mexcept\u001b[39;00m:\n\u001b[0;32m    866\u001b[0m     \u001b[39m# Cleanup if the child failed starting.\u001b[39;00m\n",
      "File \u001b[1;32mc:\\Users\\mia.jensen\\Anaconda3\\lib\\subprocess.py:1311\u001b[0m, in \u001b[0;36mPopen._execute_child\u001b[1;34m(self, args, executable, preexec_fn, close_fds, pass_fds, cwd, env, startupinfo, creationflags, shell, p2cread, p2cwrite, c2pread, c2pwrite, errread, errwrite, unused_restore_signals, unused_start_new_session)\u001b[0m\n\u001b[0;32m   1310\u001b[0m \u001b[39mtry\u001b[39;00m:\n\u001b[1;32m-> 1311\u001b[0m     hp, ht, pid, tid \u001b[39m=\u001b[39m _winapi\u001b[39m.\u001b[39;49mCreateProcess(executable, args,\n\u001b[0;32m   1312\u001b[0m                              \u001b[39m# no special security\u001b[39;49;00m\n\u001b[0;32m   1313\u001b[0m                              \u001b[39mNone\u001b[39;49;00m, \u001b[39mNone\u001b[39;49;00m,\n\u001b[0;32m   1314\u001b[0m                              \u001b[39mint\u001b[39;49m(\u001b[39mnot\u001b[39;49;00m close_fds),\n\u001b[0;32m   1315\u001b[0m                              creationflags,\n\u001b[0;32m   1316\u001b[0m                              env,\n\u001b[0;32m   1317\u001b[0m                              cwd,\n\u001b[0;32m   1318\u001b[0m                              startupinfo)\n\u001b[0;32m   1319\u001b[0m \u001b[39mfinally\u001b[39;00m:\n\u001b[0;32m   1320\u001b[0m     \u001b[39m# Child is launched. Close the parent's copy of those pipe\u001b[39;00m\n\u001b[0;32m   1321\u001b[0m     \u001b[39m# handles that only the child should have open.  You need\u001b[39;00m\n\u001b[1;32m   (...)\u001b[0m\n\u001b[0;32m   1324\u001b[0m     \u001b[39m# pipe will not close when the child process exits and the\u001b[39;00m\n\u001b[0;32m   1325\u001b[0m     \u001b[39m# ReadFile will hang.\u001b[39;00m\n",
      "\u001b[1;31mFileNotFoundError\u001b[0m: [WinError 2] The system cannot find the file specified",
      "\nDuring handling of the above exception, another exception occurred:\n",
      "\u001b[1;31mWebDriverException\u001b[0m                        Traceback (most recent call last)",
      "\u001b[1;32mc:\\Users\\mia.jensen\\Desktop\\Home\\UNSW\\Masters Data Science\\Capstone Project\\GroupF_Project\\code\\Humidity - Webscrape.ipynb Cell 9\u001b[0m in \u001b[0;36m<cell line: 4>\u001b[1;34m()\u001b[0m\n\u001b[0;32m      <a href='vscode-notebook-cell:/c%3A/Users/mia.jensen/Desktop/Home/UNSW/Masters%20Data%20Science/Capstone%20Project/GroupF_Project/code/Humidity%20-%20Webscrape.ipynb#X10sZmlsZQ%3D%3D?line=8'>9</a>\u001b[0m url \u001b[39m=\u001b[39m \u001b[39mf\u001b[39m\u001b[39m'\u001b[39m\u001b[39mhttps://www.timeanddate.com/weather/@2176947/historic?month=\u001b[39m\u001b[39m{\u001b[39;00mmonth\u001b[39m}\u001b[39;00m\u001b[39m&year=\u001b[39m\u001b[39m{\u001b[39;00myear\u001b[39m}\u001b[39;00m\u001b[39m'\u001b[39m\n\u001b[0;32m     <a href='vscode-notebook-cell:/c%3A/Users/mia.jensen/Desktop/Home/UNSW/Masters%20Data%20Science/Capstone%20Project/GroupF_Project/code/Humidity%20-%20Webscrape.ipynb#X10sZmlsZQ%3D%3D?line=9'>10</a>\u001b[0m chrome_dir \u001b[39m=\u001b[39m \u001b[39mr\u001b[39m\u001b[39m'\u001b[39m\u001b[39mC:\u001b[39m\u001b[39m\\\u001b[39m\u001b[39mUsers\u001b[39m\u001b[39m\\\u001b[39m\u001b[39mCarl\u001b[39m\u001b[39m\\\u001b[39m\u001b[39mAppData\u001b[39m\u001b[39m\\\u001b[39m\u001b[39mLocal\u001b[39m\u001b[39m\\\u001b[39m\u001b[39mTemp\u001b[39m\u001b[39m\\\u001b[39m\u001b[39m7zO4CF7F84B\u001b[39m\u001b[39m\\\u001b[39m\u001b[39mchromedriver\u001b[39m\u001b[39m'\u001b[39m \u001b[39m#insert path to installed chromedriver (exe file)\u001b[39;00m\n\u001b[1;32m---> <a href='vscode-notebook-cell:/c%3A/Users/mia.jensen/Desktop/Home/UNSW/Masters%20Data%20Science/Capstone%20Project/GroupF_Project/code/Humidity%20-%20Webscrape.ipynb#X10sZmlsZQ%3D%3D?line=10'>11</a>\u001b[0m _d \u001b[39m=\u001b[39m get_weather_dict(chrome_dir, url)\n\u001b[0;32m     <a href='vscode-notebook-cell:/c%3A/Users/mia.jensen/Desktop/Home/UNSW/Masters%20Data%20Science/Capstone%20Project/GroupF_Project/code/Humidity%20-%20Webscrape.ipynb#X10sZmlsZQ%3D%3D?line=11'>12</a>\u001b[0m df \u001b[39m=\u001b[39m get_daily_humidty(_d)\n\u001b[0;32m     <a href='vscode-notebook-cell:/c%3A/Users/mia.jensen/Desktop/Home/UNSW/Masters%20Data%20Science/Capstone%20Project/GroupF_Project/code/Humidity%20-%20Webscrape.ipynb#X10sZmlsZQ%3D%3D?line=12'>13</a>\u001b[0m df_summary \u001b[39m=\u001b[39m df_summary\u001b[39m.\u001b[39mappend(df)\n",
      "\u001b[1;32mc:\\Users\\mia.jensen\\Desktop\\Home\\UNSW\\Masters Data Science\\Capstone Project\\GroupF_Project\\code\\Humidity - Webscrape.ipynb Cell 9\u001b[0m in \u001b[0;36mget_weather_dict\u001b[1;34m(chrome_dir, url)\u001b[0m\n\u001b[0;32m      <a href='vscode-notebook-cell:/c%3A/Users/mia.jensen/Desktop/Home/UNSW/Masters%20Data%20Science/Capstone%20Project/GroupF_Project/code/Humidity%20-%20Webscrape.ipynb#X10sZmlsZQ%3D%3D?line=0'>1</a>\u001b[0m \u001b[39mdef\u001b[39;00m \u001b[39mget_weather_dict\u001b[39m(chrome_dir, url):\n\u001b[1;32m----> <a href='vscode-notebook-cell:/c%3A/Users/mia.jensen/Desktop/Home/UNSW/Masters%20Data%20Science/Capstone%20Project/GroupF_Project/code/Humidity%20-%20Webscrape.ipynb#X10sZmlsZQ%3D%3D?line=1'>2</a>\u001b[0m     d \u001b[39m=\u001b[39m webdriver\u001b[39m.\u001b[39;49mChrome(chrome_dir)\n\u001b[0;32m      <a href='vscode-notebook-cell:/c%3A/Users/mia.jensen/Desktop/Home/UNSW/Masters%20Data%20Science/Capstone%20Project/GroupF_Project/code/Humidity%20-%20Webscrape.ipynb#X10sZmlsZQ%3D%3D?line=2'>3</a>\u001b[0m     d\u001b[39m.\u001b[39mget(url)\n\u001b[0;32m      <a href='vscode-notebook-cell:/c%3A/Users/mia.jensen/Desktop/Home/UNSW/Masters%20Data%20Science/Capstone%20Project/GroupF_Project/code/Humidity%20-%20Webscrape.ipynb#X10sZmlsZQ%3D%3D?line=3'>4</a>\u001b[0m     _d \u001b[39m=\u001b[39m {}\n",
      "File \u001b[1;32mc:\\Users\\mia.jensen\\Anaconda3\\lib\\site-packages\\selenium\\webdriver\\chrome\\webdriver.py:70\u001b[0m, in \u001b[0;36mWebDriver.__init__\u001b[1;34m(self, executable_path, port, options, service_args, desired_capabilities, service_log_path, chrome_options, service, keep_alive)\u001b[0m\n\u001b[0;32m     67\u001b[0m \u001b[39mif\u001b[39;00m \u001b[39mnot\u001b[39;00m service:\n\u001b[0;32m     68\u001b[0m     service \u001b[39m=\u001b[39m Service(executable_path, port, service_args, service_log_path)\n\u001b[1;32m---> 70\u001b[0m \u001b[39msuper\u001b[39;49m(WebDriver, \u001b[39mself\u001b[39;49m)\u001b[39m.\u001b[39;49m\u001b[39m__init__\u001b[39;49m(DesiredCapabilities\u001b[39m.\u001b[39;49mCHROME[\u001b[39m'\u001b[39;49m\u001b[39mbrowserName\u001b[39;49m\u001b[39m'\u001b[39;49m], \u001b[39m\"\u001b[39;49m\u001b[39mgoog\u001b[39;49m\u001b[39m\"\u001b[39;49m,\n\u001b[0;32m     71\u001b[0m                                 port, options,\n\u001b[0;32m     72\u001b[0m                                 service_args, desired_capabilities,\n\u001b[0;32m     73\u001b[0m                                 service_log_path, service, keep_alive)\n",
      "File \u001b[1;32mc:\\Users\\mia.jensen\\Anaconda3\\lib\\site-packages\\selenium\\webdriver\\chromium\\webdriver.py:89\u001b[0m, in \u001b[0;36mChromiumDriver.__init__\u001b[1;34m(self, browser_name, vendor_prefix, port, options, service_args, desired_capabilities, service_log_path, service, keep_alive)\u001b[0m\n\u001b[0;32m     86\u001b[0m     \u001b[39mraise\u001b[39;00m \u001b[39mAttributeError\u001b[39;00m(\u001b[39m'\u001b[39m\u001b[39mservice cannot be None\u001b[39m\u001b[39m'\u001b[39m)\n\u001b[0;32m     88\u001b[0m \u001b[39mself\u001b[39m\u001b[39m.\u001b[39mservice \u001b[39m=\u001b[39m service\n\u001b[1;32m---> 89\u001b[0m \u001b[39mself\u001b[39;49m\u001b[39m.\u001b[39;49mservice\u001b[39m.\u001b[39;49mstart()\n\u001b[0;32m     91\u001b[0m \u001b[39mtry\u001b[39;00m:\n\u001b[0;32m     92\u001b[0m     RemoteWebDriver\u001b[39m.\u001b[39m\u001b[39m__init__\u001b[39m(\n\u001b[0;32m     93\u001b[0m         \u001b[39mself\u001b[39m,\n\u001b[0;32m     94\u001b[0m         command_executor\u001b[39m=\u001b[39mChromiumRemoteConnection(\n\u001b[1;32m   (...)\u001b[0m\n\u001b[0;32m     97\u001b[0m             keep_alive\u001b[39m=\u001b[39mkeep_alive, ignore_proxy\u001b[39m=\u001b[39m_ignore_proxy),\n\u001b[0;32m     98\u001b[0m         options\u001b[39m=\u001b[39moptions)\n",
      "File \u001b[1;32mc:\\Users\\mia.jensen\\Anaconda3\\lib\\site-packages\\selenium\\webdriver\\common\\service.py:81\u001b[0m, in \u001b[0;36mService.start\u001b[1;34m(self)\u001b[0m\n\u001b[0;32m     79\u001b[0m \u001b[39mexcept\u001b[39;00m \u001b[39mOSError\u001b[39;00m \u001b[39mas\u001b[39;00m err:\n\u001b[0;32m     80\u001b[0m     \u001b[39mif\u001b[39;00m err\u001b[39m.\u001b[39merrno \u001b[39m==\u001b[39m errno\u001b[39m.\u001b[39mENOENT:\n\u001b[1;32m---> 81\u001b[0m         \u001b[39mraise\u001b[39;00m WebDriverException(\n\u001b[0;32m     82\u001b[0m             \u001b[39m\"\u001b[39m\u001b[39m'\u001b[39m\u001b[39m%s\u001b[39;00m\u001b[39m'\u001b[39m\u001b[39m executable needs to be in PATH. \u001b[39m\u001b[39m%s\u001b[39;00m\u001b[39m\"\u001b[39m \u001b[39m%\u001b[39m (\n\u001b[0;32m     83\u001b[0m                 os\u001b[39m.\u001b[39mpath\u001b[39m.\u001b[39mbasename(\u001b[39mself\u001b[39m\u001b[39m.\u001b[39mpath), \u001b[39mself\u001b[39m\u001b[39m.\u001b[39mstart_error_message)\n\u001b[0;32m     84\u001b[0m         )\n\u001b[0;32m     85\u001b[0m     \u001b[39melif\u001b[39;00m err\u001b[39m.\u001b[39merrno \u001b[39m==\u001b[39m errno\u001b[39m.\u001b[39mEACCES:\n\u001b[0;32m     86\u001b[0m         \u001b[39mraise\u001b[39;00m WebDriverException(\n\u001b[0;32m     87\u001b[0m             \u001b[39m\"\u001b[39m\u001b[39m'\u001b[39m\u001b[39m%s\u001b[39;00m\u001b[39m'\u001b[39m\u001b[39m executable may have wrong permissions. \u001b[39m\u001b[39m%s\u001b[39;00m\u001b[39m\"\u001b[39m \u001b[39m%\u001b[39m (\n\u001b[0;32m     88\u001b[0m                 os\u001b[39m.\u001b[39mpath\u001b[39m.\u001b[39mbasename(\u001b[39mself\u001b[39m\u001b[39m.\u001b[39mpath), \u001b[39mself\u001b[39m\u001b[39m.\u001b[39mstart_error_message)\n\u001b[0;32m     89\u001b[0m         )\n",
      "\u001b[1;31mWebDriverException\u001b[0m: Message: 'chromedriver' executable needs to be in PATH. Please see https://chromedriver.chromium.org/home\n"
     ]
    }
   ],
   "source": [
    "start_year = 2022\n",
    "end_year = 2022\n",
    "df_summary = pd.DataFrame()\n",
    "for year in range(start_year, end_year+1):\n",
    "    if year > this_year: break\n",
    "    for month in range(1, 13):\n",
    "        if (year == this_year) & (month > this_month): break\n",
    "        print(year, month)\n",
    "        url = f'https://www.timeanddate.com/weather/@2176947/historic?month={month}&year={year}'\n",
    "        chrome_dir = r'C:\\Users\\Carl\\AppData\\Local\\Temp\\7zO4CF7F84B\\chromedriver' #insert path to installed chromedriver (exe file)\n",
    "        _d = get_weather_dict(chrome_dir, url)\n",
    "        df = get_daily_humidty(_d)\n",
    "        df_summary = df_summary.append(df) "
   ]
  },
  {
   "cell_type": "code",
   "execution_count": null,
   "metadata": {},
   "outputs": [],
   "source": [
    "df_summary "
   ]
  },
  {
   "cell_type": "code",
   "execution_count": null,
   "metadata": {},
   "outputs": [],
   "source": [
    "df_summary.to_csv(\"humidity - 2022.csv\")"
   ]
  },
  {
   "cell_type": "code",
   "execution_count": null,
   "metadata": {},
   "outputs": [],
   "source": []
  }
 ],
 "metadata": {
  "kernelspec": {
   "display_name": "Python 3",
   "language": "python",
   "name": "python3"
  },
  "language_info": {
   "codemirror_mode": {
    "name": "ipython",
    "version": 3
   },
   "file_extension": ".py",
   "mimetype": "text/x-python",
   "name": "python",
   "nbconvert_exporter": "python",
   "pygments_lexer": "ipython3",
   "version": "3.8.12"
  },
  "orig_nbformat": 4
 },
 "nbformat": 4,
 "nbformat_minor": 2
}

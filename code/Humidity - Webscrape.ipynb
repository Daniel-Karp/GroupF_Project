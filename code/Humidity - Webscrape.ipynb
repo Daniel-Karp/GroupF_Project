{
 "cells": [
  {
   "attachments": {},
   "cell_type": "markdown",
   "metadata": {},
   "source": [
    "* Weather resource: https://www.timeanddate.com/weather/@2176947\n",
    "* Webscraping resource: https://stackoverflow.com/questions/51756775/scraping-table-from-website-timeanddate-com\n",
    "* Install Chromedriver: https://chromedriver.chromium.org/downloads"
   ]
  },
  {
   "cell_type": "code",
   "execution_count": 13,
   "metadata": {},
   "outputs": [
    {
     "name": "stderr",
     "output_type": "stream",
     "text": [
      "WARNING: Ignoring invalid distribution -ffi (c:\\users\\mia.jensen\\anaconda3\\lib\\site-packages)\n",
      "ERROR: Invalid requirement: 'selenium=4.2.0'\n",
      "Hint: = is not a valid operator. Did you mean == ?\n",
      "WARNING: Ignoring invalid distribution -ffi (c:\\users\\mia.jensen\\anaconda3\\lib\\site-packages)\n",
      "WARNING: Ignoring invalid distribution -ffi (c:\\users\\mia.jensen\\anaconda3\\lib\\site-packages)\n",
      "WARNING: Ignoring invalid distribution -ffi (c:\\users\\mia.jensen\\anaconda3\\lib\\site-packages)\n",
      "\n",
      "[notice] A new release of pip available: 22.3.1 -> 23.0.1\n",
      "[notice] To update, run: python.exe -m pip install --upgrade pip\n"
     ]
    }
   ],
   "source": [
    "# !pip install selenium=4.2.0"
   ]
  },
  {
   "cell_type": "code",
   "execution_count": 30,
   "metadata": {},
   "outputs": [],
   "source": [
    "import os\n",
    "import pandas as pd\n",
    "import requests, re, typing\n",
    "from bs4 import BeautifulSoup as soup\n",
    "import contextlib\n",
    "from selenium import webdriver #need to install chromedriver to iterate through day filter\n",
    "from datetime import datetime\n",
    "import warnings\n",
    "warnings.filterwarnings(\"ignore\")"
   ]
  },
  {
   "cell_type": "code",
   "execution_count": 34,
   "metadata": {},
   "outputs": [],
   "source": [
    "base_dir = os.path.dirname(os.path.abspath(\"..\\code\"))\n",
    "path = os.path.join(base_dir, r\"code\")\n",
    "os.chdir(path)"
   ]
  },
  {
   "cell_type": "code",
   "execution_count": 35,
   "metadata": {},
   "outputs": [],
   "source": [
    "def _remove(d:list) -> list:\n",
    "    return list(filter(None, [re.sub('\\xa0', '', b) for b in d]))"
   ]
  },
  {
   "cell_type": "code",
   "execution_count": 36,
   "metadata": {},
   "outputs": [],
   "source": [
    "@contextlib.contextmanager\n",
    "def get_weather_data(url:str, by_url = True) -> typing.Generator[dict, None, None]:\n",
    "   d = soup(requests.get(url).text if by_url else url, 'html.parser')\n",
    "   _table = d.find('table', {'id':'wt-his'})\n",
    "   _data = [[[i.text for i in c.find_all('th')], *[i.text for i in c.find_all('td')]] for c in _table.find_all('tr')]\n",
    "   [h1], [h2], *data, _ = _data\n",
    "   _h2 = _remove(h2)\n",
    "   yield {tuple(_remove(h1)):[dict(zip(_h2, _remove([a, *i]))) for [[a], *i] in data]}"
   ]
  },
  {
   "cell_type": "code",
   "execution_count": 37,
   "metadata": {},
   "outputs": [],
   "source": [
    "def get_weather_dict(chrome_dir, url):\n",
    "    d = webdriver.Chrome(chrome_dir)\n",
    "    d.get(url)\n",
    "    _d = {}\n",
    "    for i in d.find_element_by_id('wt-his-select').find_elements_by_tag_name('option'):\n",
    "        i.click()\n",
    "        with get_weather_data(d.page_source, False) as weather:\n",
    "            _d[i.text] = weather\n",
    "    d.close()\n",
    "    return _d"
   ]
  },
  {
   "cell_type": "code",
   "execution_count": 38,
   "metadata": {},
   "outputs": [],
   "source": [
    "def get_daily_humidty(_d):\n",
    "    df_all = pd.DataFrame()\n",
    "    for date, dict in _d.items():\n",
    "        for day in dict.values():\n",
    "            df = pd.DataFrame(day)\n",
    "            df = df[df[\"Barometer\"]!=\"N/A\"]\n",
    "            df = df[~df[\"Barometer\"].str.contains(\"mbar\")]\n",
    "            df[\"Humidity\"] = df[\"Barometer\"].str.split('%', expand=True)[0]\n",
    "            df[\"Humidity\"] = df[\"Humidity\"].astype(int) / 100\n",
    "            d = {\n",
    "                \"DATE\":[date], \n",
    "                \"HUMIDITYAVE\":[df[\"Humidity\"].mean()],\n",
    "                \"HUMIDITYMIN\":[df[\"Humidity\"].min()],\n",
    "                \"HUMIDITYMAX\":[df[\"Humidity\"].max()],\n",
    "            }\n",
    "            df_day = pd.DataFrame(d)\n",
    "            df_all = df_all.append(df_day)\n",
    "    return df_all"
   ]
  },
  {
   "cell_type": "code",
   "execution_count": 39,
   "metadata": {},
   "outputs": [],
   "source": [
    "this_year = int(datetime.today().strftime('%Y'))\n",
    "this_month = int(datetime.today().strftime('%m')) "
   ]
  },
  {
   "cell_type": "code",
   "execution_count": 41,
   "metadata": {},
   "outputs": [
    {
     "name": "stdout",
     "output_type": "stream",
     "text": [
      "2022 1\n"
     ]
    }
   ],
   "source": [
    "start_year = 2022\n",
    "end_year = 2022\n",
    "df_summary = pd.DataFrame()\n",
    "for year in range(start_year, end_year+1):\n",
    "    if year > this_year: break\n",
    "    for month in range(1, 13):\n",
    "        if (year == this_year) & (month > this_month): break\n",
    "        print(year, month)\n",
    "        url = f'https://www.timeanddate.com/weather/@2176947/historic?month={month}&year={year}'\n",
    "        chrome_dir = path + r'\\Archive\\chromedriver' #insert path to installed chromedriver (exe file)\n",
    "        _d = get_weather_dict(chrome_dir, url)\n",
    "        df = get_daily_humidty(_d)\n",
    "        df_summary = df_summary.append(df) "
   ]
  },
  {
   "cell_type": "code",
   "execution_count": 28,
   "metadata": {},
   "outputs": [
    {
     "data": {
      "text/html": [
       "<div>\n",
       "<style scoped>\n",
       "    .dataframe tbody tr th:only-of-type {\n",
       "        vertical-align: middle;\n",
       "    }\n",
       "\n",
       "    .dataframe tbody tr th {\n",
       "        vertical-align: top;\n",
       "    }\n",
       "\n",
       "    .dataframe thead th {\n",
       "        text-align: right;\n",
       "    }\n",
       "</style>\n",
       "<table border=\"1\" class=\"dataframe\">\n",
       "  <thead>\n",
       "    <tr style=\"text-align: right;\">\n",
       "      <th></th>\n",
       "      <th>DATE</th>\n",
       "      <th>HUMIDITYAVE</th>\n",
       "      <th>HUMIDITYMIN</th>\n",
       "      <th>HUMIDITYMAX</th>\n",
       "    </tr>\n",
       "  </thead>\n",
       "  <tbody>\n",
       "    <tr>\n",
       "      <th>0</th>\n",
       "      <td>1 January 2022</td>\n",
       "      <td>0.630652</td>\n",
       "      <td>0.51</td>\n",
       "      <td>0.74</td>\n",
       "    </tr>\n",
       "    <tr>\n",
       "      <th>0</th>\n",
       "      <td>2 January 2022</td>\n",
       "      <td>0.630652</td>\n",
       "      <td>0.51</td>\n",
       "      <td>0.74</td>\n",
       "    </tr>\n",
       "    <tr>\n",
       "      <th>0</th>\n",
       "      <td>3 January 2022</td>\n",
       "      <td>0.667660</td>\n",
       "      <td>0.51</td>\n",
       "      <td>0.83</td>\n",
       "    </tr>\n",
       "    <tr>\n",
       "      <th>0</th>\n",
       "      <td>4 January 2022</td>\n",
       "      <td>0.666429</td>\n",
       "      <td>0.51</td>\n",
       "      <td>0.83</td>\n",
       "    </tr>\n",
       "    <tr>\n",
       "      <th>0</th>\n",
       "      <td>5 January 2022</td>\n",
       "      <td>0.703182</td>\n",
       "      <td>0.54</td>\n",
       "      <td>0.88</td>\n",
       "    </tr>\n",
       "    <tr>\n",
       "      <th>...</th>\n",
       "      <td>...</td>\n",
       "      <td>...</td>\n",
       "      <td>...</td>\n",
       "      <td>...</td>\n",
       "    </tr>\n",
       "    <tr>\n",
       "      <th>0</th>\n",
       "      <td>27 December 2022</td>\n",
       "      <td>0.761220</td>\n",
       "      <td>0.48</td>\n",
       "      <td>1.00</td>\n",
       "    </tr>\n",
       "    <tr>\n",
       "      <th>0</th>\n",
       "      <td>28 December 2022</td>\n",
       "      <td>0.719524</td>\n",
       "      <td>0.45</td>\n",
       "      <td>0.94</td>\n",
       "    </tr>\n",
       "    <tr>\n",
       "      <th>0</th>\n",
       "      <td>29 December 2022</td>\n",
       "      <td>0.683182</td>\n",
       "      <td>0.48</td>\n",
       "      <td>0.83</td>\n",
       "    </tr>\n",
       "    <tr>\n",
       "      <th>0</th>\n",
       "      <td>30 December 2022</td>\n",
       "      <td>0.848810</td>\n",
       "      <td>0.78</td>\n",
       "      <td>0.94</td>\n",
       "    </tr>\n",
       "    <tr>\n",
       "      <th>0</th>\n",
       "      <td>31 December 2022</td>\n",
       "      <td>0.835217</td>\n",
       "      <td>0.61</td>\n",
       "      <td>1.00</td>\n",
       "    </tr>\n",
       "  </tbody>\n",
       "</table>\n",
       "<p>365 rows × 4 columns</p>\n",
       "</div>"
      ],
      "text/plain": [
       "                DATE  HUMIDITYAVE  HUMIDITYMIN  HUMIDITYMAX\n",
       "0     1 January 2022     0.630652         0.51         0.74\n",
       "0     2 January 2022     0.630652         0.51         0.74\n",
       "0     3 January 2022     0.667660         0.51         0.83\n",
       "0     4 January 2022     0.666429         0.51         0.83\n",
       "0     5 January 2022     0.703182         0.54         0.88\n",
       "..               ...          ...          ...          ...\n",
       "0   27 December 2022     0.761220         0.48         1.00\n",
       "0   28 December 2022     0.719524         0.45         0.94\n",
       "0   29 December 2022     0.683182         0.48         0.83\n",
       "0   30 December 2022     0.848810         0.78         0.94\n",
       "0   31 December 2022     0.835217         0.61         1.00\n",
       "\n",
       "[365 rows x 4 columns]"
      ]
     },
     "execution_count": 28,
     "metadata": {},
     "output_type": "execute_result"
    }
   ],
   "source": [
    "df_summary "
   ]
  },
  {
   "cell_type": "code",
   "execution_count": 29,
   "metadata": {},
   "outputs": [],
   "source": [
    "df_summary.to_csv(\"humidity - 2022.csv\")"
   ]
  },
  {
   "cell_type": "code",
   "execution_count": null,
   "metadata": {},
   "outputs": [],
   "source": []
  }
 ],
 "metadata": {
  "kernelspec": {
   "display_name": "Python 3",
   "language": "python",
   "name": "python3"
  },
  "language_info": {
   "codemirror_mode": {
    "name": "ipython",
    "version": 3
   },
   "file_extension": ".py",
   "mimetype": "text/x-python",
   "name": "python",
   "nbconvert_exporter": "python",
   "pygments_lexer": "ipython3",
   "version": "3.8.12"
  },
  "orig_nbformat": 4
 },
 "nbformat": 4,
 "nbformat_minor": 2
}

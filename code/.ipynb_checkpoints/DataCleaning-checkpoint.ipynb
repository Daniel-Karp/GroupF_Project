{
 "cells": [
  {
   "cell_type": "code",
   "execution_count": 1,
   "metadata": {},
   "outputs": [],
   "source": [
    "import pandas as pd\n",
    "import os\n",
    "import datetime as dt\n",
    "import zipfile\n",
    "import tempfile # for temporary file storage to avoid storing large datasets on github"
   ]
  },
  {
   "cell_type": "code",
   "execution_count": 2,
   "metadata": {},
   "outputs": [],
   "source": [
    "base_dir = os.path.dirname(os.path.abspath(\"..\\data\"))\n",
    "path = os.path.join(base_dir, r\"data\")\n",
    "os.chdir(path)"
   ]
  },
  {
   "cell_type": "code",
   "execution_count": 3,
   "metadata": {},
   "outputs": [],
   "source": [
    "# os.listdir()"
   ]
  },
  {
   "cell_type": "markdown",
   "metadata": {},
   "source": [
    "#### Functions"
   ]
  },
  {
   "cell_type": "code",
   "execution_count": 4,
   "metadata": {},
   "outputs": [],
   "source": [
    "def zip_to_df(file_name):\n",
    "    # create temporary directory  \n",
    "    with tempfile.TemporaryDirectory() as tmpdirname:\n",
    "        # collect data from zip file \n",
    "        with zipfile.ZipFile(file_name+\".zip\") as zip_file:\n",
    "            file_list = zip_file.namelist()\n",
    "            for file in file_list:\n",
    "               zip_file.extract(file, tmpdirname)\n",
    "            file_path = tmpdirname+\"\\\\\"+file_name\n",
    "            # create and return dataframe\n",
    "            df = pd.read_csv(file_path)\n",
    "            return df"
   ]
  },
  {
   "cell_type": "markdown",
   "metadata": {},
   "source": [
    "#### Total Demand"
   ]
  },
  {
   "cell_type": "code",
   "execution_count": 5,
   "metadata": {},
   "outputs": [
    {
     "data": {
      "text/html": [
       "<div>\n",
       "<style scoped>\n",
       "    .dataframe tbody tr th:only-of-type {\n",
       "        vertical-align: middle;\n",
       "    }\n",
       "\n",
       "    .dataframe tbody tr th {\n",
       "        vertical-align: top;\n",
       "    }\n",
       "\n",
       "    .dataframe thead th {\n",
       "        text-align: right;\n",
       "    }\n",
       "</style>\n",
       "<table border=\"1\" class=\"dataframe\">\n",
       "  <thead>\n",
       "    <tr style=\"text-align: right;\">\n",
       "      <th></th>\n",
       "      <th>DATETIME</th>\n",
       "      <th>REGIONID</th>\n",
       "      <th>TOTALDEMAND</th>\n",
       "    </tr>\n",
       "  </thead>\n",
       "  <tbody>\n",
       "    <tr>\n",
       "      <th>0</th>\n",
       "      <td>2010-01-01 00:00:00</td>\n",
       "      <td>NSW1</td>\n",
       "      <td>7997.41</td>\n",
       "    </tr>\n",
       "    <tr>\n",
       "      <th>1</th>\n",
       "      <td>2010-01-01 00:05:00</td>\n",
       "      <td>NSW1</td>\n",
       "      <td>7946.51</td>\n",
       "    </tr>\n",
       "    <tr>\n",
       "      <th>2</th>\n",
       "      <td>2010-01-01 00:10:00</td>\n",
       "      <td>NSW1</td>\n",
       "      <td>7921.55</td>\n",
       "    </tr>\n",
       "    <tr>\n",
       "      <th>3</th>\n",
       "      <td>2010-01-01 00:15:00</td>\n",
       "      <td>NSW1</td>\n",
       "      <td>7837.84</td>\n",
       "    </tr>\n",
       "    <tr>\n",
       "      <th>4</th>\n",
       "      <td>2010-01-01 00:20:00</td>\n",
       "      <td>NSW1</td>\n",
       "      <td>7781.11</td>\n",
       "    </tr>\n",
       "  </tbody>\n",
       "</table>\n",
       "</div>"
      ],
      "text/plain": [
       "              DATETIME REGIONID  TOTALDEMAND\n",
       "0  2010-01-01 00:00:00     NSW1      7997.41\n",
       "1  2010-01-01 00:05:00     NSW1      7946.51\n",
       "2  2010-01-01 00:10:00     NSW1      7921.55\n",
       "3  2010-01-01 00:15:00     NSW1      7837.84\n",
       "4  2010-01-01 00:20:00     NSW1      7781.11"
      ]
     },
     "execution_count": 5,
     "metadata": {},
     "output_type": "execute_result"
    }
   ],
   "source": [
    "file_name = \"totaldemand_nsw.csv\"\n",
    "totalDemand = zip_to_df(file_name)\n",
    "totalDemand.head()"
   ]
  },
  {
   "cell_type": "code",
   "execution_count": 6,
   "metadata": {},
   "outputs": [],
   "source": [
    "totalDemand['DATETIME'] = pd.to_datetime(totalDemand['DATETIME'])"
   ]
  },
  {
   "cell_type": "code",
   "execution_count": 7,
   "metadata": {},
   "outputs": [],
   "source": [
    "# print(min(totalDemand.DATETIME), max(totalDemand.DATETIME))"
   ]
  },
  {
   "cell_type": "code",
   "execution_count": 8,
   "metadata": {},
   "outputs": [
    {
     "data": {
      "text/plain": [
       "DATETIME       datetime64[ns]\n",
       "REGIONID               object\n",
       "TOTALDEMAND           float64\n",
       "dtype: object"
      ]
     },
     "execution_count": 8,
     "metadata": {},
     "output_type": "execute_result"
    }
   ],
   "source": [
    "totalDemand.dtypes"
   ]
  },
  {
   "cell_type": "code",
   "execution_count": 9,
   "metadata": {},
   "outputs": [
    {
     "data": {
      "text/plain": [
       "1323398"
      ]
     },
     "execution_count": 9,
     "metadata": {},
     "output_type": "execute_result"
    }
   ],
   "source": [
    "len(totalDemand)"
   ]
  },
  {
   "cell_type": "code",
   "execution_count": 10,
   "metadata": {},
   "outputs": [
    {
     "data": {
      "text/plain": [
       "DATETIME       0\n",
       "REGIONID       0\n",
       "TOTALDEMAND    0\n",
       "dtype: int64"
      ]
     },
     "execution_count": 10,
     "metadata": {},
     "output_type": "execute_result"
    }
   ],
   "source": [
    "totalDemand.isna().sum()"
   ]
  },
  {
   "cell_type": "code",
   "execution_count": 11,
   "metadata": {},
   "outputs": [
    {
     "data": {
      "text/plain": [
       "array(['NSW1'], dtype=object)"
      ]
     },
     "execution_count": 11,
     "metadata": {},
     "output_type": "execute_result"
    }
   ],
   "source": [
    "totalDemand.REGIONID.unique()"
   ]
  },
  {
   "cell_type": "markdown",
   "metadata": {},
   "source": [
    "#### Temperature"
   ]
  },
  {
   "cell_type": "code",
   "execution_count": 12,
   "metadata": {},
   "outputs": [
    {
     "data": {
      "text/html": [
       "<div>\n",
       "<style scoped>\n",
       "    .dataframe tbody tr th:only-of-type {\n",
       "        vertical-align: middle;\n",
       "    }\n",
       "\n",
       "    .dataframe tbody tr th {\n",
       "        vertical-align: top;\n",
       "    }\n",
       "\n",
       "    .dataframe thead th {\n",
       "        text-align: right;\n",
       "    }\n",
       "</style>\n",
       "<table border=\"1\" class=\"dataframe\">\n",
       "  <thead>\n",
       "    <tr style=\"text-align: right;\">\n",
       "      <th></th>\n",
       "      <th>DATETIME</th>\n",
       "      <th>LOCATION</th>\n",
       "      <th>TEMPERATURE</th>\n",
       "    </tr>\n",
       "  </thead>\n",
       "  <tbody>\n",
       "    <tr>\n",
       "      <th>0</th>\n",
       "      <td>2010-01-01 00:00:00</td>\n",
       "      <td>94766.0</td>\n",
       "      <td>23.1</td>\n",
       "    </tr>\n",
       "    <tr>\n",
       "      <th>1</th>\n",
       "      <td>2010-01-01 00:01:00</td>\n",
       "      <td>94766.0</td>\n",
       "      <td>23.1</td>\n",
       "    </tr>\n",
       "    <tr>\n",
       "      <th>2</th>\n",
       "      <td>2010-01-01 00:30:00</td>\n",
       "      <td>94766.0</td>\n",
       "      <td>22.9</td>\n",
       "    </tr>\n",
       "    <tr>\n",
       "      <th>3</th>\n",
       "      <td>2010-01-01 00:50:00</td>\n",
       "      <td>94766.0</td>\n",
       "      <td>22.7</td>\n",
       "    </tr>\n",
       "    <tr>\n",
       "      <th>4</th>\n",
       "      <td>2010-01-01 01:00:00</td>\n",
       "      <td>94766.0</td>\n",
       "      <td>22.6</td>\n",
       "    </tr>\n",
       "  </tbody>\n",
       "</table>\n",
       "</div>"
      ],
      "text/plain": [
       "              DATETIME  LOCATION  TEMPERATURE\n",
       "0  2010-01-01 00:00:00   94766.0         23.1\n",
       "1  2010-01-01 00:01:00   94766.0         23.1\n",
       "2  2010-01-01 00:30:00   94766.0         22.9\n",
       "3  2010-01-01 00:50:00   94766.0         22.7\n",
       "4  2010-01-01 01:00:00   94766.0         22.6"
      ]
     },
     "execution_count": 12,
     "metadata": {},
     "output_type": "execute_result"
    }
   ],
   "source": [
    "file_name = \"temperature_nsw.csv\"\n",
    "temperature = zip_to_df(file_name)\n",
    "temperature.head()"
   ]
  },
  {
   "cell_type": "code",
   "execution_count": 13,
   "metadata": {
    "scrolled": true
   },
   "outputs": [],
   "source": [
    "temperature['DATETIME'] = pd.to_datetime(temperature['DATETIME'])"
   ]
  },
  {
   "cell_type": "code",
   "execution_count": 14,
   "metadata": {},
   "outputs": [],
   "source": [
    "# print(min(temperature.DATETIME), max(temperature.DATETIME))"
   ]
  },
  {
   "cell_type": "code",
   "execution_count": 15,
   "metadata": {},
   "outputs": [
    {
     "data": {
      "text/plain": [
       "DATETIME       datetime64[ns]\n",
       "LOCATION              float64\n",
       "TEMPERATURE           float64\n",
       "dtype: object"
      ]
     },
     "execution_count": 15,
     "metadata": {},
     "output_type": "execute_result"
    }
   ],
   "source": [
    "temperature.dtypes"
   ]
  },
  {
   "cell_type": "code",
   "execution_count": 16,
   "metadata": {},
   "outputs": [
    {
     "data": {
      "text/plain": [
       "247646"
      ]
     },
     "execution_count": 16,
     "metadata": {},
     "output_type": "execute_result"
    }
   ],
   "source": [
    "len(temperature)"
   ]
  },
  {
   "cell_type": "code",
   "execution_count": 17,
   "metadata": {},
   "outputs": [
    {
     "data": {
      "text/plain": [
       "DATETIME       0\n",
       "LOCATION       0\n",
       "TEMPERATURE    0\n",
       "dtype: int64"
      ]
     },
     "execution_count": 17,
     "metadata": {},
     "output_type": "execute_result"
    }
   ],
   "source": [
    "temperature.isna().sum()"
   ]
  },
  {
   "cell_type": "code",
   "execution_count": 18,
   "metadata": {},
   "outputs": [
    {
     "data": {
      "text/plain": [
       "array([94766.])"
      ]
     },
     "execution_count": 18,
     "metadata": {},
     "output_type": "execute_result"
    }
   ],
   "source": [
    "temperature.LOCATION.unique()"
   ]
  },
  {
   "cell_type": "markdown",
   "metadata": {},
   "source": [
    "#### Forecast Demand"
   ]
  },
  {
   "cell_type": "code",
   "execution_count": 19,
   "metadata": {},
   "outputs": [
    {
     "data": {
      "text/html": [
       "<div>\n",
       "<style scoped>\n",
       "    .dataframe tbody tr th:only-of-type {\n",
       "        vertical-align: middle;\n",
       "    }\n",
       "\n",
       "    .dataframe tbody tr th {\n",
       "        vertical-align: top;\n",
       "    }\n",
       "\n",
       "    .dataframe thead th {\n",
       "        text-align: right;\n",
       "    }\n",
       "</style>\n",
       "<table border=\"1\" class=\"dataframe\">\n",
       "  <thead>\n",
       "    <tr style=\"text-align: right;\">\n",
       "      <th></th>\n",
       "      <th>DATETIME</th>\n",
       "      <th>REGIONID</th>\n",
       "      <th>FORECASTDEMAND</th>\n",
       "      <th>PREDISPATCHSEQNO</th>\n",
       "      <th>PERIODID</th>\n",
       "      <th>LASTCHANGED</th>\n",
       "    </tr>\n",
       "  </thead>\n",
       "  <tbody>\n",
       "    <tr>\n",
       "      <th>0</th>\n",
       "      <td>2010-01-01 00:00:00</td>\n",
       "      <td>NSW1</td>\n",
       "      <td>7832.04</td>\n",
       "      <td>2009123018</td>\n",
       "      <td>71</td>\n",
       "      <td>2009-12-30 12:31:49</td>\n",
       "    </tr>\n",
       "    <tr>\n",
       "      <th>1</th>\n",
       "      <td>2010-01-01 00:00:00</td>\n",
       "      <td>NSW1</td>\n",
       "      <td>7832.04</td>\n",
       "      <td>2009123019</td>\n",
       "      <td>70</td>\n",
       "      <td>2009-12-30 13:01:43</td>\n",
       "    </tr>\n",
       "    <tr>\n",
       "      <th>2</th>\n",
       "      <td>2010-01-01 00:00:00</td>\n",
       "      <td>NSW1</td>\n",
       "      <td>7832.03</td>\n",
       "      <td>2009123020</td>\n",
       "      <td>69</td>\n",
       "      <td>2009-12-30 13:31:36</td>\n",
       "    </tr>\n",
       "    <tr>\n",
       "      <th>3</th>\n",
       "      <td>2010-01-01 00:00:00</td>\n",
       "      <td>NSW1</td>\n",
       "      <td>7832.03</td>\n",
       "      <td>2009123021</td>\n",
       "      <td>68</td>\n",
       "      <td>2009-12-30 14:01:44</td>\n",
       "    </tr>\n",
       "    <tr>\n",
       "      <th>4</th>\n",
       "      <td>2010-01-01 00:00:00</td>\n",
       "      <td>NSW1</td>\n",
       "      <td>7830.96</td>\n",
       "      <td>2009123022</td>\n",
       "      <td>67</td>\n",
       "      <td>2009-12-30 14:31:35</td>\n",
       "    </tr>\n",
       "  </tbody>\n",
       "</table>\n",
       "</div>"
      ],
      "text/plain": [
       "              DATETIME REGIONID  FORECASTDEMAND  PREDISPATCHSEQNO  PERIODID  \\\n",
       "0  2010-01-01 00:00:00     NSW1         7832.04        2009123018        71   \n",
       "1  2010-01-01 00:00:00     NSW1         7832.04        2009123019        70   \n",
       "2  2010-01-01 00:00:00     NSW1         7832.03        2009123020        69   \n",
       "3  2010-01-01 00:00:00     NSW1         7832.03        2009123021        68   \n",
       "4  2010-01-01 00:00:00     NSW1         7830.96        2009123022        67   \n",
       "\n",
       "           LASTCHANGED  \n",
       "0  2009-12-30 12:31:49  \n",
       "1  2009-12-30 13:01:43  \n",
       "2  2009-12-30 13:31:36  \n",
       "3  2009-12-30 14:01:44  \n",
       "4  2009-12-30 14:31:35  "
      ]
     },
     "execution_count": 19,
     "metadata": {},
     "output_type": "execute_result"
    }
   ],
   "source": [
    "file_name = \"forecastdemand_nsw.csv\"\n",
    "forecastDemand = zip_to_df(file_name)\n",
    "forecastDemand.head()"
   ]
  },
  {
   "cell_type": "code",
   "execution_count": 20,
   "metadata": {},
   "outputs": [],
   "source": [
    "forecastDemand['DATETIME'] = pd.to_datetime(forecastDemand['DATETIME'])\n",
    "forecastDemand['LASTCHANGED'] = pd.to_datetime(forecastDemand['LASTCHANGED'])"
   ]
  },
  {
   "cell_type": "code",
   "execution_count": 21,
   "metadata": {},
   "outputs": [],
   "source": [
    "# print(min(forecastDemand.DATETIME), max(forecastDemand.DATETIME))\n",
    "# print(min(forecastDemand.LASTCHANGED), max(forecastDemand.LASTCHANGED))"
   ]
  },
  {
   "cell_type": "code",
   "execution_count": 22,
   "metadata": {},
   "outputs": [
    {
     "data": {
      "text/plain": [
       "DATETIME            datetime64[ns]\n",
       "REGIONID                    object\n",
       "FORECASTDEMAND             float64\n",
       "PREDISPATCHSEQNO             int64\n",
       "PERIODID                     int64\n",
       "LASTCHANGED         datetime64[ns]\n",
       "dtype: object"
      ]
     },
     "execution_count": 22,
     "metadata": {},
     "output_type": "execute_result"
    }
   ],
   "source": [
    "forecastDemand.dtypes"
   ]
  },
  {
   "cell_type": "code",
   "execution_count": 23,
   "metadata": {},
   "outputs": [
    {
     "data": {
      "text/plain": [
       "11619503"
      ]
     },
     "execution_count": 23,
     "metadata": {},
     "output_type": "execute_result"
    }
   ],
   "source": [
    "len(forecastDemand)"
   ]
  },
  {
   "cell_type": "code",
   "execution_count": 24,
   "metadata": {},
   "outputs": [
    {
     "data": {
      "text/plain": [
       "DATETIME            0\n",
       "REGIONID            0\n",
       "FORECASTDEMAND      0\n",
       "PREDISPATCHSEQNO    0\n",
       "PERIODID            0\n",
       "LASTCHANGED         0\n",
       "dtype: int64"
      ]
     },
     "execution_count": 24,
     "metadata": {},
     "output_type": "execute_result"
    }
   ],
   "source": [
    "forecastDemand.isna().sum()"
   ]
  },
  {
   "cell_type": "code",
   "execution_count": 25,
   "metadata": {},
   "outputs": [
    {
     "data": {
      "text/plain": [
       "79"
      ]
     },
     "execution_count": 25,
     "metadata": {},
     "output_type": "execute_result"
    }
   ],
   "source": [
    "forecastDemand.PERIODID.max()"
   ]
  },
  {
   "cell_type": "markdown",
   "metadata": {},
   "source": [
    "#### Energy Prices and Demand"
   ]
  },
  {
   "cell_type": "code",
   "execution_count": 26,
   "metadata": {},
   "outputs": [
    {
     "data": {
      "text/plain": [
       "['Data source.txt',\n",
       " 'PRICE_AND_DEMAND_201001_NSW1.csv',\n",
       " 'PRICE_AND_DEMAND_201002_NSW1.csv',\n",
       " 'PRICE_AND_DEMAND_201003_NSW1.csv',\n",
       " 'PRICE_AND_DEMAND_201004_NSW1.csv',\n",
       " 'PRICE_AND_DEMAND_201005_NSW1.csv',\n",
       " 'PRICE_AND_DEMAND_201006_NSW1.csv',\n",
       " 'PRICE_AND_DEMAND_201007_NSW1.csv',\n",
       " 'PRICE_AND_DEMAND_201008_NSW1.csv',\n",
       " 'PRICE_AND_DEMAND_201009_NSW1.csv',\n",
       " 'PRICE_AND_DEMAND_201010_NSW1.csv',\n",
       " 'PRICE_AND_DEMAND_201011_NSW1.csv',\n",
       " 'PRICE_AND_DEMAND_201012_NSW1.csv',\n",
       " 'PRICE_AND_DEMAND_2010_to_2011.csv',\n",
       " 'PRICE_AND_DEMAND_201101_NSW1.csv',\n",
       " 'PRICE_AND_DEMAND_201102_NSW1.csv',\n",
       " 'PRICE_AND_DEMAND_201103_NSW1.csv',\n",
       " 'PRICE_AND_DEMAND_201104_NSW1.csv',\n",
       " 'PRICE_AND_DEMAND_201105_NSW1.csv',\n",
       " 'PRICE_AND_DEMAND_201106_NSW1.csv',\n",
       " 'PRICE_AND_DEMAND_201107_NSW1.csv',\n",
       " 'PRICE_AND_DEMAND_201108_NSW1.csv',\n",
       " 'PRICE_AND_DEMAND_201109_NSW1.csv',\n",
       " 'PRICE_AND_DEMAND_201110_NSW1.csv',\n",
       " 'PRICE_AND_DEMAND_201111_NSW1.csv',\n",
       " 'PRICE_AND_DEMAND_201112_NSW1.csv',\n",
       " 'PRICE_AND_DEMAND_201201_NSW1.csv',\n",
       " 'PRICE_AND_DEMAND_201202_NSW1.csv',\n",
       " 'PRICE_AND_DEMAND_201203_NSW1.csv',\n",
       " 'PRICE_AND_DEMAND_201204_NSW1.csv',\n",
       " 'PRICE_AND_DEMAND_201205_NSW1.csv',\n",
       " 'PRICE_AND_DEMAND_201206_NSW1.csv',\n",
       " 'PRICE_AND_DEMAND_201207_NSW1.csv',\n",
       " 'PRICE_AND_DEMAND_201208_NSW1.csv',\n",
       " 'PRICE_AND_DEMAND_201209_NSW1.csv',\n",
       " 'PRICE_AND_DEMAND_201210_NSW1.csv',\n",
       " 'PRICE_AND_DEMAND_201211_NSW1.csv',\n",
       " 'PRICE_AND_DEMAND_201212_NSW1.csv',\n",
       " 'PRICE_AND_DEMAND_201301_NSW1.csv',\n",
       " 'PRICE_AND_DEMAND_201302_NSW1.csv',\n",
       " 'PRICE_AND_DEMAND_201303_NSW1.csv',\n",
       " 'PRICE_AND_DEMAND_201304_NSW1.csv',\n",
       " 'PRICE_AND_DEMAND_201305_NSW1.csv',\n",
       " 'PRICE_AND_DEMAND_201306_NSW1.csv',\n",
       " 'PRICE_AND_DEMAND_201307_NSW1.csv',\n",
       " 'PRICE_AND_DEMAND_201308_NSW1.csv',\n",
       " 'PRICE_AND_DEMAND_201309_NSW1.csv',\n",
       " 'PRICE_AND_DEMAND_201310_NSW1.csv',\n",
       " 'PRICE_AND_DEMAND_201311_NSW1.csv',\n",
       " 'PRICE_AND_DEMAND_201312_NSW1.csv',\n",
       " 'PRICE_AND_DEMAND_201401_NSW1.csv',\n",
       " 'PRICE_AND_DEMAND_201402_NSW1.csv',\n",
       " 'PRICE_AND_DEMAND_201403_NSW1.csv',\n",
       " 'PRICE_AND_DEMAND_201404_NSW1.csv',\n",
       " 'PRICE_AND_DEMAND_201405_NSW1.csv',\n",
       " 'PRICE_AND_DEMAND_201406_NSW1.csv',\n",
       " 'PRICE_AND_DEMAND_201407_NSW1.csv',\n",
       " 'PRICE_AND_DEMAND_201408_NSW1.csv',\n",
       " 'PRICE_AND_DEMAND_201409_NSW1.csv',\n",
       " 'PRICE_AND_DEMAND_201410_NSW1.csv',\n",
       " 'PRICE_AND_DEMAND_201411_NSW1.csv',\n",
       " 'PRICE_AND_DEMAND_201412_NSW1.csv',\n",
       " 'PRICE_AND_DEMAND_201501_NSW1.csv',\n",
       " 'PRICE_AND_DEMAND_201502_NSW1.csv',\n",
       " 'PRICE_AND_DEMAND_201503_NSW1.csv',\n",
       " 'PRICE_AND_DEMAND_201504_NSW1.csv',\n",
       " 'PRICE_AND_DEMAND_201505_NSW1.csv',\n",
       " 'PRICE_AND_DEMAND_201506_NSW1.csv',\n",
       " 'PRICE_AND_DEMAND_201507_NSW1.csv',\n",
       " 'PRICE_AND_DEMAND_201508_NSW1.csv',\n",
       " 'PRICE_AND_DEMAND_201509_NSW1.csv',\n",
       " 'PRICE_AND_DEMAND_201510_NSW1.csv',\n",
       " 'PRICE_AND_DEMAND_201511_NSW1.csv',\n",
       " 'PRICE_AND_DEMAND_201512_NSW1.csv',\n",
       " 'PRICE_AND_DEMAND_201601_NSW1.csv',\n",
       " 'PRICE_AND_DEMAND_201602_NSW1.csv',\n",
       " 'PRICE_AND_DEMAND_201603_NSW1.csv',\n",
       " 'PRICE_AND_DEMAND_201604_NSW1.csv',\n",
       " 'PRICE_AND_DEMAND_201605_NSW1.csv',\n",
       " 'PRICE_AND_DEMAND_201606_NSW1.csv',\n",
       " 'PRICE_AND_DEMAND_201607_NSW1.csv',\n",
       " 'PRICE_AND_DEMAND_201608_NSW1.csv',\n",
       " 'PRICE_AND_DEMAND_201609_NSW1.csv',\n",
       " 'PRICE_AND_DEMAND_201610_NSW1.csv',\n",
       " 'PRICE_AND_DEMAND_201611_NSW1.csv',\n",
       " 'PRICE_AND_DEMAND_201612_NSW1.csv',\n",
       " 'PRICE_AND_DEMAND_201701_NSW1.csv',\n",
       " 'PRICE_AND_DEMAND_201702_NSW1.csv',\n",
       " 'PRICE_AND_DEMAND_201703_NSW1.csv',\n",
       " 'PRICE_AND_DEMAND_201704_NSW1.csv',\n",
       " 'PRICE_AND_DEMAND_201705_NSW1.csv',\n",
       " 'PRICE_AND_DEMAND_201706_NSW1.csv',\n",
       " 'PRICE_AND_DEMAND_201707_NSW1.csv',\n",
       " 'PRICE_AND_DEMAND_201708_NSW1.csv',\n",
       " 'PRICE_AND_DEMAND_201709_NSW1.csv',\n",
       " 'PRICE_AND_DEMAND_201710_NSW1.csv',\n",
       " 'PRICE_AND_DEMAND_201711_NSW1.csv',\n",
       " 'PRICE_AND_DEMAND_201712_NSW1.csv',\n",
       " 'PRICE_AND_DEMAND_201801_NSW1.csv',\n",
       " 'PRICE_AND_DEMAND_201802_NSW1.csv',\n",
       " 'PRICE_AND_DEMAND_201803_NSW1.csv',\n",
       " 'PRICE_AND_DEMAND_201804_NSW1.csv',\n",
       " 'PRICE_AND_DEMAND_201805_NSW1.csv',\n",
       " 'PRICE_AND_DEMAND_201806_NSW1.csv',\n",
       " 'PRICE_AND_DEMAND_201807_NSW1.csv',\n",
       " 'PRICE_AND_DEMAND_201808_NSW1.csv',\n",
       " 'PRICE_AND_DEMAND_201809_NSW1.csv',\n",
       " 'PRICE_AND_DEMAND_201810_NSW1.csv',\n",
       " 'PRICE_AND_DEMAND_201811_NSW1.csv',\n",
       " 'PRICE_AND_DEMAND_201812_NSW1.csv',\n",
       " 'PRICE_AND_DEMAND_201901_NSW1.csv',\n",
       " 'PRICE_AND_DEMAND_201902_NSW1.csv',\n",
       " 'PRICE_AND_DEMAND_201903_NSW1.csv',\n",
       " 'PRICE_AND_DEMAND_201904_NSW1.csv',\n",
       " 'PRICE_AND_DEMAND_201905_NSW1.csv',\n",
       " 'PRICE_AND_DEMAND_201906_NSW1.csv',\n",
       " 'PRICE_AND_DEMAND_201907_NSW1.csv',\n",
       " 'PRICE_AND_DEMAND_201908_NSW1.csv',\n",
       " 'PRICE_AND_DEMAND_201909_NSW1.csv',\n",
       " 'PRICE_AND_DEMAND_201910_NSW1.csv',\n",
       " 'PRICE_AND_DEMAND_201911_NSW1.csv',\n",
       " 'PRICE_AND_DEMAND_201912_NSW1.csv',\n",
       " 'PRICE_AND_DEMAND_202001_NSW1.csv',\n",
       " 'PRICE_AND_DEMAND_202002_NSW1.csv',\n",
       " 'PRICE_AND_DEMAND_202003_NSW1.csv',\n",
       " 'PRICE_AND_DEMAND_202004_NSW1.csv',\n",
       " 'PRICE_AND_DEMAND_202005_NSW1.csv',\n",
       " 'PRICE_AND_DEMAND_202006_NSW1.csv',\n",
       " 'PRICE_AND_DEMAND_202007_NSW1.csv',\n",
       " 'PRICE_AND_DEMAND_202008_NSW1.csv',\n",
       " 'PRICE_AND_DEMAND_202009_NSW1.csv',\n",
       " 'PRICE_AND_DEMAND_202010_NSW1.csv',\n",
       " 'PRICE_AND_DEMAND_202011_NSW1.csv',\n",
       " 'PRICE_AND_DEMAND_202012_NSW1.csv',\n",
       " 'PRICE_AND_DEMAND_202101_NSW1.csv',\n",
       " 'PRICE_AND_DEMAND_202102_NSW1.csv',\n",
       " 'PRICE_AND_DEMAND_202103_NSW1.csv',\n",
       " 'PRICE_AND_DEMAND_202104_NSW1.csv',\n",
       " 'PRICE_AND_DEMAND_202105_NSW1.csv',\n",
       " 'PRICE_AND_DEMAND_202106_NSW1.csv',\n",
       " 'PRICE_AND_DEMAND_202107_NSW1.csv',\n",
       " 'PRICE_AND_DEMAND_202108_NSW1.csv',\n",
       " 'PRICE_AND_DEMAND_202109_NSW1.csv',\n",
       " 'PRICE_AND_DEMAND_202110_NSW1.csv',\n",
       " 'PRICE_AND_DEMAND_202111_NSW1.csv',\n",
       " 'PRICE_AND_DEMAND_202112_NSW1.csv',\n",
       " 'PRICE_AND_DEMAND_202201_NSW1.csv',\n",
       " 'PRICE_AND_DEMAND_202202_NSW1.csv',\n",
       " 'PRICE_AND_DEMAND_202203_NSW1.csv',\n",
       " 'PRICE_AND_DEMAND_202204_NSW1.csv',\n",
       " 'PRICE_AND_DEMAND_202205_NSW1.csv',\n",
       " 'PRICE_AND_DEMAND_202206_NSW1.csv',\n",
       " 'PRICE_AND_DEMAND_202207_NSW1.csv',\n",
       " 'PRICE_AND_DEMAND_202208_NSW1.csv']"
      ]
     },
     "execution_count": 26,
     "metadata": {},
     "output_type": "execute_result"
    }
   ],
   "source": [
    "wd = path + r\"\\Price and Demand - 2010-22\"\n",
    "files = os.listdir(wd)\n",
    "files"
   ]
  },
  {
   "cell_type": "code",
   "execution_count": 27,
   "metadata": {},
   "outputs": [
    {
     "name": "stdout",
     "output_type": "stream",
     "text": [
      "Merged 153 files\n"
     ]
    }
   ],
   "source": [
    "prices = pd.DataFrame([])\n",
    "file_count = 0\n",
    "for file in files:\n",
    "    if file.endswith(\".csv\"):\n",
    "        file_df = pd.read_csv(wd + \"\\\\\" + file)\n",
    "        prices = prices.append(file_df, ignore_index=True)\n",
    "        file_count += 1\n",
    "print(\"Merged\", file_count, \"files\")"
   ]
  },
  {
   "cell_type": "code",
   "execution_count": 28,
   "metadata": {},
   "outputs": [
    {
     "data": {
      "text/html": [
       "<div>\n",
       "<style scoped>\n",
       "    .dataframe tbody tr th:only-of-type {\n",
       "        vertical-align: middle;\n",
       "    }\n",
       "\n",
       "    .dataframe tbody tr th {\n",
       "        vertical-align: top;\n",
       "    }\n",
       "\n",
       "    .dataframe thead th {\n",
       "        text-align: right;\n",
       "    }\n",
       "</style>\n",
       "<table border=\"1\" class=\"dataframe\">\n",
       "  <thead>\n",
       "    <tr style=\"text-align: right;\">\n",
       "      <th></th>\n",
       "      <th>REGION</th>\n",
       "      <th>SETTLEMENTDATE</th>\n",
       "      <th>TOTALDEMAND</th>\n",
       "      <th>RRP</th>\n",
       "      <th>PERIODTYPE</th>\n",
       "    </tr>\n",
       "  </thead>\n",
       "  <tbody>\n",
       "    <tr>\n",
       "      <th>0</th>\n",
       "      <td>NSW1</td>\n",
       "      <td>2010/01/01 00:30:00</td>\n",
       "      <td>7809.31</td>\n",
       "      <td>21.5</td>\n",
       "      <td>TRADE</td>\n",
       "    </tr>\n",
       "    <tr>\n",
       "      <th>1</th>\n",
       "      <td>NSW1</td>\n",
       "      <td>2010/01/01 01:00:00</td>\n",
       "      <td>7483.69</td>\n",
       "      <td>20.98</td>\n",
       "      <td>TRADE</td>\n",
       "    </tr>\n",
       "    <tr>\n",
       "      <th>2</th>\n",
       "      <td>NSW1</td>\n",
       "      <td>2010/01/01 01:30:00</td>\n",
       "      <td>7117.23</td>\n",
       "      <td>20.06</td>\n",
       "      <td>TRADE</td>\n",
       "    </tr>\n",
       "    <tr>\n",
       "      <th>3</th>\n",
       "      <td>NSW1</td>\n",
       "      <td>2010/01/01 02:00:00</td>\n",
       "      <td>6812.03</td>\n",
       "      <td>17.93</td>\n",
       "      <td>TRADE</td>\n",
       "    </tr>\n",
       "    <tr>\n",
       "      <th>4</th>\n",
       "      <td>NSW1</td>\n",
       "      <td>2010/01/01 02:30:00</td>\n",
       "      <td>6544.33</td>\n",
       "      <td>17.43</td>\n",
       "      <td>TRADE</td>\n",
       "    </tr>\n",
       "  </tbody>\n",
       "</table>\n",
       "</div>"
      ],
      "text/plain": [
       "  REGION       SETTLEMENTDATE TOTALDEMAND    RRP PERIODTYPE\n",
       "0   NSW1  2010/01/01 00:30:00     7809.31   21.5      TRADE\n",
       "1   NSW1  2010/01/01 01:00:00     7483.69  20.98      TRADE\n",
       "2   NSW1  2010/01/01 01:30:00     7117.23  20.06      TRADE\n",
       "3   NSW1  2010/01/01 02:00:00     6812.03  17.93      TRADE\n",
       "4   NSW1  2010/01/01 02:30:00     6544.33  17.43      TRADE"
      ]
     },
     "execution_count": 28,
     "metadata": {},
     "output_type": "execute_result"
    }
   ],
   "source": [
    "prices.head()"
   ]
  },
  {
   "cell_type": "code",
   "execution_count": 29,
   "metadata": {},
   "outputs": [
    {
     "data": {
      "text/plain": [
       "array(['2010/01/01 00:30:00', '2010/01/01 01:00:00',\n",
       "       '2010/01/01 01:30:00', ..., '2022/08/31 23:50:00',\n",
       "       '2022/08/31 23:55:00', '2022/09/01 00:00:00'], dtype=object)"
      ]
     },
     "execution_count": 29,
     "metadata": {},
     "output_type": "execute_result"
    }
   ],
   "source": [
    "prices['SETTLEMENTDATE'].unique()"
   ]
  },
  {
   "cell_type": "code",
   "execution_count": 30,
   "metadata": {},
   "outputs": [],
   "source": [
    "prices['SETTLEMENTDATE'] = pd.to_datetime(prices['SETTLEMENTDATE'], errors='coerce', format='%Y-%m-%d %H:%M:%S')"
   ]
  },
  {
   "cell_type": "code",
   "execution_count": 31,
   "metadata": {},
   "outputs": [],
   "source": [
    "# print(min(prices.SETTLEMENTDATE), max(prices.SETTLEMENTDATE))"
   ]
  },
  {
   "cell_type": "code",
   "execution_count": 32,
   "metadata": {},
   "outputs": [
    {
     "data": {
      "text/plain": [
       "REGION                    object\n",
       "SETTLEMENTDATE    datetime64[ns]\n",
       "TOTALDEMAND               object\n",
       "RRP                       object\n",
       "PERIODTYPE                object\n",
       "dtype: object"
      ]
     },
     "execution_count": 32,
     "metadata": {},
     "output_type": "execute_result"
    }
   ],
   "source": [
    "prices.dtypes"
   ]
  },
  {
   "cell_type": "code",
   "execution_count": 33,
   "metadata": {},
   "outputs": [
    {
     "data": {
      "text/plain": [
       "337511"
      ]
     },
     "execution_count": 33,
     "metadata": {},
     "output_type": "execute_result"
    }
   ],
   "source": [
    "len(prices)"
   ]
  },
  {
   "cell_type": "code",
   "execution_count": 34,
   "metadata": {},
   "outputs": [
    {
     "data": {
      "text/plain": [
       "REGION             0\n",
       "SETTLEMENTDATE    23\n",
       "TOTALDEMAND        0\n",
       "RRP                0\n",
       "PERIODTYPE         0\n",
       "dtype: int64"
      ]
     },
     "execution_count": 34,
     "metadata": {},
     "output_type": "execute_result"
    }
   ],
   "source": [
    "prices.isna().sum()"
   ]
  },
  {
   "cell_type": "code",
   "execution_count": 35,
   "metadata": {},
   "outputs": [
    {
     "data": {
      "text/plain": [
       "array(['TRADE', 'PERIODTYPE'], dtype=object)"
      ]
     },
     "execution_count": 35,
     "metadata": {},
     "output_type": "execute_result"
    }
   ],
   "source": [
    "prices.PERIODTYPE.unique()"
   ]
  },
  {
   "cell_type": "markdown",
   "metadata": {},
   "source": [
    "#### Calculated Columns"
   ]
  },
  {
   "cell_type": "code",
   "execution_count": 36,
   "metadata": {},
   "outputs": [],
   "source": [
    "totalDemand[\"DATE\"] = totalDemand[\"DATETIME\"].dt.date\n",
    "forecastDemand[\"DATE\"] = forecastDemand[\"DATETIME\"].dt.date\n",
    "temperature[\"DATE\"] = temperature[\"DATETIME\"].dt.date\n",
    "prices[\"DATE\"] = prices[\"SETTLEMENTDATE\"].dt.date"
   ]
  },
  {
   "cell_type": "markdown",
   "metadata": {},
   "source": [
    "#### Remove redundant columns"
   ]
  },
  {
   "cell_type": "code",
   "execution_count": 37,
   "metadata": {},
   "outputs": [],
   "source": [
    "totalDemand = totalDemand.drop(columns=[\"REGIONID\"])\n",
    "forecastDemand = forecastDemand.drop(columns=[\"REGIONID\"])\n",
    "temperature = temperature.drop(columns=[\"LOCATION\"])\n",
    "prices = prices.drop(columns=[\"REGION\",\"PERIODTYPE\"])"
   ]
  },
  {
   "cell_type": "markdown",
   "metadata": {},
   "source": [
    "#### Merge Datasets\n",
    "\n",
    "Need to look at aggregating datasets on DATE\n",
    "* totalDemand: aggregate every X number of hours (DATETIME), each aggregate as a column (e.g. 00-06, 06-12, 12-18, 18-00)\n",
    "* forecastDemand: aggregate every X number of hours (LAST CHANGED), each aggregate as a column (see above)\n",
    "* temperature: aggregate every X number of hours (DATETIME), each aggregate as a column (see above)\n",
    "* prices: aggregate every X number of hours (SETTLEMENTDATE), each aggregate as a column (see above)"
   ]
  },
  {
   "cell_type": "code",
   "execution_count": 38,
   "metadata": {},
   "outputs": [],
   "source": [
    "# df = forecastDemand.merge(temperature, on='DATE')\n",
    "# df = df.merge(totalDemand, on='DATE')\n",
    "# df = df.merge(prices, on=\"DATE\")\n",
    "# df"
   ]
  },
  {
   "cell_type": "code",
   "execution_count": null,
   "metadata": {},
   "outputs": [],
   "source": []
  }
 ],
 "metadata": {
  "kernelspec": {
   "display_name": "Python 3",
   "language": "python",
   "name": "python3"
  },
  "language_info": {
   "codemirror_mode": {
    "name": "ipython",
    "version": 3
   },
   "file_extension": ".py",
   "mimetype": "text/x-python",
   "name": "python",
   "nbconvert_exporter": "python",
   "pygments_lexer": "ipython3",
   "version": "3.7.3"
  }
 },
 "nbformat": 4,
 "nbformat_minor": 2
}

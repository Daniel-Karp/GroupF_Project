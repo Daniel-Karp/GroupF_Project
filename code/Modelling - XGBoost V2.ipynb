{
 "cells": [
  {
   "attachments": {},
   "cell_type": "markdown",
   "metadata": {},
   "source": [
    "## Contents\n",
    "* read data\n",
    "* drop redeundant columns\n",
    "* one-hot encoding\n",
    "* sliding window method\n",
    "* identify response variable and predictors\n",
    "* split into training and testing datasets\n",
    "* data normalisation of training datasets\n",
    "* define the model\n",
    "* choose hyperparameters to tune\n",
    "* identify the best hyperparameters using gridsearch\n",
    "* make predictions based on these hyperparameters\n",
    "* assess model performance "
   ]
  },
  {
   "cell_type": "code",
   "execution_count": 1,
   "metadata": {},
   "outputs": [],
   "source": [
    "import os\n",
    "import pandas as pd\n",
    "import numpy as np\n",
    "import xgboost as xgb\n",
    "from sklearn.metrics import mean_absolute_error, mean_squared_error, r2_score, accuracy_score\n",
    "from sklearn.model_selection import train_test_split, GridSearchCV\n",
    "from sklearn.preprocessing import MinMaxScaler, OneHotEncoder\n",
    "import warnings\n",
    "warnings.filterwarnings(\"ignore\")"
   ]
  },
  {
   "cell_type": "code",
   "execution_count": 2,
   "metadata": {},
   "outputs": [],
   "source": [
    "base_dir = os.path.dirname(os.path.abspath(\"..\\data\"))\n",
    "path = os.path.join(base_dir, r\"data\")\n",
    "os.chdir(path) "
   ]
  },
  {
   "cell_type": "code",
   "execution_count": 3,
   "metadata": {},
   "outputs": [],
   "source": [
    "data = pd.read_csv(\"Cleaned data\\data.csv\")"
   ]
  },
  {
   "cell_type": "code",
   "execution_count": 4,
   "metadata": {},
   "outputs": [
    {
     "data": {
      "text/html": [
       "<div>\n",
       "<style scoped>\n",
       "    .dataframe tbody tr th:only-of-type {\n",
       "        vertical-align: middle;\n",
       "    }\n",
       "\n",
       "    .dataframe tbody tr th {\n",
       "        vertical-align: top;\n",
       "    }\n",
       "\n",
       "    .dataframe thead th {\n",
       "        text-align: right;\n",
       "    }\n",
       "</style>\n",
       "<table border=\"1\" class=\"dataframe\">\n",
       "  <thead>\n",
       "    <tr style=\"text-align: right;\">\n",
       "      <th></th>\n",
       "      <th>YEAR</th>\n",
       "      <th>MONTH</th>\n",
       "      <th>DAY</th>\n",
       "      <th>HUMIDITY</th>\n",
       "      <th>WINDSPEED</th>\n",
       "      <th>TOTALDEMAND</th>\n",
       "      <th>HOLIDAY</th>\n",
       "      <th>SOLAR</th>\n",
       "      <th>RRP</th>\n",
       "      <th>OUTPUT</th>\n",
       "      <th>WEEKDAY</th>\n",
       "      <th>TEMPAVE</th>\n",
       "    </tr>\n",
       "  </thead>\n",
       "  <tbody>\n",
       "    <tr>\n",
       "      <th>0</th>\n",
       "      <td>2016</td>\n",
       "      <td>1</td>\n",
       "      <td>1</td>\n",
       "      <td>0.656341</td>\n",
       "      <td>15.902439</td>\n",
       "      <td>6853.633437</td>\n",
       "      <td>2.0</td>\n",
       "      <td>32.2</td>\n",
       "      <td>38.472917</td>\n",
       "      <td>46.93</td>\n",
       "      <td>4</td>\n",
       "      <td>21.95</td>\n",
       "    </tr>\n",
       "    <tr>\n",
       "      <th>1</th>\n",
       "      <td>2016</td>\n",
       "      <td>1</td>\n",
       "      <td>2</td>\n",
       "      <td>0.656341</td>\n",
       "      <td>15.902439</td>\n",
       "      <td>6727.613958</td>\n",
       "      <td>0.0</td>\n",
       "      <td>21.7</td>\n",
       "      <td>36.907292</td>\n",
       "      <td>46.93</td>\n",
       "      <td>5</td>\n",
       "      <td>21.00</td>\n",
       "    </tr>\n",
       "    <tr>\n",
       "      <th>2</th>\n",
       "      <td>2016</td>\n",
       "      <td>1</td>\n",
       "      <td>3</td>\n",
       "      <td>0.688837</td>\n",
       "      <td>14.488372</td>\n",
       "      <td>6616.406076</td>\n",
       "      <td>0.0</td>\n",
       "      <td>10.3</td>\n",
       "      <td>31.997083</td>\n",
       "      <td>46.93</td>\n",
       "      <td>6</td>\n",
       "      <td>21.55</td>\n",
       "    </tr>\n",
       "    <tr>\n",
       "      <th>3</th>\n",
       "      <td>2016</td>\n",
       "      <td>1</td>\n",
       "      <td>4</td>\n",
       "      <td>0.679545</td>\n",
       "      <td>22.477273</td>\n",
       "      <td>7367.750278</td>\n",
       "      <td>0.0</td>\n",
       "      <td>6.4</td>\n",
       "      <td>33.424583</td>\n",
       "      <td>46.93</td>\n",
       "      <td>0</td>\n",
       "      <td>20.90</td>\n",
       "    </tr>\n",
       "    <tr>\n",
       "      <th>4</th>\n",
       "      <td>2016</td>\n",
       "      <td>1</td>\n",
       "      <td>5</td>\n",
       "      <td>0.768837</td>\n",
       "      <td>22.581395</td>\n",
       "      <td>7462.242014</td>\n",
       "      <td>0.0</td>\n",
       "      <td>4.4</td>\n",
       "      <td>33.053958</td>\n",
       "      <td>46.93</td>\n",
       "      <td>1</td>\n",
       "      <td>19.05</td>\n",
       "    </tr>\n",
       "  </tbody>\n",
       "</table>\n",
       "</div>"
      ],
      "text/plain": [
       "   YEAR  MONTH  DAY  HUMIDITY  WINDSPEED  TOTALDEMAND  HOLIDAY  SOLAR  \\\n",
       "0  2016      1    1  0.656341  15.902439  6853.633437      2.0   32.2   \n",
       "1  2016      1    2  0.656341  15.902439  6727.613958      0.0   21.7   \n",
       "2  2016      1    3  0.688837  14.488372  6616.406076      0.0   10.3   \n",
       "3  2016      1    4  0.679545  22.477273  7367.750278      0.0    6.4   \n",
       "4  2016      1    5  0.768837  22.581395  7462.242014      0.0    4.4   \n",
       "\n",
       "         RRP  OUTPUT  WEEKDAY  TEMPAVE  \n",
       "0  38.472917   46.93        4    21.95  \n",
       "1  36.907292   46.93        5    21.00  \n",
       "2  31.997083   46.93        6    21.55  \n",
       "3  33.424583   46.93        0    20.90  \n",
       "4  33.053958   46.93        1    19.05  "
      ]
     },
     "execution_count": 4,
     "metadata": {},
     "output_type": "execute_result"
    }
   ],
   "source": [
    "# drop columns\n",
    "df = data.drop(columns=[\n",
    "    \"DATE\",\"MONTHDATE\",\"FORECASTDEMAND\",\"MIN\",\"ACCMIN\",\"MAX\",\"ACCMAX\",\"RAINPERIOD\",\"QUANTITY\",\"QUANTITYMONTHCUM\",\"QUANTITYTOTALCUM\",\"HUMIDITYMIN\",\"HUMIDITYMAX\", \"RAIN\", \"WEEKEND\"\n",
    "], errors=\"ignore\")\n",
    "df.head()"
   ]
  },
  {
   "cell_type": "code",
   "execution_count": 5,
   "metadata": {},
   "outputs": [
    {
     "data": {
      "text/html": [
       "<div>\n",
       "<style scoped>\n",
       "    .dataframe tbody tr th:only-of-type {\n",
       "        vertical-align: middle;\n",
       "    }\n",
       "\n",
       "    .dataframe tbody tr th {\n",
       "        vertical-align: top;\n",
       "    }\n",
       "\n",
       "    .dataframe thead th {\n",
       "        text-align: right;\n",
       "    }\n",
       "</style>\n",
       "<table border=\"1\" class=\"dataframe\">\n",
       "  <thead>\n",
       "    <tr style=\"text-align: right;\">\n",
       "      <th></th>\n",
       "      <th>YEAR</th>\n",
       "      <th>MONTH</th>\n",
       "      <th>DAY</th>\n",
       "      <th>HUMIDITY</th>\n",
       "      <th>WINDSPEED</th>\n",
       "      <th>TOTALDEMAND</th>\n",
       "      <th>HOLIDAY</th>\n",
       "      <th>SOLAR</th>\n",
       "      <th>RRP</th>\n",
       "      <th>OUTPUT</th>\n",
       "      <th>TEMPAVE</th>\n",
       "      <th>MON</th>\n",
       "      <th>TUE</th>\n",
       "      <th>WED</th>\n",
       "      <th>THU</th>\n",
       "      <th>FRI</th>\n",
       "      <th>SAT</th>\n",
       "      <th>SUN</th>\n",
       "    </tr>\n",
       "  </thead>\n",
       "  <tbody>\n",
       "    <tr>\n",
       "      <th>0</th>\n",
       "      <td>2016</td>\n",
       "      <td>1</td>\n",
       "      <td>1</td>\n",
       "      <td>0.656341</td>\n",
       "      <td>15.902439</td>\n",
       "      <td>6853.633437</td>\n",
       "      <td>2.0</td>\n",
       "      <td>32.2</td>\n",
       "      <td>38.472917</td>\n",
       "      <td>46.93</td>\n",
       "      <td>21.95</td>\n",
       "      <td>0.0</td>\n",
       "      <td>0.0</td>\n",
       "      <td>0.0</td>\n",
       "      <td>0.0</td>\n",
       "      <td>1.0</td>\n",
       "      <td>0.0</td>\n",
       "      <td>0.0</td>\n",
       "    </tr>\n",
       "    <tr>\n",
       "      <th>1</th>\n",
       "      <td>2016</td>\n",
       "      <td>1</td>\n",
       "      <td>2</td>\n",
       "      <td>0.656341</td>\n",
       "      <td>15.902439</td>\n",
       "      <td>6727.613958</td>\n",
       "      <td>0.0</td>\n",
       "      <td>21.7</td>\n",
       "      <td>36.907292</td>\n",
       "      <td>46.93</td>\n",
       "      <td>21.00</td>\n",
       "      <td>0.0</td>\n",
       "      <td>0.0</td>\n",
       "      <td>0.0</td>\n",
       "      <td>0.0</td>\n",
       "      <td>0.0</td>\n",
       "      <td>1.0</td>\n",
       "      <td>0.0</td>\n",
       "    </tr>\n",
       "    <tr>\n",
       "      <th>2</th>\n",
       "      <td>2016</td>\n",
       "      <td>1</td>\n",
       "      <td>3</td>\n",
       "      <td>0.688837</td>\n",
       "      <td>14.488372</td>\n",
       "      <td>6616.406076</td>\n",
       "      <td>0.0</td>\n",
       "      <td>10.3</td>\n",
       "      <td>31.997083</td>\n",
       "      <td>46.93</td>\n",
       "      <td>21.55</td>\n",
       "      <td>0.0</td>\n",
       "      <td>0.0</td>\n",
       "      <td>0.0</td>\n",
       "      <td>0.0</td>\n",
       "      <td>0.0</td>\n",
       "      <td>0.0</td>\n",
       "      <td>1.0</td>\n",
       "    </tr>\n",
       "    <tr>\n",
       "      <th>3</th>\n",
       "      <td>2016</td>\n",
       "      <td>1</td>\n",
       "      <td>4</td>\n",
       "      <td>0.679545</td>\n",
       "      <td>22.477273</td>\n",
       "      <td>7367.750278</td>\n",
       "      <td>0.0</td>\n",
       "      <td>6.4</td>\n",
       "      <td>33.424583</td>\n",
       "      <td>46.93</td>\n",
       "      <td>20.90</td>\n",
       "      <td>1.0</td>\n",
       "      <td>0.0</td>\n",
       "      <td>0.0</td>\n",
       "      <td>0.0</td>\n",
       "      <td>0.0</td>\n",
       "      <td>0.0</td>\n",
       "      <td>0.0</td>\n",
       "    </tr>\n",
       "    <tr>\n",
       "      <th>4</th>\n",
       "      <td>2016</td>\n",
       "      <td>1</td>\n",
       "      <td>5</td>\n",
       "      <td>0.768837</td>\n",
       "      <td>22.581395</td>\n",
       "      <td>7462.242014</td>\n",
       "      <td>0.0</td>\n",
       "      <td>4.4</td>\n",
       "      <td>33.053958</td>\n",
       "      <td>46.93</td>\n",
       "      <td>19.05</td>\n",
       "      <td>0.0</td>\n",
       "      <td>1.0</td>\n",
       "      <td>0.0</td>\n",
       "      <td>0.0</td>\n",
       "      <td>0.0</td>\n",
       "      <td>0.0</td>\n",
       "      <td>0.0</td>\n",
       "    </tr>\n",
       "  </tbody>\n",
       "</table>\n",
       "</div>"
      ],
      "text/plain": [
       "   YEAR  MONTH  DAY  HUMIDITY  WINDSPEED  TOTALDEMAND  HOLIDAY  SOLAR  \\\n",
       "0  2016      1    1  0.656341  15.902439  6853.633437      2.0   32.2   \n",
       "1  2016      1    2  0.656341  15.902439  6727.613958      0.0   21.7   \n",
       "2  2016      1    3  0.688837  14.488372  6616.406076      0.0   10.3   \n",
       "3  2016      1    4  0.679545  22.477273  7367.750278      0.0    6.4   \n",
       "4  2016      1    5  0.768837  22.581395  7462.242014      0.0    4.4   \n",
       "\n",
       "         RRP  OUTPUT  TEMPAVE  MON  TUE  WED  THU  FRI  SAT  SUN  \n",
       "0  38.472917   46.93    21.95  0.0  0.0  0.0  0.0  1.0  0.0  0.0  \n",
       "1  36.907292   46.93    21.00  0.0  0.0  0.0  0.0  0.0  1.0  0.0  \n",
       "2  31.997083   46.93    21.55  0.0  0.0  0.0  0.0  0.0  0.0  1.0  \n",
       "3  33.424583   46.93    20.90  1.0  0.0  0.0  0.0  0.0  0.0  0.0  \n",
       "4  33.053958   46.93    19.05  0.0  1.0  0.0  0.0  0.0  0.0  0.0  "
      ]
     },
     "execution_count": 5,
     "metadata": {},
     "output_type": "execute_result"
    }
   ],
   "source": [
    "#one hot encoding weekday\n",
    "def one_hot_encode(df, col, names):\n",
    "    array = np.array(df[col])\n",
    "    integer_encoded = array.reshape(len(array), 1)\n",
    "    onehotencoder = OneHotEncoder()\n",
    "    onehot_encoded = onehotencoder.fit_transform(integer_encoded).toarray()\n",
    "    df_encoded = pd.DataFrame(onehot_encoded, columns=names)\n",
    "    df = pd.concat([df, df_encoded], axis=1)\n",
    "    df = df.drop(columns=[col], errors=\"ignore\")\n",
    "    return df\n",
    "\n",
    "df = one_hot_encode(df, col=\"WEEKDAY\", names=['MON', 'TUE', 'WED', 'THU', 'FRI', 'SAT', 'SUN'])\n",
    "df.head()"
   ]
  },
  {
   "cell_type": "code",
   "execution_count": 6,
   "metadata": {},
   "outputs": [],
   "source": [
    "# Define a function to create the sliding window dataset\n",
    "def create_sliding_window(data, window_size, step_size, target):\n",
    "    X = []\n",
    "    y = []\n",
    "    for i in range(window_size, len(data)):\n",
    "        X_window = []\n",
    "        for j in range(0, window_size, step_size):\n",
    "            X_window.append(data.iloc[i-j-1, 1:])\n",
    "        X.append(np.concatenate(X_window, axis=0))\n",
    "        y.append(data.iloc[i, 1:])\n",
    "    y2 = [vals[4] for vals in y]\n",
    "    return np.array(X), np.array(y2)"
   ]
  },
  {
   "cell_type": "code",
   "execution_count": 7,
   "metadata": {},
   "outputs": [],
   "source": [
    "# Define the window size and step size\n",
    "target = \"TOTALDEMAND\"\n",
    "window_size = 1   # 1 day ahead\n",
    "step_size = 1     # move the window by 1 day at a time\n",
    "\n",
    "# Apply the sliding window method to the training and validation sets\n",
    "X, y = create_sliding_window(df, window_size, step_size, target)"
   ]
  },
  {
   "cell_type": "code",
   "execution_count": 8,
   "metadata": {},
   "outputs": [],
   "source": [
    "# train test split - use last year to train\n",
    "train_year = 2022\n",
    "train_len = len(df[df[\"YEAR\"]<2022])\n",
    "X_train, X_test = X[:train_len], X[train_len:]\n",
    "y_train, y_test = y[:train_len], y[train_len:]"
   ]
  },
  {
   "cell_type": "code",
   "execution_count": 9,
   "metadata": {},
   "outputs": [],
   "source": [
    "# define scaler and transform data\n",
    "scaler = MinMaxScaler()\n",
    "X_train = pd.DataFrame(scaler.fit_transform(X_train))\n",
    "X_test = pd.DataFrame(scaler.fit_transform(X_test))"
   ]
  },
  {
   "cell_type": "code",
   "execution_count": 10,
   "metadata": {},
   "outputs": [],
   "source": [
    "# Define the XGBoost model\n",
    "model = xgb.XGBRegressor()"
   ]
  },
  {
   "cell_type": "code",
   "execution_count": 11,
   "metadata": {},
   "outputs": [],
   "source": [
    "# hyperparameters\n",
    "params = {\n",
    "    'max_depth': [1, 2, 3, 4, 5],\n",
    "    'learning_rate': [0.2, 0.1, 0.05, 0.01],\n",
    "    'n_estimators': [130, 150, 170, 180, 200, 220]\n",
    "}"
   ]
  },
  {
   "cell_type": "code",
   "execution_count": 12,
   "metadata": {},
   "outputs": [
    {
     "data": {
      "text/plain": [
       "GridSearchCV(cv=5,\n",
       "             estimator=XGBRegressor(base_score=None, booster=None,\n",
       "                                    callbacks=None, colsample_bylevel=None,\n",
       "                                    colsample_bynode=None,\n",
       "                                    colsample_bytree=None,\n",
       "                                    early_stopping_rounds=None,\n",
       "                                    enable_categorical=False, eval_metric=None,\n",
       "                                    gamma=None, gpu_id=None, grow_policy=None,\n",
       "                                    importance_type=None,\n",
       "                                    interaction_constraints=None,\n",
       "                                    learning_rate=None, max_bin=None,\n",
       "                                    max_cat...lta_step=None,\n",
       "                                    max_depth=None, max_leaves=None,\n",
       "                                    min_child_weight=None, missing=nan,\n",
       "                                    monotone_constraints=None, n_estimators=100,\n",
       "                                    n_jobs=None, num_parallel_tree=None,\n",
       "                                    predictor=None, random_state=None,\n",
       "                                    reg_alpha=None, reg_lambda=None, ...),\n",
       "             n_jobs=-1,\n",
       "             param_grid={'learning_rate': [0.2, 0.1, 0.05, 0.01],\n",
       "                         'max_depth': [1, 2, 3, 4, 5],\n",
       "                         'n_estimators': [130, 150, 170, 180, 200, 220]})"
      ]
     },
     "execution_count": 12,
     "metadata": {},
     "output_type": "execute_result"
    }
   ],
   "source": [
    "# identify best hyperparameters using gridsearch\n",
    "grid = GridSearchCV(model, params, cv=5, n_jobs=-1)\n",
    "grid.fit(X_train, y_train) "
   ]
  },
  {
   "cell_type": "code",
   "execution_count": 13,
   "metadata": {},
   "outputs": [
    {
     "name": "stdout",
     "output_type": "stream",
     "text": [
      "------ All Results ------- \n",
      "   0.795 (+/-0.035) for {'learning_rate': 0.2, 'max_depth': 1, 'n_estimators': 130}\n",
      "   0.797 (+/-0.035) for {'learning_rate': 0.2, 'max_depth': 1, 'n_estimators': 150}\n",
      "   0.797 (+/-0.033) for {'learning_rate': 0.2, 'max_depth': 1, 'n_estimators': 170}\n",
      "   0.797 (+/-0.033) for {'learning_rate': 0.2, 'max_depth': 1, 'n_estimators': 180}\n",
      "   0.797 (+/-0.032) for {'learning_rate': 0.2, 'max_depth': 1, 'n_estimators': 200}\n",
      "   0.798 (+/-0.033) for {'learning_rate': 0.2, 'max_depth': 1, 'n_estimators': 220}\n",
      "   0.789 (+/-0.054) for {'learning_rate': 0.2, 'max_depth': 2, 'n_estimators': 130}\n",
      "   0.786 (+/-0.056) for {'learning_rate': 0.2, 'max_depth': 2, 'n_estimators': 150}\n",
      "   0.785 (+/-0.059) for {'learning_rate': 0.2, 'max_depth': 2, 'n_estimators': 170}\n",
      "   0.784 (+/-0.060) for {'learning_rate': 0.2, 'max_depth': 2, 'n_estimators': 180}\n",
      "   0.783 (+/-0.063) for {'learning_rate': 0.2, 'max_depth': 2, 'n_estimators': 200}\n",
      "   0.782 (+/-0.063) for {'learning_rate': 0.2, 'max_depth': 2, 'n_estimators': 220}\n",
      "   0.789 (+/-0.046) for {'learning_rate': 0.2, 'max_depth': 3, 'n_estimators': 130}\n",
      "   0.787 (+/-0.049) for {'learning_rate': 0.2, 'max_depth': 3, 'n_estimators': 150}\n",
      "   0.785 (+/-0.049) for {'learning_rate': 0.2, 'max_depth': 3, 'n_estimators': 170}\n",
      "   0.785 (+/-0.049) for {'learning_rate': 0.2, 'max_depth': 3, 'n_estimators': 180}\n",
      "   0.783 (+/-0.052) for {'learning_rate': 0.2, 'max_depth': 3, 'n_estimators': 200}\n",
      "   0.780 (+/-0.056) for {'learning_rate': 0.2, 'max_depth': 3, 'n_estimators': 220}\n",
      "   0.781 (+/-0.057) for {'learning_rate': 0.2, 'max_depth': 4, 'n_estimators': 130}\n",
      "   0.780 (+/-0.058) for {'learning_rate': 0.2, 'max_depth': 4, 'n_estimators': 150}\n",
      "   0.778 (+/-0.060) for {'learning_rate': 0.2, 'max_depth': 4, 'n_estimators': 170}\n",
      "   0.777 (+/-0.062) for {'learning_rate': 0.2, 'max_depth': 4, 'n_estimators': 180}\n",
      "   0.775 (+/-0.062) for {'learning_rate': 0.2, 'max_depth': 4, 'n_estimators': 200}\n",
      "   0.775 (+/-0.063) for {'learning_rate': 0.2, 'max_depth': 4, 'n_estimators': 220}\n",
      "   0.786 (+/-0.047) for {'learning_rate': 0.2, 'max_depth': 5, 'n_estimators': 130}\n",
      "   0.784 (+/-0.047) for {'learning_rate': 0.2, 'max_depth': 5, 'n_estimators': 150}\n",
      "   0.783 (+/-0.048) for {'learning_rate': 0.2, 'max_depth': 5, 'n_estimators': 170}\n",
      "   0.783 (+/-0.048) for {'learning_rate': 0.2, 'max_depth': 5, 'n_estimators': 180}\n",
      "   0.782 (+/-0.048) for {'learning_rate': 0.2, 'max_depth': 5, 'n_estimators': 200}\n",
      "   0.781 (+/-0.049) for {'learning_rate': 0.2, 'max_depth': 5, 'n_estimators': 220}\n",
      "   0.769 (+/-0.033) for {'learning_rate': 0.1, 'max_depth': 1, 'n_estimators': 130}\n",
      "   0.776 (+/-0.032) for {'learning_rate': 0.1, 'max_depth': 1, 'n_estimators': 150}\n",
      "   0.782 (+/-0.031) for {'learning_rate': 0.1, 'max_depth': 1, 'n_estimators': 170}\n",
      "   0.784 (+/-0.032) for {'learning_rate': 0.1, 'max_depth': 1, 'n_estimators': 180}\n",
      "   0.788 (+/-0.031) for {'learning_rate': 0.1, 'max_depth': 1, 'n_estimators': 200}\n",
      "   0.792 (+/-0.033) for {'learning_rate': 0.1, 'max_depth': 1, 'n_estimators': 220}\n",
      "   0.794 (+/-0.041) for {'learning_rate': 0.1, 'max_depth': 2, 'n_estimators': 130}\n",
      "   0.795 (+/-0.042) for {'learning_rate': 0.1, 'max_depth': 2, 'n_estimators': 150}\n",
      "   0.794 (+/-0.044) for {'learning_rate': 0.1, 'max_depth': 2, 'n_estimators': 170}\n",
      "   0.793 (+/-0.046) for {'learning_rate': 0.1, 'max_depth': 2, 'n_estimators': 180}\n",
      "   0.793 (+/-0.047) for {'learning_rate': 0.1, 'max_depth': 2, 'n_estimators': 200}\n",
      "   0.792 (+/-0.048) for {'learning_rate': 0.1, 'max_depth': 2, 'n_estimators': 220}\n",
      "   0.796 (+/-0.042) for {'learning_rate': 0.1, 'max_depth': 3, 'n_estimators': 130}\n",
      "   0.796 (+/-0.042) for {'learning_rate': 0.1, 'max_depth': 3, 'n_estimators': 150}\n",
      "   0.795 (+/-0.043) for {'learning_rate': 0.1, 'max_depth': 3, 'n_estimators': 170}\n",
      "   0.794 (+/-0.044) for {'learning_rate': 0.1, 'max_depth': 3, 'n_estimators': 180}\n",
      "   0.793 (+/-0.046) for {'learning_rate': 0.1, 'max_depth': 3, 'n_estimators': 200}\n",
      "   0.793 (+/-0.047) for {'learning_rate': 0.1, 'max_depth': 3, 'n_estimators': 220}\n",
      "   0.798 (+/-0.040) for {'learning_rate': 0.1, 'max_depth': 4, 'n_estimators': 130}\n",
      "   0.797 (+/-0.041) for {'learning_rate': 0.1, 'max_depth': 4, 'n_estimators': 150}\n",
      "   0.797 (+/-0.043) for {'learning_rate': 0.1, 'max_depth': 4, 'n_estimators': 170}\n",
      "   0.796 (+/-0.045) for {'learning_rate': 0.1, 'max_depth': 4, 'n_estimators': 180}\n",
      "   0.795 (+/-0.046) for {'learning_rate': 0.1, 'max_depth': 4, 'n_estimators': 200}\n",
      "   0.793 (+/-0.047) for {'learning_rate': 0.1, 'max_depth': 4, 'n_estimators': 220}\n",
      "   0.796 (+/-0.042) for {'learning_rate': 0.1, 'max_depth': 5, 'n_estimators': 130}\n",
      "   0.795 (+/-0.043) for {'learning_rate': 0.1, 'max_depth': 5, 'n_estimators': 150}\n",
      "   0.793 (+/-0.045) for {'learning_rate': 0.1, 'max_depth': 5, 'n_estimators': 170}\n",
      "   0.792 (+/-0.046) for {'learning_rate': 0.1, 'max_depth': 5, 'n_estimators': 180}\n",
      "   0.790 (+/-0.048) for {'learning_rate': 0.1, 'max_depth': 5, 'n_estimators': 200}\n",
      "   0.790 (+/-0.050) for {'learning_rate': 0.1, 'max_depth': 5, 'n_estimators': 220}\n",
      "   0.710 (+/-0.042) for {'learning_rate': 0.05, 'max_depth': 1, 'n_estimators': 130}\n",
      "   0.727 (+/-0.037) for {'learning_rate': 0.05, 'max_depth': 1, 'n_estimators': 150}\n",
      "   0.739 (+/-0.035) for {'learning_rate': 0.05, 'max_depth': 1, 'n_estimators': 170}\n",
      "   0.745 (+/-0.034) for {'learning_rate': 0.05, 'max_depth': 1, 'n_estimators': 180}\n",
      "   0.754 (+/-0.033) for {'learning_rate': 0.05, 'max_depth': 1, 'n_estimators': 200}\n",
      "   0.759 (+/-0.033) for {'learning_rate': 0.05, 'max_depth': 1, 'n_estimators': 220}\n",
      "   0.777 (+/-0.037) for {'learning_rate': 0.05, 'max_depth': 2, 'n_estimators': 130}\n",
      "   0.783 (+/-0.036) for {'learning_rate': 0.05, 'max_depth': 2, 'n_estimators': 150}\n",
      "   0.787 (+/-0.036) for {'learning_rate': 0.05, 'max_depth': 2, 'n_estimators': 170}\n",
      "   0.788 (+/-0.036) for {'learning_rate': 0.05, 'max_depth': 2, 'n_estimators': 180}\n",
      "   0.791 (+/-0.037) for {'learning_rate': 0.05, 'max_depth': 2, 'n_estimators': 200}\n",
      "   0.793 (+/-0.037) for {'learning_rate': 0.05, 'max_depth': 2, 'n_estimators': 220}\n",
      "   0.795 (+/-0.041) for {'learning_rate': 0.05, 'max_depth': 3, 'n_estimators': 130}\n",
      "   0.797 (+/-0.038) for {'learning_rate': 0.05, 'max_depth': 3, 'n_estimators': 150}\n",
      "   0.797 (+/-0.038) for {'learning_rate': 0.05, 'max_depth': 3, 'n_estimators': 170}\n",
      "   0.797 (+/-0.038) for {'learning_rate': 0.05, 'max_depth': 3, 'n_estimators': 180}\n",
      "   0.797 (+/-0.039) for {'learning_rate': 0.05, 'max_depth': 3, 'n_estimators': 200}\n",
      "   0.796 (+/-0.039) for {'learning_rate': 0.05, 'max_depth': 3, 'n_estimators': 220}\n",
      "   0.802 (+/-0.038) for {'learning_rate': 0.05, 'max_depth': 4, 'n_estimators': 130}\n",
      "   0.803 (+/-0.035) for {'learning_rate': 0.05, 'max_depth': 4, 'n_estimators': 150}\n",
      "   0.802 (+/-0.035) for {'learning_rate': 0.05, 'max_depth': 4, 'n_estimators': 170}\n",
      "   0.802 (+/-0.036) for {'learning_rate': 0.05, 'max_depth': 4, 'n_estimators': 180}\n",
      "   0.802 (+/-0.036) for {'learning_rate': 0.05, 'max_depth': 4, 'n_estimators': 200}\n",
      "   0.801 (+/-0.036) for {'learning_rate': 0.05, 'max_depth': 4, 'n_estimators': 220}\n",
      "   0.804 (+/-0.038) for {'learning_rate': 0.05, 'max_depth': 5, 'n_estimators': 130}\n",
      "   0.804 (+/-0.036) for {'learning_rate': 0.05, 'max_depth': 5, 'n_estimators': 150}\n",
      "   0.804 (+/-0.036) for {'learning_rate': 0.05, 'max_depth': 5, 'n_estimators': 170}\n",
      "   0.803 (+/-0.036) for {'learning_rate': 0.05, 'max_depth': 5, 'n_estimators': 180}\n",
      "   0.802 (+/-0.037) for {'learning_rate': 0.05, 'max_depth': 5, 'n_estimators': 200}\n",
      "   0.802 (+/-0.037) for {'learning_rate': 0.05, 'max_depth': 5, 'n_estimators': 220}\n",
      "   -8.723 (+/-4.239) for {'learning_rate': 0.01, 'max_depth': 1, 'n_estimators': 130}\n",
      "   -5.662 (+/-3.099) for {'learning_rate': 0.01, 'max_depth': 1, 'n_estimators': 150}\n",
      "   -3.614 (+/-2.291) for {'learning_rate': 0.01, 'max_depth': 1, 'n_estimators': 170}\n",
      "   -2.859 (+/-1.974) for {'learning_rate': 0.01, 'max_depth': 1, 'n_estimators': 180}\n",
      "   -1.733 (+/-1.478) for {'learning_rate': 0.01, 'max_depth': 1, 'n_estimators': 200}\n",
      "   -0.975 (+/-1.115) for {'learning_rate': 0.01, 'max_depth': 1, 'n_estimators': 220}\n",
      "   -8.588 (+/-3.995) for {'learning_rate': 0.01, 'max_depth': 2, 'n_estimators': 130}\n",
      "   -5.526 (+/-2.856) for {'learning_rate': 0.01, 'max_depth': 2, 'n_estimators': 150}\n",
      "   -3.476 (+/-2.064) for {'learning_rate': 0.01, 'max_depth': 2, 'n_estimators': 170}\n",
      "   -2.720 (+/-1.760) for {'learning_rate': 0.01, 'max_depth': 2, 'n_estimators': 180}\n",
      "   -1.591 (+/-1.293) for {'learning_rate': 0.01, 'max_depth': 2, 'n_estimators': 200}\n",
      "   -0.832 (+/-0.961) for {'learning_rate': 0.01, 'max_depth': 2, 'n_estimators': 220}\n",
      "   -8.555 (+/-3.807) for {'learning_rate': 0.01, 'max_depth': 3, 'n_estimators': 130}\n",
      "   -5.485 (+/-2.690) for {'learning_rate': 0.01, 'max_depth': 3, 'n_estimators': 150}\n",
      "   -3.434 (+/-1.931) for {'learning_rate': 0.01, 'max_depth': 3, 'n_estimators': 170}\n",
      "   -2.677 (+/-1.644) for {'learning_rate': 0.01, 'max_depth': 3, 'n_estimators': 180}\n",
      "   -1.547 (+/-1.200) for {'learning_rate': 0.01, 'max_depth': 3, 'n_estimators': 200}\n",
      "   -0.787 (+/-0.887) for {'learning_rate': 0.01, 'max_depth': 3, 'n_estimators': 220}\n",
      "   -8.555 (+/-3.713) for {'learning_rate': 0.01, 'max_depth': 4, 'n_estimators': 130}\n",
      "   -5.485 (+/-2.616) for {'learning_rate': 0.01, 'max_depth': 4, 'n_estimators': 150}\n",
      "   -3.429 (+/-1.865) for {'learning_rate': 0.01, 'max_depth': 4, 'n_estimators': 170}\n",
      "   -2.670 (+/-1.583) for {'learning_rate': 0.01, 'max_depth': 4, 'n_estimators': 180}\n",
      "   -1.539 (+/-1.143) for {'learning_rate': 0.01, 'max_depth': 4, 'n_estimators': 200}\n",
      "   -0.781 (+/-0.835) for {'learning_rate': 0.01, 'max_depth': 4, 'n_estimators': 220}\n",
      "   -8.557 (+/-3.715) for {'learning_rate': 0.01, 'max_depth': 5, 'n_estimators': 130}\n",
      "   -5.485 (+/-2.614) for {'learning_rate': 0.01, 'max_depth': 5, 'n_estimators': 150}\n",
      "   -3.428 (+/-1.853) for {'learning_rate': 0.01, 'max_depth': 5, 'n_estimators': 170}\n",
      "   -2.670 (+/-1.567) for {'learning_rate': 0.01, 'max_depth': 5, 'n_estimators': 180}\n",
      "   -1.540 (+/-1.128) for {'learning_rate': 0.01, 'max_depth': 5, 'n_estimators': 200}\n",
      "   -0.781 (+/-0.821) for {'learning_rate': 0.01, 'max_depth': 5, 'n_estimators': 220}\n",
      "------ End All Results ------- \n"
     ]
    }
   ],
   "source": [
    "# print all results \n",
    "print(\"------ All Results ------- \")\n",
    "means = grid.cv_results_['mean_test_score']\n",
    "stds = grid.cv_results_['std_test_score']\n",
    "for mean, std, params in zip(means, stds, grid.cv_results_['params']):\n",
    "    print(\"   %0.3f (+/-%0.03f) for %r\" % (mean, std * 2, params))\n",
    "print(\"------ End All Results ------- \")"
   ]
  },
  {
   "cell_type": "code",
   "execution_count": 14,
   "metadata": {},
   "outputs": [
    {
     "name": "stdout",
     "output_type": "stream",
     "text": [
      "Best Hyperparameters:  {'learning_rate': 0.05, 'max_depth': 5, 'n_estimators': 150}\n",
      "Best Score:  0.8044247093437897\n"
     ]
    }
   ],
   "source": [
    "# best hyperparameters and score\n",
    "print(\"Best Hyperparameters: \", grid.best_params_)\n",
    "print(\"Best Score: \", grid.best_score_) "
   ]
  },
  {
   "cell_type": "code",
   "execution_count": 15,
   "metadata": {},
   "outputs": [
    {
     "data": {
      "text/plain": [
       "XGBRegressor(base_score=0.5, booster='gbtree', callbacks=None,\n",
       "             colsample_bylevel=1, colsample_bynode=1, colsample_bytree=1,\n",
       "             early_stopping_rounds=None, enable_categorical=False,\n",
       "             eval_metric=None, gamma=0, gpu_id=-1, grow_policy='depthwise',\n",
       "             importance_type=None, interaction_constraints='',\n",
       "             learning_rate=0.05, max_bin=256, max_cat_to_onehot=4,\n",
       "             max_delta_step=0, max_depth=5, max_leaves=0, min_child_weight=1,\n",
       "             missing=nan, monotone_constraints='()', n_estimators=150, n_jobs=0,\n",
       "             num_parallel_tree=1, predictor='auto', random_state=0, reg_alpha=0,\n",
       "             reg_lambda=1, ...)"
      ]
     },
     "execution_count": 15,
     "metadata": {},
     "output_type": "execute_result"
    }
   ],
   "source": [
    "# train model using best hyperparameters\n",
    "best_model = grid.best_estimator_\n",
    "best_model.fit(X_train, y_train)"
   ]
  },
  {
   "cell_type": "code",
   "execution_count": 16,
   "metadata": {},
   "outputs": [],
   "source": [
    "# predictions on test data \n",
    "y_pred = best_model.predict(X_test)"
   ]
  },
  {
   "cell_type": "code",
   "execution_count": 23,
   "metadata": {},
   "outputs": [
    {
     "name": "stdout",
     "output_type": "stream",
     "text": [
      "Mean Absolute Error: 328.13\n",
      "Mean Squared Error: 209791.86\n",
      "Root Mean Squared Error: 458.03\n"
     ]
    }
   ],
   "source": [
    "# print model performance\n",
    "mae = mean_absolute_error(y_test, y_pred)\n",
    "mse = mean_squared_error(y_test, y_pred)\n",
    "rmse = np.sqrt(mse)\n",
    "# accuracy = accuracy_score(y_test, y_pred)\n",
    "\n",
    "print(\"Mean Absolute Error: {:.2f}\".format(mae))\n",
    "print(\"Mean Squared Error: {:.2f}\".format(mse))\n",
    "print(\"Root Mean Squared Error: {:.2f}\".format(rmse))\n",
    "# print(\"Accuracy: {:.2f}\".format(accuracy)) "
   ]
  },
  {
   "attachments": {},
   "cell_type": "markdown",
   "metadata": {},
   "source": [
    "#### Plot Accuracy"
   ]
  },
  {
   "cell_type": "code",
   "execution_count": 24,
   "metadata": {},
   "outputs": [],
   "source": [
    "import matplotlib.pyplot as plt \n",
    "import matplotlib.dates as mdates"
   ]
  },
  {
   "cell_type": "code",
   "execution_count": 25,
   "metadata": {},
   "outputs": [],
   "source": [
    "df_lim = data[data[\"YEAR\"]==2022]\n",
    "df_lim = df_lim.tail(len(df_lim) - window_size)"
   ]
  },
  {
   "cell_type": "code",
   "execution_count": 26,
   "metadata": {},
   "outputs": [],
   "source": [
    "Date = df_lim.DATE\n",
    "Demand = df_lim.TOTALDEMAND\n",
    "Pred = df_lim['Prediction'] = y_pred"
   ]
  },
  {
   "cell_type": "code",
   "execution_count": 27,
   "metadata": {},
   "outputs": [
    {
     "data": {
      "image/png": "[encoded data removed]",
      "text/plain": [
       "<Figure size 1440x360 with 1 Axes>"
      ]
     },
     "metadata": {
      "needs_background": "light"
     },
     "output_type": "display_data"
    }
   ],
   "source": [
    "fig, ax = plt.subplots(figsize=(20,5))\n",
    "pred = ax.plot(Date, Pred, linewidth=1, color='red')\n",
    "true = ax.plot(Date, Demand, linewidth=1, color='green')\n",
    "ax.legend([pred, true], labels=[\"pred\", \"true\"])\n",
    "ax.set_title(\"True Values vs Predicted Values by Date - Day-Ahead Horizon for 2022\")\n",
    "ax.xaxis.set_major_locator(mdates.MonthLocator())\n",
    "ax.xaxis.set_major_formatter(mdates.DateFormatter('%b'))\n",
    "plt.show()"
   ]
  },
  {
   "cell_type": "code",
   "execution_count": null,
   "metadata": {},
   "outputs": [],
   "source": []
  },
  {
   "cell_type": "code",
   "execution_count": null,
   "metadata": {},
   "outputs": [],
   "source": []
  },
  {
   "cell_type": "code",
   "execution_count": null,
   "metadata": {},
   "outputs": [],
   "source": []
  }
 ],
 "metadata": {
  "kernelspec": {
   "display_name": "Python 3",
   "language": "python",
   "name": "python3"
  },
  "language_info": {
   "codemirror_mode": {
    "name": "ipython",
    "version": 3
   },
   "file_extension": ".py",
   "mimetype": "text/x-python",
   "name": "python",
   "nbconvert_exporter": "python",
   "pygments_lexer": "ipython3",
   "version": "3.8.12"
  }
 },
 "nbformat": 4,
 "nbformat_minor": 2
}

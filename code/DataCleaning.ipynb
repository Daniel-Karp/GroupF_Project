{
 "cells": [
  {
   "cell_type": "code",
   "execution_count": 39,
   "metadata": {},
   "outputs": [],
   "source": [
    "import pandas as pd\n",
    "import os\n",
    "import datetime as dt"
   ]
  },
  {
   "cell_type": "code",
   "execution_count": 40,
   "metadata": {},
   "outputs": [],
   "source": [
    "path = r\"C:\\Users\\Carl\\Desktop\\UNSW Capstone Project\\Data\""
   ]
  },
  {
   "cell_type": "markdown",
   "metadata": {},
   "source": [
    "#### Total Demand"
   ]
  },
  {
   "cell_type": "code",
   "execution_count": 78,
   "metadata": {},
   "outputs": [],
   "source": [
    "totalDemand = pd.read_csv(path+r\"\\totaldemand_nsw.csv\")"
   ]
  },
  {
   "cell_type": "code",
   "execution_count": 81,
   "metadata": {},
   "outputs": [
    {
     "data": {
      "text/html": [
       "<div>\n",
       "<style scoped>\n",
       "    .dataframe tbody tr th:only-of-type {\n",
       "        vertical-align: middle;\n",
       "    }\n",
       "\n",
       "    .dataframe tbody tr th {\n",
       "        vertical-align: top;\n",
       "    }\n",
       "\n",
       "    .dataframe thead th {\n",
       "        text-align: right;\n",
       "    }\n",
       "</style>\n",
       "<table border=\"1\" class=\"dataframe\">\n",
       "  <thead>\n",
       "    <tr style=\"text-align: right;\">\n",
       "      <th></th>\n",
       "      <th>DATETIME</th>\n",
       "      <th>REGIONID</th>\n",
       "      <th>TOTALDEMAND</th>\n",
       "    </tr>\n",
       "  </thead>\n",
       "  <tbody>\n",
       "    <tr>\n",
       "      <th>0</th>\n",
       "      <td>2010-01-01 00:00:00</td>\n",
       "      <td>NSW1</td>\n",
       "      <td>7997.41</td>\n",
       "    </tr>\n",
       "    <tr>\n",
       "      <th>1</th>\n",
       "      <td>2010-01-01 00:05:00</td>\n",
       "      <td>NSW1</td>\n",
       "      <td>7946.51</td>\n",
       "    </tr>\n",
       "    <tr>\n",
       "      <th>2</th>\n",
       "      <td>2010-01-01 00:10:00</td>\n",
       "      <td>NSW1</td>\n",
       "      <td>7921.55</td>\n",
       "    </tr>\n",
       "    <tr>\n",
       "      <th>3</th>\n",
       "      <td>2010-01-01 00:15:00</td>\n",
       "      <td>NSW1</td>\n",
       "      <td>7837.84</td>\n",
       "    </tr>\n",
       "    <tr>\n",
       "      <th>4</th>\n",
       "      <td>2010-01-01 00:20:00</td>\n",
       "      <td>NSW1</td>\n",
       "      <td>7781.11</td>\n",
       "    </tr>\n",
       "  </tbody>\n",
       "</table>\n",
       "</div>"
      ],
      "text/plain": [
       "              DATETIME REGIONID  TOTALDEMAND\n",
       "0  2010-01-01 00:00:00     NSW1      7997.41\n",
       "1  2010-01-01 00:05:00     NSW1      7946.51\n",
       "2  2010-01-01 00:10:00     NSW1      7921.55\n",
       "3  2010-01-01 00:15:00     NSW1      7837.84\n",
       "4  2010-01-01 00:20:00     NSW1      7781.11"
      ]
     },
     "execution_count": 81,
     "metadata": {},
     "output_type": "execute_result"
    }
   ],
   "source": [
    "totalDemand.head()"
   ]
  },
  {
   "cell_type": "code",
   "execution_count": 91,
   "metadata": {},
   "outputs": [],
   "source": [
    "totalDemand['DATETIME'] = pd.to_datetime(totalDemand['DATETIME'])"
   ]
  },
  {
   "cell_type": "code",
   "execution_count": null,
   "metadata": {},
   "outputs": [],
   "source": [
    "print(min(totalDemand.DATETIME), max(totalDemand.DATETIME))"
   ]
  },
  {
   "cell_type": "code",
   "execution_count": 44,
   "metadata": {},
   "outputs": [
    {
     "data": {
      "text/plain": [
       "DATETIME       datetime64[ns]\n",
       "REGIONID               object\n",
       "TOTALDEMAND           float64\n",
       "dtype: object"
      ]
     },
     "execution_count": 44,
     "metadata": {},
     "output_type": "execute_result"
    }
   ],
   "source": [
    "totalDemand.dtypes"
   ]
  },
  {
   "cell_type": "code",
   "execution_count": 45,
   "metadata": {},
   "outputs": [
    {
     "data": {
      "text/plain": [
       "1323398"
      ]
     },
     "execution_count": 45,
     "metadata": {},
     "output_type": "execute_result"
    }
   ],
   "source": [
    "len(totalDemand)"
   ]
  },
  {
   "cell_type": "code",
   "execution_count": 46,
   "metadata": {},
   "outputs": [
    {
     "data": {
      "text/plain": [
       "DATETIME       0\n",
       "REGIONID       0\n",
       "TOTALDEMAND    0\n",
       "dtype: int64"
      ]
     },
     "execution_count": 46,
     "metadata": {},
     "output_type": "execute_result"
    }
   ],
   "source": [
    "totalDemand.isna().sum()"
   ]
  },
  {
   "cell_type": "code",
   "execution_count": 47,
   "metadata": {},
   "outputs": [
    {
     "data": {
      "text/plain": [
       "array(['NSW1'], dtype=object)"
      ]
     },
     "execution_count": 47,
     "metadata": {},
     "output_type": "execute_result"
    }
   ],
   "source": [
    "totalDemand.REGIONID.unique()"
   ]
  },
  {
   "cell_type": "markdown",
   "metadata": {},
   "source": [
    "#### Temperature"
   ]
  },
  {
   "cell_type": "code",
   "execution_count": 79,
   "metadata": {},
   "outputs": [],
   "source": [
    "temperature = pd.read_csv(path+r\"\\temperature_nsw.csv\")"
   ]
  },
  {
   "cell_type": "code",
   "execution_count": 82,
   "metadata": {},
   "outputs": [
    {
     "data": {
      "text/html": [
       "<div>\n",
       "<style scoped>\n",
       "    .dataframe tbody tr th:only-of-type {\n",
       "        vertical-align: middle;\n",
       "    }\n",
       "\n",
       "    .dataframe tbody tr th {\n",
       "        vertical-align: top;\n",
       "    }\n",
       "\n",
       "    .dataframe thead th {\n",
       "        text-align: right;\n",
       "    }\n",
       "</style>\n",
       "<table border=\"1\" class=\"dataframe\">\n",
       "  <thead>\n",
       "    <tr style=\"text-align: right;\">\n",
       "      <th></th>\n",
       "      <th>DATETIME</th>\n",
       "      <th>LOCATION</th>\n",
       "      <th>TEMPERATURE</th>\n",
       "    </tr>\n",
       "  </thead>\n",
       "  <tbody>\n",
       "    <tr>\n",
       "      <th>0</th>\n",
       "      <td>2010-01-01 00:00:00</td>\n",
       "      <td>94766.0</td>\n",
       "      <td>23.1</td>\n",
       "    </tr>\n",
       "    <tr>\n",
       "      <th>1</th>\n",
       "      <td>2010-01-01 00:01:00</td>\n",
       "      <td>94766.0</td>\n",
       "      <td>23.1</td>\n",
       "    </tr>\n",
       "    <tr>\n",
       "      <th>2</th>\n",
       "      <td>2010-01-01 00:30:00</td>\n",
       "      <td>94766.0</td>\n",
       "      <td>22.9</td>\n",
       "    </tr>\n",
       "    <tr>\n",
       "      <th>3</th>\n",
       "      <td>2010-01-01 00:50:00</td>\n",
       "      <td>94766.0</td>\n",
       "      <td>22.7</td>\n",
       "    </tr>\n",
       "    <tr>\n",
       "      <th>4</th>\n",
       "      <td>2010-01-01 01:00:00</td>\n",
       "      <td>94766.0</td>\n",
       "      <td>22.6</td>\n",
       "    </tr>\n",
       "  </tbody>\n",
       "</table>\n",
       "</div>"
      ],
      "text/plain": [
       "              DATETIME  LOCATION  TEMPERATURE\n",
       "0  2010-01-01 00:00:00   94766.0         23.1\n",
       "1  2010-01-01 00:01:00   94766.0         23.1\n",
       "2  2010-01-01 00:30:00   94766.0         22.9\n",
       "3  2010-01-01 00:50:00   94766.0         22.7\n",
       "4  2010-01-01 01:00:00   94766.0         22.6"
      ]
     },
     "execution_count": 82,
     "metadata": {},
     "output_type": "execute_result"
    }
   ],
   "source": [
    "temperature.head()"
   ]
  },
  {
   "cell_type": "code",
   "execution_count": 90,
   "metadata": {
    "scrolled": true
   },
   "outputs": [],
   "source": [
    "temperature['DATETIME'] = pd.to_datetime(temperature['DATETIME'])"
   ]
  },
  {
   "cell_type": "code",
   "execution_count": null,
   "metadata": {},
   "outputs": [],
   "source": [
    "print(min(temperature.DATETIME), max(temperature.DATETIME))"
   ]
  },
  {
   "cell_type": "code",
   "execution_count": 51,
   "metadata": {},
   "outputs": [
    {
     "data": {
      "text/plain": [
       "DATETIME       datetime64[ns]\n",
       "LOCATION              float64\n",
       "TEMPERATURE           float64\n",
       "dtype: object"
      ]
     },
     "execution_count": 51,
     "metadata": {},
     "output_type": "execute_result"
    }
   ],
   "source": [
    "temperature.dtypes"
   ]
  },
  {
   "cell_type": "code",
   "execution_count": 52,
   "metadata": {},
   "outputs": [
    {
     "data": {
      "text/plain": [
       "247646"
      ]
     },
     "execution_count": 52,
     "metadata": {},
     "output_type": "execute_result"
    }
   ],
   "source": [
    "len(temperature)"
   ]
  },
  {
   "cell_type": "code",
   "execution_count": 53,
   "metadata": {},
   "outputs": [
    {
     "data": {
      "text/plain": [
       "DATETIME       0\n",
       "LOCATION       0\n",
       "TEMPERATURE    0\n",
       "dtype: int64"
      ]
     },
     "execution_count": 53,
     "metadata": {},
     "output_type": "execute_result"
    }
   ],
   "source": [
    "temperature.isna().sum()"
   ]
  },
  {
   "cell_type": "code",
   "execution_count": 54,
   "metadata": {},
   "outputs": [
    {
     "data": {
      "text/plain": [
       "array([94766.])"
      ]
     },
     "execution_count": 54,
     "metadata": {},
     "output_type": "execute_result"
    }
   ],
   "source": [
    "temperature.LOCATION.unique()"
   ]
  },
  {
   "cell_type": "markdown",
   "metadata": {},
   "source": [
    "#### Forecast Demand"
   ]
  },
  {
   "cell_type": "code",
   "execution_count": 80,
   "metadata": {},
   "outputs": [],
   "source": [
    "forecastDemand = pd.read_csv(path+r\"\\forecastdemand_nsw.csv\")"
   ]
  },
  {
   "cell_type": "code",
   "execution_count": 83,
   "metadata": {},
   "outputs": [
    {
     "data": {
      "text/html": [
       "<div>\n",
       "<style scoped>\n",
       "    .dataframe tbody tr th:only-of-type {\n",
       "        vertical-align: middle;\n",
       "    }\n",
       "\n",
       "    .dataframe tbody tr th {\n",
       "        vertical-align: top;\n",
       "    }\n",
       "\n",
       "    .dataframe thead th {\n",
       "        text-align: right;\n",
       "    }\n",
       "</style>\n",
       "<table border=\"1\" class=\"dataframe\">\n",
       "  <thead>\n",
       "    <tr style=\"text-align: right;\">\n",
       "      <th></th>\n",
       "      <th>DATETIME</th>\n",
       "      <th>REGIONID</th>\n",
       "      <th>FORECASTDEMAND</th>\n",
       "      <th>PREDISPATCHSEQNO</th>\n",
       "      <th>PERIODID</th>\n",
       "      <th>LASTCHANGED</th>\n",
       "    </tr>\n",
       "  </thead>\n",
       "  <tbody>\n",
       "    <tr>\n",
       "      <th>0</th>\n",
       "      <td>2010-01-01 00:00:00</td>\n",
       "      <td>NSW1</td>\n",
       "      <td>7832.04</td>\n",
       "      <td>2009123018</td>\n",
       "      <td>71</td>\n",
       "      <td>2009-12-30 12:31:49</td>\n",
       "    </tr>\n",
       "    <tr>\n",
       "      <th>1</th>\n",
       "      <td>2010-01-01 00:00:00</td>\n",
       "      <td>NSW1</td>\n",
       "      <td>7832.04</td>\n",
       "      <td>2009123019</td>\n",
       "      <td>70</td>\n",
       "      <td>2009-12-30 13:01:43</td>\n",
       "    </tr>\n",
       "    <tr>\n",
       "      <th>2</th>\n",
       "      <td>2010-01-01 00:00:00</td>\n",
       "      <td>NSW1</td>\n",
       "      <td>7832.03</td>\n",
       "      <td>2009123020</td>\n",
       "      <td>69</td>\n",
       "      <td>2009-12-30 13:31:36</td>\n",
       "    </tr>\n",
       "    <tr>\n",
       "      <th>3</th>\n",
       "      <td>2010-01-01 00:00:00</td>\n",
       "      <td>NSW1</td>\n",
       "      <td>7832.03</td>\n",
       "      <td>2009123021</td>\n",
       "      <td>68</td>\n",
       "      <td>2009-12-30 14:01:44</td>\n",
       "    </tr>\n",
       "    <tr>\n",
       "      <th>4</th>\n",
       "      <td>2010-01-01 00:00:00</td>\n",
       "      <td>NSW1</td>\n",
       "      <td>7830.96</td>\n",
       "      <td>2009123022</td>\n",
       "      <td>67</td>\n",
       "      <td>2009-12-30 14:31:35</td>\n",
       "    </tr>\n",
       "  </tbody>\n",
       "</table>\n",
       "</div>"
      ],
      "text/plain": [
       "              DATETIME REGIONID  FORECASTDEMAND  PREDISPATCHSEQNO  PERIODID  \\\n",
       "0  2010-01-01 00:00:00     NSW1         7832.04        2009123018        71   \n",
       "1  2010-01-01 00:00:00     NSW1         7832.04        2009123019        70   \n",
       "2  2010-01-01 00:00:00     NSW1         7832.03        2009123020        69   \n",
       "3  2010-01-01 00:00:00     NSW1         7832.03        2009123021        68   \n",
       "4  2010-01-01 00:00:00     NSW1         7830.96        2009123022        67   \n",
       "\n",
       "           LASTCHANGED  \n",
       "0  2009-12-30 12:31:49  \n",
       "1  2009-12-30 13:01:43  \n",
       "2  2009-12-30 13:31:36  \n",
       "3  2009-12-30 14:01:44  \n",
       "4  2009-12-30 14:31:35  "
      ]
     },
     "execution_count": 83,
     "metadata": {},
     "output_type": "execute_result"
    }
   ],
   "source": [
    "forecastDemand.head()"
   ]
  },
  {
   "cell_type": "code",
   "execution_count": 89,
   "metadata": {},
   "outputs": [],
   "source": [
    "forecastDemand['DATETIME'] = pd.to_datetime(forecastDemand['DATETIME'])\n",
    "forecastDemand['LASTCHANGED'] = pd.to_datetime(forecastDemand['LASTCHANGED'])"
   ]
  },
  {
   "cell_type": "code",
   "execution_count": 95,
   "metadata": {},
   "outputs": [
    {
     "name": "stdout",
     "output_type": "stream",
     "text": [
      "2010-01-01 00:00:00 2022-08-01 00:00:00\n",
      "2009-12-30 12:31:49 2022-07-31 23:31:52\n"
     ]
    }
   ],
   "source": [
    "print(min(forecastDemand.DATETIME), max(forecastDemand.DATETIME))\n",
    "print(min(forecastDemand.LASTCHANGED), max(forecastDemand.LASTCHANGED))"
   ]
  },
  {
   "cell_type": "code",
   "execution_count": 58,
   "metadata": {},
   "outputs": [
    {
     "data": {
      "text/plain": [
       "DATETIME            datetime64[ns]\n",
       "REGIONID                    object\n",
       "FORECASTDEMAND             float64\n",
       "PREDISPATCHSEQNO             int64\n",
       "PERIODID                     int64\n",
       "LASTCHANGED         datetime64[ns]\n",
       "dtype: object"
      ]
     },
     "execution_count": 58,
     "metadata": {},
     "output_type": "execute_result"
    }
   ],
   "source": [
    "forecastDemand.dtypes"
   ]
  },
  {
   "cell_type": "code",
   "execution_count": 59,
   "metadata": {},
   "outputs": [
    {
     "data": {
      "text/plain": [
       "11619503"
      ]
     },
     "execution_count": 59,
     "metadata": {},
     "output_type": "execute_result"
    }
   ],
   "source": [
    "len(forecastDemand)"
   ]
  },
  {
   "cell_type": "code",
   "execution_count": 60,
   "metadata": {},
   "outputs": [
    {
     "data": {
      "text/plain": [
       "DATETIME            0\n",
       "REGIONID            0\n",
       "FORECASTDEMAND      0\n",
       "PREDISPATCHSEQNO    0\n",
       "PERIODID            0\n",
       "LASTCHANGED         0\n",
       "dtype: int64"
      ]
     },
     "execution_count": 60,
     "metadata": {},
     "output_type": "execute_result"
    }
   ],
   "source": [
    "forecastDemand.isna().sum()"
   ]
  },
  {
   "cell_type": "code",
   "execution_count": 61,
   "metadata": {},
   "outputs": [
    {
     "data": {
      "text/plain": [
       "79"
      ]
     },
     "execution_count": 61,
     "metadata": {},
     "output_type": "execute_result"
    }
   ],
   "source": [
    "forecastDemand.PERIODID.max()"
   ]
  },
  {
   "cell_type": "markdown",
   "metadata": {},
   "source": [
    "#### Energy Prices and Demand"
   ]
  },
  {
   "cell_type": "code",
   "execution_count": 84,
   "metadata": {},
   "outputs": [],
   "source": [
    "wd = path + r\"\\Prices\"\n",
    "files = os.listdir(wd)"
   ]
  },
  {
   "cell_type": "code",
   "execution_count": 85,
   "metadata": {},
   "outputs": [
    {
     "name": "stdout",
     "output_type": "stream",
     "text": [
      "Merged 152 files\n"
     ]
    }
   ],
   "source": [
    "prices = pd.DataFrame([])\n",
    "file_count = 0\n",
    "for file in files:\n",
    "    file_df = pd.read_csv(wd + \"\\\\\" + file)\n",
    "    prices = prices.append(file_df, ignore_index=True)\n",
    "    file_count += 1\n",
    "print(\"Merged\", file_count, \"files\")"
   ]
  },
  {
   "cell_type": "code",
   "execution_count": 86,
   "metadata": {},
   "outputs": [
    {
     "data": {
      "text/html": [
       "<div>\n",
       "<style scoped>\n",
       "    .dataframe tbody tr th:only-of-type {\n",
       "        vertical-align: middle;\n",
       "    }\n",
       "\n",
       "    .dataframe tbody tr th {\n",
       "        vertical-align: top;\n",
       "    }\n",
       "\n",
       "    .dataframe thead th {\n",
       "        text-align: right;\n",
       "    }\n",
       "</style>\n",
       "<table border=\"1\" class=\"dataframe\">\n",
       "  <thead>\n",
       "    <tr style=\"text-align: right;\">\n",
       "      <th></th>\n",
       "      <th>REGION</th>\n",
       "      <th>SETTLEMENTDATE</th>\n",
       "      <th>TOTALDEMAND</th>\n",
       "      <th>RRP</th>\n",
       "      <th>PERIODTYPE</th>\n",
       "    </tr>\n",
       "  </thead>\n",
       "  <tbody>\n",
       "    <tr>\n",
       "      <th>0</th>\n",
       "      <td>NSW1</td>\n",
       "      <td>2010/01/01 00:30:00</td>\n",
       "      <td>7809.31</td>\n",
       "      <td>21.50</td>\n",
       "      <td>TRADE</td>\n",
       "    </tr>\n",
       "    <tr>\n",
       "      <th>1</th>\n",
       "      <td>NSW1</td>\n",
       "      <td>2010/01/01 01:00:00</td>\n",
       "      <td>7483.69</td>\n",
       "      <td>20.98</td>\n",
       "      <td>TRADE</td>\n",
       "    </tr>\n",
       "    <tr>\n",
       "      <th>2</th>\n",
       "      <td>NSW1</td>\n",
       "      <td>2010/01/01 01:30:00</td>\n",
       "      <td>7117.23</td>\n",
       "      <td>20.06</td>\n",
       "      <td>TRADE</td>\n",
       "    </tr>\n",
       "    <tr>\n",
       "      <th>3</th>\n",
       "      <td>NSW1</td>\n",
       "      <td>2010/01/01 02:00:00</td>\n",
       "      <td>6812.03</td>\n",
       "      <td>17.93</td>\n",
       "      <td>TRADE</td>\n",
       "    </tr>\n",
       "    <tr>\n",
       "      <th>4</th>\n",
       "      <td>NSW1</td>\n",
       "      <td>2010/01/01 02:30:00</td>\n",
       "      <td>6544.33</td>\n",
       "      <td>17.43</td>\n",
       "      <td>TRADE</td>\n",
       "    </tr>\n",
       "  </tbody>\n",
       "</table>\n",
       "</div>"
      ],
      "text/plain": [
       "  REGION       SETTLEMENTDATE  TOTALDEMAND    RRP PERIODTYPE\n",
       "0   NSW1  2010/01/01 00:30:00      7809.31  21.50      TRADE\n",
       "1   NSW1  2010/01/01 01:00:00      7483.69  20.98      TRADE\n",
       "2   NSW1  2010/01/01 01:30:00      7117.23  20.06      TRADE\n",
       "3   NSW1  2010/01/01 02:00:00      6812.03  17.93      TRADE\n",
       "4   NSW1  2010/01/01 02:30:00      6544.33  17.43      TRADE"
      ]
     },
     "execution_count": 86,
     "metadata": {},
     "output_type": "execute_result"
    }
   ],
   "source": [
    "prices.head()"
   ]
  },
  {
   "cell_type": "code",
   "execution_count": 88,
   "metadata": {},
   "outputs": [],
   "source": [
    "prices['SETTLEMENTDATE'] = pd.to_datetime(prices['SETTLEMENTDATE'])"
   ]
  },
  {
   "cell_type": "code",
   "execution_count": null,
   "metadata": {},
   "outputs": [],
   "source": [
    "print(min(prices.SETTLEMENTDATE), max(prices.SETTLEMENTDATE))"
   ]
  },
  {
   "cell_type": "code",
   "execution_count": 65,
   "metadata": {},
   "outputs": [
    {
     "data": {
      "text/plain": [
       "REGION             object\n",
       "SETTLEMENTDATE     object\n",
       "TOTALDEMAND       float64\n",
       "RRP               float64\n",
       "PERIODTYPE         object\n",
       "dtype: object"
      ]
     },
     "execution_count": 65,
     "metadata": {},
     "output_type": "execute_result"
    }
   ],
   "source": [
    "prices.dtypes"
   ]
  },
  {
   "cell_type": "code",
   "execution_count": 72,
   "metadata": {},
   "outputs": [
    {
     "data": {
      "text/plain": [
       "302448"
      ]
     },
     "execution_count": 72,
     "metadata": {},
     "output_type": "execute_result"
    }
   ],
   "source": [
    "len(prices)"
   ]
  },
  {
   "cell_type": "code",
   "execution_count": 67,
   "metadata": {},
   "outputs": [
    {
     "data": {
      "text/plain": [
       "REGION            0\n",
       "SETTLEMENTDATE    0\n",
       "TOTALDEMAND       0\n",
       "RRP               0\n",
       "PERIODTYPE        0\n",
       "dtype: int64"
      ]
     },
     "execution_count": 67,
     "metadata": {},
     "output_type": "execute_result"
    }
   ],
   "source": [
    "prices.isna().sum()"
   ]
  },
  {
   "cell_type": "code",
   "execution_count": 69,
   "metadata": {},
   "outputs": [
    {
     "data": {
      "text/plain": [
       "array(['TRADE'], dtype=object)"
      ]
     },
     "execution_count": 69,
     "metadata": {},
     "output_type": "execute_result"
    }
   ],
   "source": [
    "prices.PERIODTYPE.unique()"
   ]
  },
  {
   "cell_type": "markdown",
   "metadata": {},
   "source": [
    "#### Calculated Columns"
   ]
  },
  {
   "cell_type": "code",
   "execution_count": 92,
   "metadata": {},
   "outputs": [],
   "source": [
    "totalDemand[\"DATE\"] = totalDemand[\"DATETIME\"].dt.date\n",
    "forecastDemand[\"DATE\"] = forecastDemand[\"DATETIME\"].dt.date\n",
    "temperature[\"DATE\"] = temperature[\"DATETIME\"].dt.date\n",
    "prices[\"DATE\"] = prices[\"SETTLEMENTDATE\"].dt.date"
   ]
  },
  {
   "cell_type": "markdown",
   "metadata": {},
   "source": [
    "#### Remove redundant columns"
   ]
  },
  {
   "cell_type": "code",
   "execution_count": 93,
   "metadata": {},
   "outputs": [],
   "source": [
    "totalDemand = totalDemand.drop(columns=[\"REGIONID\"])\n",
    "forecastDemand = forecastDemand.drop(columns=[\"REGIONID\"])\n",
    "temperature = temperature.drop(columns=[\"LOCATION\"])\n",
    "prices = prices.drop(columns=[\"REGION\",\"PERIODTYPE\"])"
   ]
  },
  {
   "cell_type": "markdown",
   "metadata": {},
   "source": [
    "#### Merge Datasets\n",
    "\n",
    "Need to look at aggregating datasets on DATE\n",
    "* totalDemand: aggregate every X number of hours (DATETIME), each aggregate as a column (e.g. 00-06, 06-12, 12-18, 18-00)\n",
    "* forecastDemand: aggregate every X number of hours (LAST CHANGED), each aggregate as a column (see above)\n",
    "* temperature: aggregate every X number of hours (DATETIME), each aggregate as a column (see above)\n",
    "* prices: aggregate every X number of hours (SETTLEMENTDATE), each aggregate as a column (see above)"
   ]
  },
  {
   "cell_type": "code",
   "execution_count": 96,
   "metadata": {},
   "outputs": [],
   "source": [
    "# df = forecastDemand.merge(temperature, on='DATE')\n",
    "# df = df.merge(totalDemand, on='DATE')\n",
    "# df = df.merge(prices, on=\"DATE\")\n",
    "# df"
   ]
  }
 ],
 "metadata": {
  "kernelspec": {
   "display_name": "Python 3",
   "language": "python",
   "name": "python3"
  },
  "language_info": {
   "codemirror_mode": {
    "name": "ipython",
    "version": 3
   },
   "file_extension": ".py",
   "mimetype": "text/x-python",
   "name": "python",
   "nbconvert_exporter": "python",
   "pygments_lexer": "ipython3",
   "version": "3.7.3"
  }
 },
 "nbformat": 4,
 "nbformat_minor": 2
}
